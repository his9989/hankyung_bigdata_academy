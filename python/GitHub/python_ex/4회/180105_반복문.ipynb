{
 "cells": [
  {
   "cell_type": "markdown",
   "metadata": {},
   "source": [
    "# while 반복문"
   ]
  },
  {
   "cell_type": "code",
   "execution_count": null,
   "metadata": {
    "collapsed": true
   },
   "outputs": [],
   "source": [
    "a=1\n",
    "while a<=5:\n",
    "    print(a)\n",
    "    a+=1"
   ]
  },
  {
   "cell_type": "code",
   "execution_count": null,
   "metadata": {
    "collapsed": true
   },
   "outputs": [],
   "source": [
    "sum1=0\n",
    "a=1\n",
    "while a<=10:\n",
    "    sum1+=a\n",
    "    a+=1\n",
    "print(sum1)"
   ]
  },
  {
   "cell_type": "code",
   "execution_count": null,
   "metadata": {},
   "outputs": [],
   "source": [
    "sum1=0\n",
    "a=10\n",
    "while a<=88888:\n",
    "    sum1+=a\n",
    "    a+=1\n",
    "print(sum1)"
   ]
  },
  {
   "cell_type": "code",
   "execution_count": null,
   "metadata": {
    "collapsed": true
   },
   "outputs": [],
   "source": [
    "while True:\n",
    "    num=int(input(\"번호를 입력하시오, 종료시 0을 입력하시오 : \"))\n",
    "    if num!=0:\n",
    "        print(num)\n",
    "    elif num==0:\n",
    "        print(\"%d가 입력되어 종료됩니다.\" %num)\n",
    "        break"
   ]
  },
  {
   "cell_type": "code",
   "execution_count": null,
   "metadata": {
    "collapsed": true
   },
   "outputs": [],
   "source": [
    "while True:\n",
    "    ID = input(\"아이디를 입력하시오 : \")\n",
    "    PW = input(\"비밀번호를 입력하시오 : \")\n",
    "    if (ID == '한인수') and (PW == '1234'):\n",
    "        print (\"로그인 되었습니다. \")\n",
    "        break\n",
    "    else:\n",
    "        print (\"ID 혹은 PW를 확인하십시오\")"
   ]
  },
  {
   "cell_type": "code",
   "execution_count": null,
   "metadata": {
    "collapsed": true
   },
   "outputs": [],
   "source": [
    "while True:\n",
    "    ID = input(\"ID = \")\n",
    "    PW = input(\"PW = \")\n",
    "    \n",
    "    if(ID=='한인수') and (PW=='1234'):\n",
    "        print('로그인 완료')\n",
    "        continue\n",
    "    elif(ID=='종료'):\n",
    "        print('종료됩니다')\n",
    "        break\n",
    "    else:\n",
    "        print(\"ID or PW를 확인하십시오\")"
   ]
  },
  {
   "cell_type": "markdown",
   "metadata": {},
   "source": [
    "## 문제\n",
    "구구단을 출력하시오"
   ]
  },
  {
   "cell_type": "code",
   "execution_count": null,
   "metadata": {},
   "outputs": [],
   "source": [
    "i=2\n",
    "num=0\n",
    "while i<10:\n",
    "    j=1\n",
    "    while j<10:\n",
    "        num=i*j\n",
    "        print(\"%3d\" %num, end=\" \")\n",
    "        j+=1\n",
    "    print(\"\\n\")\n",
    "    i+=1"
   ]
  },
  {
   "cell_type": "code",
   "execution_count": 2,
   "metadata": {},
   "outputs": [
    {
     "name": "stdout",
     "output_type": "stream",
     "text": [
      "근무 시간을 입력하시오 : 15\n",
      "시간당 수당을 입력하시오 : 7500\n",
      "총 급여는 119250원입니다.\n"
     ]
    }
   ],
   "source": [
    "time = int(input(\"근무 시간을 입력하시오 : \"))\n",
    "price = int(input(\"시간당 수당을 입력하시오 : \"))\n",
    "if time>12:\n",
    "    time-=12\n",
    "    money=time*price*1.3+12*price\n",
    "    print(\"총 급여는 %d원입니다.\" %money)\n",
    "elif time<0:\n",
    "    print(\"근무 시간을 확인해주십시오..\")\n",
    "else:\n",
    "    money=time*price\n",
    "    print(\"총 급여는 %d원입니다.\" %money)"
   ]
  },
  {
   "cell_type": "code",
   "execution_count": null,
   "metadata": {},
   "outputs": [],
   "source": [
    "i=2\n",
    "num=0\n",
    "while i<10:\n",
    "    j=1\n",
    "    while j<10:\n",
    "        num=i*j\n",
    "        print(\"%3d\" %num, end=' ')\n",
    "        j+=1\n",
    "    print(\" \")\n",
    "    i+=1"
   ]
  },
  {
   "cell_type": "code",
   "execution_count": null,
   "metadata": {},
   "outputs": [],
   "source": [
    "time = int(input(\"근무시간을 입력하시오 : \"))\n",
    "price = int(input(\"시간당 수당을 입력하시오 : \"))\n",
    "\n",
    "if time<=12:\n",
    "    answer=time*price\n",
    "    print(\"총 급여는 %d원 입니다\" %answer)\n",
    "elif time>12:\n",
    "    time-=12\n",
    "    answer=12*price\n",
    "    answer2=time*price*0.3\n",
    "    answer+=answer2\n",
    "    print(\"총 급여는 %d원 입니다\" %answer)"
   ]
  },
  {
   "cell_type": "code",
   "execution_count": null,
   "metadata": {},
   "outputs": [],
   "source": [
    "num = int(input(\"정수를 입력하시오 : \"))\n",
    "max1=int(num/2)\n",
    "i=1\n",
    "num2=1\n",
    "while i<=max1:\n",
    "    if num%i==0:\n",
    "        print(i)\n",
    "        num2+=1\n",
    "    i+=1\n",
    "print(num)\n",
    "print(\"\\n{0}의 약수의 개수 : {1}\"\n",
    "     .format(num, num2))"
   ]
  },
  {
   "cell_type": "code",
   "execution_count": null,
   "metadata": {},
   "outputs": [],
   "source": [
    "num=0\n",
    "max1=int(input(\"정수를 입력하시오 : \"))\n",
    "while num<4:\n",
    "    number=int(input(\"정수를 입력하시오 : \"))\n",
    "    if max1<number:\n",
    "        max1=number\n",
    "    num+=1\n",
    "print(\"최대값은 %d입니다\" %max1)"
   ]
  },
  {
   "cell_type": "markdown",
   "metadata": {
    "collapsed": true
   },
   "source": [
    "# for문"
   ]
  },
  {
   "cell_type": "code",
   "execution_count": null,
   "metadata": {},
   "outputs": [],
   "source": [
    "list(range(5))"
   ]
  },
  {
   "cell_type": "code",
   "execution_count": null,
   "metadata": {
    "collapsed": true
   },
   "outputs": [],
   "source": [
    "aaa = list(range(10,20))\n",
    "a=list(range(10))\n",
    "b=list(range(3, 999, 300))"
   ]
  },
  {
   "cell_type": "code",
   "execution_count": null,
   "metadata": {},
   "outputs": [],
   "source": [
    "for x in [1,2,3,4,5]:\n",
    "    print(x)"
   ]
  },
  {
   "cell_type": "code",
   "execution_count": null,
   "metadata": {},
   "outputs": [],
   "source": [
    "for data in range(1, 10, 2):\n",
    "    print(data+1)"
   ]
  },
  {
   "cell_type": "code",
   "execution_count": null,
   "metadata": {},
   "outputs": [],
   "source": [
    "for i in [1,2,3,4,5]:\n",
    "    for j in [2,4,6,8,10]:\n",
    "        ans=i*j\n",
    "        print(\"%3d\" %ans, end=' ')\n",
    "        j+=1\n",
    "    print(\" \")\n",
    "    i+=1"
   ]
  },
  {
   "cell_type": "code",
   "execution_count": null,
   "metadata": {},
   "outputs": [],
   "source": [
    "for 문자 in '불타는 금요일입니다. 치맥!':\n",
    "    print(문자)"
   ]
  },
  {
   "cell_type": "code",
   "execution_count": null,
   "metadata": {},
   "outputs": [],
   "source": [
    "a='abcdf'\n",
    "a.upper()"
   ]
  },
  {
   "cell_type": "code",
   "execution_count": null,
   "metadata": {},
   "outputs": [],
   "source": [
    "for a in 'avcdef':\n",
    "    print(a.upper())"
   ]
  },
  {
   "cell_type": "code",
   "execution_count": null,
   "metadata": {},
   "outputs": [],
   "source": [
    "for x in range(1, 100, 2):\n",
    "    print(x, end=' ')"
   ]
  },
  {
   "cell_type": "code",
   "execution_count": null,
   "metadata": {},
   "outputs": [],
   "source": [
    "for dan in range(2, 10):\n",
    "    for n in range(1, 10):\n",
    "        print(\"%3d\" %(dan*n), end=' ')\n",
    "        n+=1\n",
    "    print()\n",
    "    dan+=1"
   ]
  },
  {
   "cell_type": "code",
   "execution_count": null,
   "metadata": {},
   "outputs": [],
   "source": [
    "score = {4:90, 2:80, 1:95, 5:88, 3:92}\n",
    "score"
   ]
  },
  {
   "cell_type": "code",
   "execution_count": null,
   "metadata": {},
   "outputs": [],
   "source": [
    "for x in score:\n",
    "    print(x)"
   ]
  },
  {
   "cell_type": "code",
   "execution_count": null,
   "metadata": {},
   "outputs": [],
   "source": [
    "for k, y in score.items():\n",
    "    print(\"key는 : \", k, end=' ')\n",
    "    print(\"values는 : \", y)"
   ]
  },
  {
   "cell_type": "code",
   "execution_count": null,
   "metadata": {},
   "outputs": [],
   "source": [
    "A = [x**2 for x in range(10)]\n",
    "print (A)\n",
    "B = [2**i for i in range(10)]\n",
    "print (B)"
   ]
  },
  {
   "cell_type": "code",
   "execution_count": null,
   "metadata": {},
   "outputs": [],
   "source": [
    "for i in range(10):\n",
    "    print (i, end = ' ')\n",
    "print()\n",
    "for j in range(0, 55, 5):\n",
    "    print (j, end = ' ')\n",
    "print()\n",
    "for k in range(10, 0, -1):\n",
    "    print (k, end = ' ')"
   ]
  },
  {
   "cell_type": "code",
   "execution_count": null,
   "metadata": {},
   "outputs": [],
   "source": [
    "score_list = []\n",
    "sum_num=0\n",
    "for i in range(5):\n",
    "    num=int(input(\"성적을 입력하시오 : \"))\n",
    "    score_list.append(num)\n",
    "    sum_num+=score_list[i]\n",
    "print(\"입력한 성적들 : \", score_list)\n",
    "max_num=score_list[0]\n",
    "min_num=score_list[0]\n",
    "for j in range(4):\n",
    "    if max_num<score_list[j+1]:\n",
    "        max_num=score_list[j+1]\n",
    "    elif min_num>score_list[j+1]:\n",
    "        min_num=score_list[j+1]\n",
    "    else:\n",
    "        continue\n",
    "    j+=1\n",
    "print(\"최고 성적 : \", max_num)\n",
    "print(\"최저 성적 : \", min_num)\n",
    "sum_num=sum_num/5\n",
    "print(\"평균 : %0.2f\"%sum_num)"
   ]
  },
  {
   "cell_type": "code",
   "execution_count": null,
   "metadata": {},
   "outputs": [],
   "source": [
    "score_1=[80, 90, 86]\n",
    "score_2=[78, 88, 85]\n",
    "score_3=[85, 85, 92]\n",
    "score_4=[70, 69, 65]\n",
    "score_5=[90, 95, 100]\n",
    "sum_num=0\n",
    "student_list = {1:score_1, 2:score_2, 3:score_3, 4:score_4, 5:score_5}\n",
    "student=list(student_list.values())\n",
    "for i in range(0,5):\n",
    "    for j in range(0,3) :\n",
    "        sum_num+=student[i][j]\n",
    "    print(\"{0}번 : {1}\"\n",
    "         .format(i, sum_num/3))"
   ]
  },
  {
   "cell_type": "code",
   "execution_count": null,
   "metadata": {
    "collapsed": true
   },
   "outputs": [],
   "source": [
    "score_1=[80, 90, 86]\n",
    "score_2=[78, 88, 85]\n",
    "score_3=[85, 85, 92]\n",
    "score_4=[70, 69, 65]\n",
    "score_5=[90, 95, 100]\n",
    "sum_num=0\n",
    "student = {1:score_1, 2:score_2, 3:score_3, 4:score_4, 5:score_5}"
   ]
  },
  {
   "cell_type": "code",
   "execution_count": null,
   "metadata": {},
   "outputs": [],
   "source": [
    "student_list = {1:score_1, 2:score_2, 3:score_3, 4:score_4, 5:score_5}\n",
    "student=list(student_list.values())\n",
    "for i in range(1, 6):\n",
    "    "
   ]
  },
  {
   "cell_type": "code",
   "execution_count": null,
   "metadata": {
    "collapsed": true
   },
   "outputs": [],
   "source": []
  }
 ],
 "metadata": {
  "kernelspec": {
   "display_name": "Python 3",
   "language": "python",
   "name": "python3"
  },
  "language_info": {
   "codemirror_mode": {
    "name": "ipython",
    "version": 3
   },
   "file_extension": ".py",
   "mimetype": "text/x-python",
   "name": "python",
   "nbconvert_exporter": "python",
   "pygments_lexer": "ipython3",
   "version": "3.6.1"
  }
 },
 "nbformat": 4,
 "nbformat_minor": 2
}
