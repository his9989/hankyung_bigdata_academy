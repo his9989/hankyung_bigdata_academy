{
 "cells": [
  {
   "cell_type": "markdown",
   "metadata": {},
   "source": [
    "[데이터 사이언스가 핫한 이유-권재명 인터뷰](https://youtu.be/dZZfDj_ieEU)\n",
    "\n",
    "---"
   ]
  },
  {
   "cell_type": "markdown",
   "metadata": {},
   "source": [
    "# 0. 도구 선택하기에 앞서!"
   ]
  },
  {
   "cell_type": "markdown",
   "metadata": {},
   "source": [
    "> 장인은 도구를 가리지 않는다."
   ]
  },
  {
   "cell_type": "markdown",
   "metadata": {},
   "source": [
    "데이터 분석은 다양한 능력이 필요하다  \n",
    "데이터 과학 = 컴퓨터 지식 + 수학,통계 지식 + 전문지식  \n",
    "\n",
    "앞에서 말하는 도구는 바로 컴퓨터 사용법이다.  \n",
    "21세기 컴퓨터를 다루는 기술은 매우 중요하다.  \n",
    "그러나 그것은 한 영역일 뿐 ! **도구에 매몰되지 말자.**\n",
    "\n",
    "\n",
    "---"
   ]
  },
  {
   "cell_type": "markdown",
   "metadata": {},
   "source": [
    "# 1. 도구의 선택"
   ]
  },
  {
   "cell_type": "markdown",
   "metadata": {},
   "source": [
    "데이터 분석에 사용되는 도구는 많다.(엑셀, python, r, sas, spss, 여러 시각화 플랫폼 등 등)  \n",
    "그동안 일반적인 실무에서 도구는 엑셀로 충분했다. (현재까지 특정 비즈니스에선 마찬가지(일반 사무직))  \n",
    "\n",
    "그러나\n",
    "대용량 파일(엑셀 row 개수가 약 10000개 이상)과 다량의 파일(대용량 파일이 여러개)이 많아지면서  \n",
    "엑셀의 문제점 발생했다.  \n",
    "\n",
    "- 대용량 데이터 엑셀에서 열리지 않는 경우\n",
    "- 열렸다 하더라도 수작업으로 많은 데이터 처리 곤란(속도 저하, 완벽한 데이터 처리 불가능)\n",
    "- 수작업을 했더라도... 그런 데이터가 100개라면? OMG!"
   ]
  },
  {
   "cell_type": "markdown",
   "metadata": {},
   "source": [
    "## 왜 프로그래밍인가?"
   ]
  },
  {
   "cell_type": "markdown",
   "metadata": {},
   "source": [
    "> 1. 프로그래밍 스크립트(소스코드)는 대용량 파일과 다량의 파일을 빠르고 효율적으로 처리 할 수 있다  \n",
    "2. 1번의 작업을 자동화할 수 있다."
   ]
  },
  {
   "cell_type": "markdown",
   "metadata": {},
   "source": [
    "### 왜 파이썬인가?"
   ]
  },
  {
   "cell_type": "markdown",
   "metadata": {},
   "source": [
    "- 가독성! (다른 프로그래밍 언어보다 읽기 쉽다.)\n",
    "- 데이터 처리 및 분석 작업에 필요한 패키지 많다!, 좋다!"
   ]
  },
  {
   "cell_type": "markdown",
   "metadata": {},
   "source": [
    "---"
   ]
  },
  {
   "cell_type": "markdown",
   "metadata": {},
   "source": [
    "# 2. 기본적인 프로그래밍 기술"
   ]
  },
  {
   "cell_type": "markdown",
   "metadata": {},
   "source": [
    "> 코딩(프로그래밍)을 하기 위해선 기본적인 기술을 익혀야 한다.  \n",
    "그 기술은 바로 [프로그래밍적 사고](https://youtu.be/6hfOvs8pY1k)가 필요하다.  "
   ]
  },
  {
   "cell_type": "markdown",
   "metadata": {},
   "source": [
    "#### 데이터 분석에 필요한 프로그래밍적 사고 기술\n",
    "- **자료형** (파이썬은 어떻게 데이터를 저장하고 사용할까?)\n",
    "- **제어문(조건문, 반복문)** (조건에 맞게 실행하고, 그것을 반복하는 반복문)\n",
    "- **함수와 모듈** (데이터 처리 및 분석에 필요한 패키지는 어떻게 되어있을까?)\n",
    "- **클래스** (데이터 처리 및 분석에 필요한 패키지는 어떻게 되어있을까?)\n",
    "- **파일 입출력** (실제 데이터를 어떻게 읽고 출력할까?)\n",
    "----"
   ]
  }
 ],
 "metadata": {
  "kernelspec": {
   "display_name": "Python 3",
   "language": "python",
   "name": "python3"
  },
  "language_info": {
   "codemirror_mode": {
    "name": "ipython",
    "version": 3
   },
   "file_extension": ".py",
   "mimetype": "text/x-python",
   "name": "python",
   "nbconvert_exporter": "python",
   "pygments_lexer": "ipython3",
   "version": "3.6.1"
  }
 },
 "nbformat": 4,
 "nbformat_minor": 2
}
