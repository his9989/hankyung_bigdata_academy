{
 "cells": [
  {
   "cell_type": "markdown",
   "metadata": {},
   "source": [
    "# 영어 워드클라우드"
   ]
  },
  {
   "cell_type": "code",
   "execution_count": 3,
   "metadata": {},
   "outputs": [
    {
     "data": {
      "text/plain": [
       "<matplotlib.image.AxesImage at 0x1ea60ab50f0>"
      ]
     },
     "execution_count": 3,
     "metadata": {},
     "output_type": "execute_result"
    },
    {
     "data": {
      "image/png": "[encoded data removed]",
      "text/plain": [
       "<matplotlib.figure.Figure at 0x1ea60571dd8>"
      ]
     },
     "metadata": {},
     "output_type": "display_data"
    }
   ],
   "source": [
    "# 모듈 불러오기\n",
    "import matplotlib.pyplot as plt\n",
    "import numpy as np\n",
    "from PIL import Image\n",
    "from wordcloud import WordCloud\n",
    "from wordcloud import STOPWORDS\n",
    "%matplotlib inline\n",
    "\n",
    "# 파일 입력\n",
    "text = open('alice.txt').read()\n",
    "mask_image = np.array(Image.open('alice_mask.png'))\n",
    "\n",
    "# 워드 클라우드에서 지우고 싶은 단어\n",
    "stopwords =set(STOPWORDS)\n",
    "# stopwords.add('지우고 싶은 stopword')\n",
    "\n",
    "# wordcloud 생성\n",
    "wordcolud_3 = WordCloud(background_color='white', max_words=2000, mask=mask_image, \n",
    "                       stopwords = stopwords, max_font_size=40, random_state=42)\n",
    "\n",
    "wordcolud_3.generate(text)\n",
    "\n",
    "# 디자인 사진 색 안살려서 wordcloud\n",
    "plt.imshow(wordcolud_3)\n",
    "\n",
    "\n",
    "#  원본 사진 색 살려서\n",
    "# from wordcloud import ImageColorGenerator\n",
    "# image_colors = ImageColorGenerator(mask_image)\n",
    "\n",
    "# 원본 사진 색 살려서\n",
    "# plt.imshow(wordcolud_3.recolor(color_func=image_colors))"
   ]
  },
  {
   "cell_type": "markdown",
   "metadata": {},
   "source": [
    "# konlpy"
   ]
  },
  {
   "cell_type": "code",
   "execution_count": null,
   "metadata": {
    "collapsed": true
   },
   "outputs": [],
   "source": [
    "   # 모듈 임포트\n",
    "import nltk\n",
    "from konlpy.tag import Twitter\n",
    "\n",
    "#트위터 형태소분석기 tw 변수에 할당\n",
    "tw = Twitter()\n",
    "\n",
    "# text 변수에 텍스트 할당\n",
    "text= open('입력할 텍스트').read()\n",
    "\n",
    "# text 변수 명사 추출 후 nouns 변수에 할당\n",
    "nouns = tw.nouns(text)\n",
    "\n",
    "# 빼고싶은 stopwords 추가\n",
    "# stop_words = ['가','나','다']\n",
    "# nouns = [word for word in nouns if word not in stop_words]\n",
    "\n",
    "# text에서 추출한 nouns 변수 빈도수 수치화\n",
    "nltk_text = nltk.Text(nouns) \n",
    "data = nltk_text.vocab().most_common(200) # 상위 200개 , 수정 가능\n",
    "data = dict(data)\n"
   ]
  },
  {
   "cell_type": "markdown",
   "metadata": {},
   "source": [
    "# konlpy + 한글 워드클라우드"
   ]
  },
  {
   "cell_type": "code",
   "execution_count": null,
   "metadata": {
    "collapsed": true
   },
   "outputs": [],
   "source": [
    "# 모듈 임포트\n",
    "import nltk\n",
    "from konlpy.tag import Twitter\n",
    "\n",
    "#트위터 형태소분석기 tw 변수에 할당\n",
    "tw = Twitter()\n",
    "\n",
    "# text 변수에 텍스트 할당\n",
    "text= open('입력할 파일',encoding = 'utf-8').read()\n",
    "\n",
    "# text 변수 명사 추출 후 nouns 변수에 할당\n",
    "nouns = tw.nouns(text)\n",
    "\n",
    "# # 빼고싶은 stopwords 추가\n",
    "# stop_words = []\n",
    "# nouns = [word for word in nouns if word not in stop_words]\n",
    "\n",
    "# text에서 추출한 nouns 변수 빈도수 수치화\n",
    "nltk_text = nltk.Text(nouns) \n",
    "data = nltk_text.vocab().most_common(200) # 상위 200개 , 수정 가능\n",
    "data = dict(data)\n",
    "\n",
    "# 시각화\n",
    "\n",
    "# 디자인 이미지 파일 로드\n",
    "mask_image = np.array(Image.open('디자인 파일'))\n",
    "\n",
    "# 워드클라우드 그림 그리기\n",
    "wordcolud_3 = WordCloud(font_path='C:/Windows/Fonts/malgun.ttf',background_color='white', max_words=3000, mask=mask_image, \n",
    "                       stopwords = stopwords, max_font_size=50, min_font_size=1, relative_scaling = 0.3, random_state=42)\n",
    "\n",
    "# 영어 데이터는 .generate(data)로 하면 한 번에 해결 되지만 한글은 안됨\n",
    "# 그래서 위에서 자연어 처리한 결과 값을 .generate_fro_frequencies(data) 로 \n",
    "wordcolud_3.generate_from_frequencies(data)\n",
    "\n",
    "from wordcloud import ImageColorGenerator\n",
    "image_colors = ImageColorGenerator(mask_image)\n",
    "\n",
    "\n",
    "# 원본 사진 색 살려서\n",
    "plt.figure(figsize=(12,12))\n",
    "plt.imshow(wordcolud_3.recolor(color_func=image_colors))\n",
    "plt.axis('off')\n",
    "plt.show()"
   ]
  }
 ],
 "metadata": {
  "kernelspec": {
   "display_name": "Python 3",
   "language": "python",
   "name": "python3"
  },
  "language_info": {
   "codemirror_mode": {
    "name": "ipython",
    "version": 3
   },
   "file_extension": ".py",
   "mimetype": "text/x-python",
   "name": "python",
   "nbconvert_exporter": "python",
   "pygments_lexer": "ipython3",
   "version": "3.6.1"
  }
 },
 "nbformat": 4,
 "nbformat_minor": 2
}
