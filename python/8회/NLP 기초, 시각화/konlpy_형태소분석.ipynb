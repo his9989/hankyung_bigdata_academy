{
 "cells": [
  {
   "cell_type": "markdown",
   "metadata": {},
   "source": [
    "# KoNLPy "
   ]
  },
  {
   "cell_type": "markdown",
   "metadata": {
    "collapsed": true
   },
   "source": [
    "[KoNLPy 공식 홈페이지](https://konlpy-ko.readthedocs.io/ko/v0.4.3/)"
   ]
  },
  {
   "cell_type": "markdown",
   "metadata": {},
   "source": [
    "1. [JAVA JDK 설치](http://www.oracle.com/technetwork/java/javase/downloads/index.html) ---- [한글 설명](http://limkydev.tistory.com/61)\n",
    "2. [JAVA_HOME 경로설정](https://docs.oracle.com/cd/E19182-01/820-7851/inst_cli_jdk_javahome_t/index.html)  \n",
    "3. [JPype 설치](https://www.lfd.uci.edu/~gohlke/pythonlibs/#jpype)\n",
    "    1. JPype1‑0.6.2‑cp36‑cp36m‑win_amd64.whl 설치파일 다운로드\n",
    "    2. 설치파일 쉘과 동일 위치 설정\n",
    "    3. pip install JPype1‑0.6.2‑cp36‑cp36m‑win_amd64.whl\n",
    "4. KoNLPy 설치 : pip install konlpy"
   ]
  },
  {
   "cell_type": "markdown",
   "metadata": {},
   "source": [
    "---"
   ]
  },
  {
   "cell_type": "markdown",
   "metadata": {},
   "source": [
    "# wordcloud"
   ]
  },
  {
   "cell_type": "markdown",
   "metadata": {},
   "source": [
    "[word colud 공식홈페이지](https://amueller.github.io/word_cloud/index.html)"
   ]
  },
  {
   "cell_type": "code",
   "execution_count": 1,
   "metadata": {
    "collapsed": true
   },
   "outputs": [],
   "source": [
    "import numpy as np"
   ]
  },
  {
   "cell_type": "code",
   "execution_count": 2,
   "metadata": {
    "collapsed": true
   },
   "outputs": [],
   "source": [
    "import matplotlib.pyplot as plt\n",
    "%matplotlib inline\n",
    "\n",
    "from wordcloud import WordCloud"
   ]
  },
  {
   "cell_type": "code",
   "execution_count": 3,
   "metadata": {
    "collapsed": true
   },
   "outputs": [],
   "source": [
    "text = open('constitution.txt').read()"
   ]
  },
  {
   "cell_type": "code",
   "execution_count": 4,
   "metadata": {},
   "outputs": [
    {
     "data": {
      "text/plain": [
       "'We the People of the United States, in Order to form a more perfect Union, establish Justice, insure domestic Tranquility, provide for the common defence, promote the general Welfare, and secure the Blessings of Liberty to ourselves and our Posterity, do ordain and establish this Constitution for the United States of America.\\n\\nArticle. I.\\n\\nSection. 1.\\n\\nAll legislative Powers herein granted shall be vested in a Congress of the United States, which shall consist of a Senate and House of Representatives.\\n\\nSection. 2.\\n\\nThe House of Representatives shall be composed of Members chosen every second Year by the People of the several States, and the Electors in each State shall have the Qualifications requisite for Electors of the most numerous Branch of the State Legislature.\\n\\nNo Person shall be a Representative who shall not have attained to the Age of twenty five Years, and been seven Years a Citizen of the United States, and who shall not, when elected, be an Inhabitant of that State in which he shall be chosen.\\n\\nRepresentatives and direct Taxes shall be apportioned among the several States which may be included within this Union, according to their respective Numbers, which shall be determined by adding to the whole Number of free Persons, including those bound to Service for a Term of Years, and excluding Indians not taxed, three fifths of all other Persons. The actual Enumeration shall be made within three Years after the first Meeting of the Congress of the United States, and within every subsequent Term of ten Years, in such Manner as they shall by Law direct. The Number of Representatives shall not exceed one for every thirty Thousand, but each State shall have at Least one Representative; and until such enumeration shall be made, the State of New Hampshire shall be entitled to chuse three, Massachusetts eight, Rhode-Island and Providence Plantations one, Connecticut five, New-York six, New Jersey four, Pennsylvania eight, Delaware one, Maryland six, Virginia ten, North Carolina five, South Carolina five, and Georgia three.\\n\\nWhen vacancies happen in the Representation from any State, the Executive Authority thereof shall issue Writs of Election to fill such Vacancies.\\n\\nThe House of Representatives shall chuse their Speaker and other Officers; and shall have the sole Power of Impeachment.\\n\\nSection. 3.\\n\\nThe Senate of the United States shall be composed of two Senators from each State, chosen by the Legislature thereof for six Years; and each Senator shall have one Vote.\\n\\nImmediately after they shall be assembled in Consequence of the first Election, they shall be divided as equally as may be into three Classes. The Seats of the Senators of the first Class shall be vacated at the Expiration of the second Year, of the second Class at the Expiration of the fourth Year, and of the third Class at the Expiration of the sixth Year, so that one third may be chosen every second Year; and if Vacancies happen by Resignation, or otherwise, during the Recess of the Legislature of any State, the Executive thereof may make temporary Appointments until the next Meeting of the Legislature, which shall then fill such Vacancies.\\n\\nNo Person shall be a Senator who shall not have attained to the Age of thirty Years, and been nine Years a Citizen of the United States, and who shall not, when elected, be an Inhabitant of that State for which he shall be chosen.\\n\\nThe Vice President of the United States shall be President of the Senate, but shall have no Vote, unless they be equally divided.\\n\\nThe Senate shall chuse their other Officers, and also a President pro tempore, in the Absence of the Vice President, or when he shall exercise the Office of President of the United States.\\n\\nThe Senate shall have the sole Power to try all Impeachments. When sitting for that Purpose, they shall be on Oath or Affirmation. When the President of the United States is tried, the Chief Justice shall preside: And no Person shall be convicted without the Concurrence of two thirds of the Members present.\\n\\nJudgment in Cases of Impeachment shall not extend further than to removal from Office, and disqualification to hold and enjoy any Office of honor, Trust or Profit under the United States: but the Party convicted shall nevertheless be liable and subject to Indictment, Trial, Judgment and Punishment, according to Law.\\n\\nSection. 4.\\n\\nThe Times, Places and Manner of holding Elections for Senators and Representatives, shall be prescribed in each State by the Legislature thereof; but the Congress may at any time by Law make or alter such Regulations, except as to the Places of chusing Senators.\\n\\nThe Congress shall assemble at least once in every Year, and such Meeting shall be on the first Monday in December, unless they shall by Law appoint a different Day.\\n\\nSection. 5.\\n\\nEach House shall be the Judge of the Elections, Returns and Qualifications of its own Members, and a Majority of each shall constitute a Quorum to do Business; but a smaller Number may adjourn from day to day, and may be authorized to compel the Attendance of absent Members, in such Manner, and under such Penalties as each House may provide.\\n\\nEach House may determine the Rules of its Proceedings, punish its Members for disorderly Behaviour, and, with the Concurrence of two thirds, expel a Member.\\n\\nEach House shall keep a Journal of its Proceedings, and from time to time publish the same, excepting such Parts as may in their Judgment require Secrecy; and the Yeas and Nays of the Members of either House on any question shall, at the Desire of one fifth of those Present, be entered on the Journal.\\n\\nNeither House, during the Session of Congress, shall, without the Consent of the other, adjourn for more than three days, nor to any other Place than that in which the two Houses shall be sitting.\\n\\nSection. 6.\\n\\nThe Senators and Representatives shall receive a Compensation for their Services, to be ascertained by Law, and paid out of the Treasury of the United States. They shall in all Cases, except Treason, Felony and Breach of the Peace, be privileged from Arrest during their Attendance at the Session of their respective Houses, and in going to and returning from the same; and for any Speech or Debate in either House, they shall not be questioned in any other Place.\\n\\nNo Senator or Representative shall, during the Time for which he was elected, be appointed to any civil Office under the Authority of the United States, which shall have been created, or the Emoluments whereof shall have been encreased during such time; and no Person holding any Office under the United States, shall be a Member of either House during his Continuance in Office.\\n\\nSection. 7.\\n\\nAll Bills for raising Revenue shall originate in the House of Representatives; but the Senate may propose or concur with Amendments as on other Bills.\\n\\nEvery Bill which shall have passed the House of Representatives and the Senate, shall, before it become a Law, be presented to the President of the United States: If he approve he shall sign it, but if not he shall return it, with his Objections to that House in which it shall have originated, who shall enter the Objections at large on their Journal, and proceed to reconsider it. If after such Reconsideration two thirds of that House shall agree to pass the Bill, it shall be sent, together with the Objections, to the other House, by which it shall likewise be reconsidered, and if approved by two thirds of that House, it shall become a Law. But in all such Cases the Votes of both Houses shall be determined by yeas and Nays, and the Names of the Persons voting for and against the Bill shall be entered on the Journal of each House respectively. If any Bill shall not be returned by the President within ten Days (Sundays excepted) after it shall have been presented to him, the Same shall be a Law, in like Manner as if he had signed it, unless the Congress by their Adjournment prevent its Return, in which Case it shall not be a Law.\\n\\nEvery Order, Resolution, or Vote to which the Concurrence of the Senate and House of Representatives may be necessary (except on a question of Adjournment) shall be presented to the President of the United States; and before the Same shall take Effect, shall be approved by him, or being disapproved by him, shall be repassed by two thirds of the Senate and House of Representatives, according to the Rules and Limitations prescribed in the Case of a Bill.\\n\\nSection. 8.\\n\\nThe Congress shall have Power To lay and collect Taxes, Duties, Imposts and Excises, to pay the Debts and provide for the common Defence and general Welfare of the United States; but all Duties, Imposts and Excises shall be uniform throughout the United States;\\n\\nTo borrow Money on the credit of the United States;\\n\\nTo regulate Commerce with foreign Nations, and among the several States, and with the Indian Tribes;\\n\\nTo establish an uniform Rule of Naturalization, and uniform Laws on the subject of Bankruptcies throughout the United States;\\n\\nTo coin Money, regulate the Value thereof, and of foreign Coin, and fix the Standard of Weights and Measures;\\n\\nTo provide for the Punishment of counterfeiting the Securities and current Coin of the United States;\\n\\nTo establish Post Offices and post Roads;\\n\\nTo promote the Progress of Science and useful Arts, by securing for limited Times to Authors and Inventors the exclusive Right to their respective Writings and Discoveries;\\n\\nTo constitute Tribunals inferior to the supreme Court;\\n\\nTo define and punish Piracies and Felonies committed on the high Seas, and Offences against the Law of Nations;\\n\\nTo declare War, grant Letters of Marque and Reprisal, and make Rules concerning Captures on Land and Water;\\n\\nTo raise and support Armies, but no Appropriation of Money to that Use shall be for a longer Term than two Years;\\n\\nTo provide and maintain a Navy;\\n\\nTo make Rules for the Government and Regulation of the land and naval Forces;\\n\\nTo provide for calling forth the Militia to execute the Laws of the Union, suppress Insurrections and repel Invasions;\\n\\nTo provide for organizing, arming, and disciplining, the Militia, and for governing such Part of them as may be employed in the Service of the United States, reserving to the States respectively, the Appointment of the Officers, and the Authority of training the Militia according to the discipline prescribed by Congress;\\n\\nTo exercise exclusive Legislation in all Cases whatsoever, over such District (not exceeding ten Miles square) as may, by Cession of particular States, and the Acceptance of Congress, become the Seat of the Government of the United States, and to exercise like Authority over all Places purchased by the Consent of the Legislature of the State in which the Same shall be, for the Erection of Forts, Magazines, Arsenals, dock-Yards, and other needful Buildings;--And\\n\\nTo make all Laws which shall be necessary and proper for carrying into Execution the foregoing Powers, and all other Powers vested by this Constitution in the Government of the United States, or in any Department or Officer thereof.\\n\\nSection. 9.\\n\\nThe Migration or Importation of such Persons as any of the States now existing shall think proper to admit, shall not be prohibited by the Congress prior to the Year one thousand eight hundred and eight, but a Tax or duty may be imposed on such Importation, not exceeding ten dollars for each Person.\\n\\nThe Privilege of the Writ of Habeas Corpus shall not be suspended, unless when in Cases of Rebellion or Invasion the public Safety may require it.\\n\\nNo Bill of Attainder or ex post facto Law shall be passed.\\n\\nNo Capitation, or other direct, Tax shall be laid, unless in Proportion to the Census or enumeration herein before directed to be taken.\\n\\nNo Tax or Duty shall be laid on Articles exported from any State.\\n\\nNo Preference shall be given by any Regulation of Commerce or Revenue to the Ports of one State over those of another; nor shall Vessels bound to, or from, one State, be obliged to enter, clear, or pay Duties in another.\\n\\nNo Money shall be drawn from the Treasury, but in Consequence of Appropriations made by Law; and a regular Statement and Account of the Receipts and Expenditures of all public Money shall be published from time to time.\\n\\nNo Title of Nobility shall be granted by the United States: And no Person holding any Office of Profit or Trust under them, shall, without the Consent of the Congress, accept of any present, Emolument, Office, or Title, of any kind whatever, from any King, Prince, or foreign State.\\n\\nSection. 10.\\n\\nNo State shall enter into any Treaty, Alliance, or Confederation; grant Letters of Marque and Reprisal; coin Money; emit Bills of Credit; make any Thing but gold and silver Coin a Tender in Payment of Debts; pass any Bill of Attainder, ex post facto Law, or Law impairing the Obligation of Contracts, or grant any Title of Nobility.\\n\\nNo State shall, without the Consent of the Congress, lay any Imposts or Duties on Imports or Exports, except what may be absolutely necessary for executing it\\'s inspection Laws: and the net Produce of all Duties and Imposts, laid by any State on Imports or Exports, shall be for the Use of the Treasury of the United States; and all such Laws shall be subject to the Revision and Controul of the Congress.\\n\\nNo State shall, without the Consent of Congress, lay any Duty of Tonnage, keep Troops, or Ships of War in time of Peace, enter into any Agreement or Compact with another State, or with a foreign Power, or engage in War, unless actually invaded, or in such imminent Danger as will not admit of delay.\\n\\nArticle. II.\\n\\nSection. 1.\\n\\nThe executive Power shall be vested in a President of the United States of America. He shall hold his Office during the Term of four Years, and, together with the Vice President, chosen for the same Term, be elected, as follows:\\n\\nEach State shall appoint, in such Manner as the Legislature thereof may direct, a Number of Electors, equal to the whole Number of Senators and Representatives to which the State may be entitled in the Congress: but no Senator or Representative, or Person holding an Office of Trust or Profit under the United States, shall be appointed an Elector.\\n\\nThe Electors shall meet in their respective States, and vote by Ballot for two Persons, of whom one at least shall not be an Inhabitant of the same State with themselves. And they shall make a List of all the Persons voted for, and of the Number of Votes for each; which List they shall sign and certify, and transmit sealed to the Seat of the Government of the United States, directed to the President of the Senate. The President of the Senate shall, in the Presence of the Senate and House of Representatives, open all the Certificates, and the Votes shall then be counted. The Person having the greatest Number of Votes shall be the President, if such Number be a Majority of the whole Number of Electors appointed; and if there be more than one who have such Majority, and have an equal Number of Votes, then the House of Representatives shall immediately chuse by Ballot one of them for President; and if no Person have a Majority, then from the five highest on the List the said House shall in like Manner chuse the President. But in chusing the President, the Votes shall be taken by States, the Representation from each State having one Vote; A quorum for this purpose shall consist of a Member or Members from two thirds of the States, and a Majority of all the States shall be necessary to a Choice. In every Case, after the Choice of the President, the Person having the greatest Number of Votes of the Electors shall be the Vice President. But if there should remain two or more who have equal Votes, the Senate shall chuse from them by Ballot the Vice President.\\n\\nThe Congress may determine the Time of chusing the Electors, and the Day on which they shall give their Votes; which Day shall be the same throughout the United States.\\n\\nNo Person except a natural born Citizen, or a Citizen of the United States, at the time of the Adoption of this Constitution, shall be eligible to the Office of President; neither shall any Person be eligible to that Office who shall not have attained to the Age of thirty five Years, and been fourteen Years a Resident within the United States.\\n\\nIn Case of the Removal of the President from Office, or of his Death, Resignation, or Inability to discharge the Powers and Duties of the said Office, the Same shall devolve on the Vice President, and the Congress may by Law provide for the Case of Removal, Death, Resignation or Inability, both of the President and Vice President, declaring what Officer shall then act as President, and such Officer shall act accordingly, until the Disability be removed, or a President shall be elected.\\n\\nThe President shall, at stated Times, receive for his Services, a Compensation, which shall neither be increased nor diminished during the Period for which he shall have been elected, and he shall not receive within that Period any other Emolument from the United States, or any of them.\\n\\nBefore he enter on the Execution of his Office, he shall take the following Oath or Affirmation:--\"I do solemnly swear (or affirm) that I will faithfully execute the Office of President of the United States, and will to the best of my Ability, preserve, protect and defend the Constitution of the United States.\"\\n\\nSection. 2.\\n\\nThe President shall be Commander in Chief of the Army and Navy of the United States, and of the Militia of the several States, when called into the actual Service of the United States; he may require the Opinion, in writing, of the principal Officer in each of the executive Departments, upon any Subject relating to the Duties of their respective Offices, and he shall have Power to grant Reprieves and Pardons for Offences against the United States, except in Cases of Impeachment.\\n\\nHe shall have Power, by and with the Advice and Consent of the Senate, to make Treaties, provided two thirds of the Senators present concur; and he shall nominate, and by and with the Advice and Consent of the Senate, shall appoint Ambassadors, other public Ministers and Consuls, Judges of the supreme Court, and all other Officers of the United States, whose Appointments are not herein otherwise provided for, and which shall be established by Law: but the Congress may by Law vest the Appointment of such inferior Officers, as they think proper, in the President alone, in the Courts of Law, or in the Heads of Departments.\\n\\nThe President shall have Power to fill up all Vacancies that may happen during the Recess of the Senate, by granting Commissions which shall expire at the End of their next Session.\\n\\nSection. 3.\\n\\nHe shall from time to time give to the Congress Information of the State of the Union, and recommend to their Consideration such Measures as he shall judge necessary and expedient; he may, on extraordinary Occasions, convene both Houses, or either of them, and in Case of Disagreement between them, with Respect to the Time of Adjournment, he may adjourn them to such Time as he shall think proper; he shall receive Ambassadors and other public Ministers; he shall take Care that the Laws be faithfully executed, and shall Commission all the Officers of the United States.\\n\\nSection. 4.\\n\\nThe President, Vice President and all civil Officers of the United States, shall be removed from Office on Impeachment for, and Conviction of, Treason, Bribery, or other high Crimes and Misdemeanors.\\n\\nArticle III.\\n\\nSection. 1.\\n\\nThe judicial Power of the United States shall be vested in one supreme Court, and in such inferior Courts as the Congress may from time to time ordain and establish. The Judges, both of the supreme and inferior Courts, shall hold their Offices during good Behaviour, and shall, at stated Times, receive for their Services a Compensation, which shall not be diminished during their Continuance in Office.\\n\\nSection. 2.\\n\\nThe judicial Power shall extend to all Cases, in Law and Equity, arising under this Constitution, the Laws of the United States, and Treaties made, or which shall be made, under their Authority;--to all Cases affecting Ambassadors, other public Ministers and Consuls;--to all Cases of admiralty and maritime Jurisdiction;--to Controversies to which the United States shall be a Party;--to Controversies between two or more States;-- between a State and Citizens of another State,--between Citizens of different States,--between Citizens of the same State claiming Lands under Grants of different States, and between a State, or the Citizens thereof, and foreign States, Citizens or Subjects.\\n\\nIn all Cases affecting Ambassadors, other public Ministers and Consuls, and those in which a State shall be Party, the supreme Court shall have original Jurisdiction. In all the other Cases before mentioned, the supreme Court shall have appellate Jurisdiction, both as to Law and Fact, with such Exceptions, and under such Regulations as the Congress shall make.\\n\\nThe Trial of all Crimes, except in Cases of Impeachment, shall be by Jury; and such Trial shall be held in the State where the said Crimes shall have been committed; but when not committed within any State, the Trial shall be at such Place or Places as the Congress may by Law have directed.\\n\\nSection. 3.\\n\\nTreason against the United States, shall consist only in levying War against them, or in adhering to their Enemies, giving them Aid and Comfort. No Person shall be convicted of Treason unless on the Testimony of two Witnesses to the same overt Act, or on Confession in open Court.\\n\\nThe Congress shall have Power to declare the Punishment of Treason, but no Attainder of Treason shall work Corruption of Blood, or Forfeiture except during the Life of the Person attainted.\\n\\nArticle. IV.\\n\\nSection. 1.\\n\\nFull Faith and Credit shall be given in each State to the public Acts, Records, and judicial Proceedings of every other State. And the Congress may by general Laws prescribe the Manner in which such Acts, Records and Proceedings shall be proved, and the Effect thereof.\\n\\nSection. 2.\\n\\nThe Citizens of each State shall be entitled to all Privileges and Immunities of Citizens in the several States.\\n\\nA Person charged in any State with Treason, Felony, or other Crime, who shall flee from Justice, and be found in another State, shall on Demand of the executive Authority of the State from which he fled, be delivered up, to be removed to the State having Jurisdiction of the Crime.\\n\\nNo Person held to Service or Labour in one State, under the Laws thereof, escaping into another, shall, in Consequence of any Law or Regulation therein, be discharged from such Service or Labour, but shall be delivered up on Claim of the Party to whom such Service or Labour may be due.\\n\\nSection. 3.\\n\\nNew States may be admitted by the Congress into this Union; but no new State shall be formed or erected within the Jurisdiction of any other State; nor any State be formed by the Junction of two or more States, or Parts of States, without the Consent of the Legislatures of the States concerned as well as of the Congress.\\n\\nThe Congress shall have Power to dispose of and make all needful Rules and Regulations respecting the Territory or other Property belonging to the United States; and nothing in this Constitution shall be so construed as to Prejudice any Claims of the United States, or of any particular State.\\n\\nSection. 4.\\n\\nThe United States shall guarantee to every State in this Union a Republican Form of Government, and shall protect each of them against Invasion; and on Application of the Legislature, or of the Executive (when the Legislature cannot be convened), against domestic Violence.\\n\\nArticle. V.\\n\\nThe Congress, whenever two thirds of both Houses shall deem it necessary, shall propose Amendments to this Constitution, or, on the Application of the Legislatures of two thirds of the several States, shall call a Convention for proposing Amendments, which, in either Case, shall be valid to all Intents and Purposes, as Part of this Constitution, when ratified by the Legislatures of three fourths of the several States, or by Conventions in three fourths thereof, as the one or the other Mode of Ratification may be proposed by the Congress; Provided that no Amendment which may be made prior to the Year One thousand eight hundred and eight shall in any Manner affect the first and fourth Clauses in the Ninth Section of the first Article; and that no State, without its Consent, shall be deprived of its equal Suffrage in the Senate.\\n\\nArticle. VI.\\n\\nAll Debts contracted and Engagements entered into, before the Adoption of this Constitution, shall be as valid against the United States under this Constitution, as under the Confederation.\\n\\nThis Constitution, and the Laws of the United States which shall be made in Pursuance thereof; and all Treaties made, or which shall be made, under the Authority of the United States, shall be the supreme Law of the Land; and the Judges in every State shall be bound thereby, any Thing in the Constitution or Laws of any State to the Contrary notwithstanding.\\n\\nThe Senators and Representatives before mentioned, and the Members of the several State Legislatures, and all executive and judicial Officers, both of the United States and of the several States, shall be bound by Oath or Affirmation, to support this Constitution; but no religious Test shall ever be required as a Qualification to any Office or public Trust under the United States.\\n\\nArticle. VII.\\n\\nThe Ratification of the Conventions of nine States, shall be sufficient for the Establishment of this Constitution between the States so ratifying the Same.\\n\\nThe Word, \"the,\" being interlined between the seventh and eighth Lines of the first Page, the Word \"Thirty\" being partly written on an Erazure in the fifteenth Line of the first Page, The Words \"is tried\" being interlined between the thirty second and thirty third Lines of the first Page and the Word \"the\" being interlined between the forty third and forty fourth Lines of the second Page.\\n\\nAttest William Jackson Secretary\\n\\ndone in Convention by the Unanimous Consent of the States present the Seventeenth Day of September in the Year of our Lord one thousand seven hundred and Eighty seven and of the Independance of the United States of America the Twelfth In witness whereof We have hereunto subscribed our Names,\\n'"
      ]
     },
     "execution_count": 4,
     "metadata": {},
     "output_type": "execute_result"
    }
   ],
   "source": [
    "text"
   ]
  },
  {
   "cell_type": "code",
   "execution_count": null,
   "metadata": {
    "collapsed": true
   },
   "outputs": [],
   "source": [
    "wordcolud_1 = WordCloud().generate(text) # WordCloud 자체가 형태소 분석하여 빈도수 계산"
   ]
  },
  {
   "cell_type": "code",
   "execution_count": null,
   "metadata": {
    "collapsed": true
   },
   "outputs": [],
   "source": [
    "wordcolud_1.words_"
   ]
  },
  {
   "cell_type": "code",
   "execution_count": null,
   "metadata": {
    "collapsed": true
   },
   "outputs": [],
   "source": [
    "plt.figure(figsize=(12,12))\n",
    "plt.imshow(wordcolud_1)\n",
    "plt.axis('off')"
   ]
  },
  {
   "cell_type": "markdown",
   "metadata": {},
   "source": [
    "## Alice 데이터"
   ]
  },
  {
   "cell_type": "code",
   "execution_count": 4,
   "metadata": {
    "collapsed": true
   },
   "outputs": [],
   "source": [
    "import numpy as np\n",
    "from PIL import Image\n",
    "from wordcloud import STOPWORDS"
   ]
  },
  {
   "cell_type": "code",
   "execution_count": 5,
   "metadata": {
    "collapsed": true
   },
   "outputs": [],
   "source": [
    "text = open('alice.txt').read()"
   ]
  },
  {
   "cell_type": "code",
   "execution_count": 6,
   "metadata": {},
   "outputs": [
    {
     "data": {
      "text/plain": [
       "'癤풮roject Gutenberg\\'s Alice\\'s Adventures in Wonderland, by Lewis Carroll\\n\\nThis eBook is for the use of anyone anywhere at no cost and with\\nalmost no restrictions whatsoever.  You may copy it, give it away or\\nre-use it under the terms of the Project Gutenberg License included\\nwith this eBook or online at www.gutenberg.org\\n\\n\\nTitle: Alice\\'s Adventures in Wonderland\\n\\nAuthor: Lewis Carroll\\n\\nPosting Date: June 25, 2008 [EBook #11]\\nRelease Date: March, 1994\\n[Last updated: December 20, 2011]\\n\\nLanguage: English\\n\\n\\n*** START OF THIS PROJECT GUTENBERG EBOOK ALICE\\'S ADVENTURES IN WONDERLAND ***\\n\\n\\n\\n\\n\\n\\n\\n\\n\\n\\nALICE\\'S ADVENTURES IN WONDERLAND\\n\\nLewis Carroll\\n\\nTHE MILLENNIUM FULCRUM EDITION 3.0\\n\\n\\n\\n\\nCHAPTER I. Down the Rabbit-Hole\\n\\nAlice was beginning to get very tired of sitting by her sister on the\\nbank, and of having nothing to do: once or twice she had peeped into the\\nbook her sister was reading, but it had no pictures or conversations in\\nit, \\'and what is the use of a book,\\' thought Alice \\'without pictures or\\nconversation?\\'\\n\\nSo she was considering in her own mind (as well as she could, for the\\nhot day made her feel very sleepy and stupid), whether the pleasure\\nof making a daisy-chain would be worth the trouble of getting up and\\npicking the daisies, when suddenly a White Rabbit with pink eyes ran\\nclose by her.\\n\\nThere was nothing so VERY remarkable in that; nor did Alice think it so\\nVERY much out of the way to hear the Rabbit say to itself, \\'Oh dear!\\nOh dear! I shall be late!\\' (when she thought it over afterwards, it\\noccurred to her that she ought to have wondered at this, but at the time\\nit all seemed quite natural); but when the Rabbit actually TOOK A WATCH\\nOUT OF ITS WAISTCOAT-POCKET, and looked at it, and then hurried on,\\nAlice started to her feet, for it flashed across her mind that she had\\nnever before seen a rabbit with either a waistcoat-pocket, or a watch\\nto take out of it, and burning with curiosity, she ran across the field\\nafter it, and fortunately was just in time to see it pop down a large\\nrabbit-hole under the hedge.\\n\\nIn another moment down went Alice after it, never once considering how\\nin the world she was to get out again.\\n\\nThe rabbit-hole went straight on like a tunnel for some way, and then\\ndipped suddenly down, so suddenly that Alice had not a moment to think\\nabout stopping herself before she found herself falling down a very deep\\nwell.\\n\\nEither the well was very deep, or she fell very slowly, for she had\\nplenty of time as she went down to look about her and to wonder what was\\ngoing to happen next. First, she tried to look down and make out what\\nshe was coming to, but it was too dark to see anything; then she\\nlooked at the sides of the well, and noticed that they were filled with\\ncupboards and book-shelves; here and there she saw maps and pictures\\nhung upon pegs. She took down a jar from one of the shelves as\\nshe passed; it was labelled \\'ORANGE MARMALADE\\', but to her great\\ndisappointment it was empty: she did not like to drop the jar for fear\\nof killing somebody, so managed to put it into one of the cupboards as\\nshe fell past it.\\n\\n\\'Well!\\' thought Alice to herself, \\'after such a fall as this, I shall\\nthink nothing of tumbling down stairs! How brave they\\'ll all think me at\\nhome! Why, I wouldn\\'t say anything about it, even if I fell off the top\\nof the house!\\' (Which was very likely true.)\\n\\nDown, down, down. Would the fall NEVER come to an end! \\'I wonder how\\nmany miles I\\'ve fallen by this time?\\' she said aloud. \\'I must be getting\\nsomewhere near the centre of the earth. Let me see: that would be four\\nthousand miles down, I think--\\' (for, you see, Alice had learnt several\\nthings of this sort in her lessons in the schoolroom, and though this\\nwas not a VERY good opportunity for showing off her knowledge, as there\\nwas no one to listen to her, still it was good practice to say it over)\\n\\'--yes, that\\'s about the right distance--but then I wonder what Latitude\\nor Longitude I\\'ve got to?\\' (Alice had no idea what Latitude was, or\\nLongitude either, but thought they were nice grand words to say.)\\n\\nPresently she began again. \\'I wonder if I shall fall right THROUGH the\\nearth! How funny it\\'ll seem to come out among the people that walk with\\ntheir heads downward! The Antipathies, I think--\\' (she was rather glad\\nthere WAS no one listening, this time, as it didn\\'t sound at all the\\nright word) \\'--but I shall have to ask them what the name of the country\\nis, you know. Please, Ma\\'am, is this New Zealand or Australia?\\' (and\\nshe tried to curtsey as she spoke--fancy CURTSEYING as you\\'re falling\\nthrough the air! Do you think you could manage it?) \\'And what an\\nignorant little girl she\\'ll think me for asking! No, it\\'ll never do to\\nask: perhaps I shall see it written up somewhere.\\'\\n\\nDown, down, down. There was nothing else to do, so Alice soon began\\ntalking again. \\'Dinah\\'ll miss me very much to-night, I should think!\\'\\n(Dinah was the cat.) \\'I hope they\\'ll remember her saucer of milk at\\ntea-time. Dinah my dear! I wish you were down here with me! There are no\\nmice in the air, I\\'m afraid, but you might catch a bat, and that\\'s very\\nlike a mouse, you know. But do cats eat bats, I wonder?\\' And here Alice\\nbegan to get rather sleepy, and went on saying to herself, in a dreamy\\nsort of way, \\'Do cats eat bats? Do cats eat bats?\\' and sometimes, \\'Do\\nbats eat cats?\\' for, you see, as she couldn\\'t answer either question,\\nit didn\\'t much matter which way she put it. She felt that she was dozing\\noff, and had just begun to dream that she was walking hand in hand with\\nDinah, and saying to her very earnestly, \\'Now, Dinah, tell me the truth:\\ndid you ever eat a bat?\\' when suddenly, thump! thump! down she came upon\\na heap of sticks and dry leaves, and the fall was over.\\n\\nAlice was not a bit hurt, and she jumped up on to her feet in a moment:\\nshe looked up, but it was all dark overhead; before her was another\\nlong passage, and the White Rabbit was still in sight, hurrying down it.\\nThere was not a moment to be lost: away went Alice like the wind, and\\nwas just in time to hear it say, as it turned a corner, \\'Oh my ears\\nand whiskers, how late it\\'s getting!\\' She was close behind it when she\\nturned the corner, but the Rabbit was no longer to be seen: she found\\nherself in a long, low hall, which was lit up by a row of lamps hanging\\nfrom the roof.\\n\\nThere were doors all round the hall, but they were all locked; and when\\nAlice had been all the way down one side and up the other, trying every\\ndoor, she walked sadly down the middle, wondering how she was ever to\\nget out again.\\n\\nSuddenly she came upon a little three-legged table, all made of solid\\nglass; there was nothing on it except a tiny golden key, and Alice\\'s\\nfirst thought was that it might belong to one of the doors of the hall;\\nbut, alas! either the locks were too large, or the key was too small,\\nbut at any rate it would not open any of them. However, on the second\\ntime round, she came upon a low curtain she had not noticed before, and\\nbehind it was a little door about fifteen inches high: she tried the\\nlittle golden key in the lock, and to her great delight it fitted!\\n\\nAlice opened the door and found that it led into a small passage, not\\nmuch larger than a rat-hole: she knelt down and looked along the passage\\ninto the loveliest garden you ever saw. How she longed to get out of\\nthat dark hall, and wander about among those beds of bright flowers and\\nthose cool fountains, but she could not even get her head through the\\ndoorway; \\'and even if my head would go through,\\' thought poor Alice, \\'it\\nwould be of very little use without my shoulders. Oh, how I wish I could\\nshut up like a telescope! I think I could, if I only know how to begin.\\'\\nFor, you see, so many out-of-the-way things had happened lately,\\nthat Alice had begun to think that very few things indeed were really\\nimpossible.\\n\\nThere seemed to be no use in waiting by the little door, so she went\\nback to the table, half hoping she might find another key on it, or at\\nany rate a book of rules for shutting people up like telescopes: this\\ntime she found a little bottle on it, (\\'which certainly was not here\\nbefore,\\' said Alice,) and round the neck of the bottle was a paper\\nlabel, with the words \\'DRINK ME\\' beautifully printed on it in large\\nletters.\\n\\nIt was all very well to say \\'Drink me,\\' but the wise little Alice was\\nnot going to do THAT in a hurry. \\'No, I\\'ll look first,\\' she said, \\'and\\nsee whether it\\'s marked \"poison\" or not\\'; for she had read several nice\\nlittle histories about children who had got burnt, and eaten up by wild\\nbeasts and other unpleasant things, all because they WOULD not remember\\nthe simple rules their friends had taught them: such as, that a red-hot\\npoker will burn you if you hold it too long; and that if you cut your\\nfinger VERY deeply with a knife, it usually bleeds; and she had never\\nforgotten that, if you drink much from a bottle marked \\'poison,\\' it is\\nalmost certain to disagree with you, sooner or later.\\n\\nHowever, this bottle was NOT marked \\'poison,\\' so Alice ventured to taste\\nit, and finding it very nice, (it had, in fact, a sort of mixed flavour\\nof cherry-tart, custard, pine-apple, roast turkey, toffee, and hot\\nbuttered toast,) she very soon finished it off.\\n\\n  *    *    *    *    *    *    *\\n\\n    *    *    *    *    *    *\\n\\n  *    *    *    *    *    *    *\\n\\n\\'What a curious feeling!\\' said Alice; \\'I must be shutting up like a\\ntelescope.\\'\\n\\nAnd so it was indeed: she was now only ten inches high, and her face\\nbrightened up at the thought that she was now the right size for going\\nthrough the little door into that lovely garden. First, however, she\\nwaited for a few minutes to see if she was going to shrink any further:\\nshe felt a little nervous about this; \\'for it might end, you know,\\' said\\nAlice to herself, \\'in my going out altogether, like a candle. I wonder\\nwhat I should be like then?\\' And she tried to fancy what the flame of a\\ncandle is like after the candle is blown out, for she could not remember\\never having seen such a thing.\\n\\nAfter a while, finding that nothing more happened, she decided on going\\ninto the garden at once; but, alas for poor Alice! when she got to the\\ndoor, she found she had forgotten the little golden key, and when she\\nwent back to the table for it, she found she could not possibly reach\\nit: she could see it quite plainly through the glass, and she tried her\\nbest to climb up one of the legs of the table, but it was too slippery;\\nand when she had tired herself out with trying, the poor little thing\\nsat down and cried.\\n\\n\\'Come, there\\'s no use in crying like that!\\' said Alice to herself,\\nrather sharply; \\'I advise you to leave off this minute!\\' She generally\\ngave herself very good advice, (though she very seldom followed it),\\nand sometimes she scolded herself so severely as to bring tears into\\nher eyes; and once she remembered trying to box her own ears for having\\ncheated herself in a game of croquet she was playing against herself,\\nfor this curious child was very fond of pretending to be two people.\\n\\'But it\\'s no use now,\\' thought poor Alice, \\'to pretend to be two people!\\nWhy, there\\'s hardly enough of me left to make ONE respectable person!\\'\\n\\nSoon her eye fell on a little glass box that was lying under the table:\\nshe opened it, and found in it a very small cake, on which the words\\n\\'EAT ME\\' were beautifully marked in currants. \\'Well, I\\'ll eat it,\\' said\\nAlice, \\'and if it makes me grow larger, I can reach the key; and if it\\nmakes me grow smaller, I can creep under the door; so either way I\\'ll\\nget into the garden, and I don\\'t care which happens!\\'\\n\\nShe ate a little bit, and said anxiously to herself, \\'Which way? Which\\nway?\\', holding her hand on the top of her head to feel which way it was\\ngrowing, and she was quite surprised to find that she remained the same\\nsize: to be sure, this generally happens when one eats cake, but Alice\\nhad got so much into the way of expecting nothing but out-of-the-way\\nthings to happen, that it seemed quite dull and stupid for life to go on\\nin the common way.\\n\\nSo she set to work, and very soon finished off the cake.\\n\\n  *    *    *    *    *    *    *\\n\\n    *    *    *    *    *    *\\n\\n  *    *    *    *    *    *    *\\n\\n\\n\\n\\nCHAPTER II. The Pool of Tears\\n\\n\\'Curiouser and curiouser!\\' cried Alice (she was so much surprised, that\\nfor the moment she quite forgot how to speak good English); \\'now I\\'m\\nopening out like the largest telescope that ever was! Good-bye, feet!\\'\\n(for when she looked down at her feet, they seemed to be almost out of\\nsight, they were getting so far off). \\'Oh, my poor little feet, I wonder\\nwho will put on your shoes and stockings for you now, dears? I\\'m sure\\n_I_ shan\\'t be able! I shall be a great deal too far off to trouble\\nmyself about you: you must manage the best way you can;--but I must be\\nkind to them,\\' thought Alice, \\'or perhaps they won\\'t walk the way I want\\nto go! Let me see: I\\'ll give them a new pair of boots every Christmas.\\'\\n\\nAnd she went on planning to herself how she would manage it. \\'They must\\ngo by the carrier,\\' she thought; \\'and how funny it\\'ll seem, sending\\npresents to one\\'s own feet! And how odd the directions will look!\\n\\n     ALICE\\'S RIGHT FOOT, ESQ.\\n       HEARTHRUG,\\n         NEAR THE FENDER,\\n           (WITH ALICE\\'S LOVE).\\n\\nOh dear, what nonsense I\\'m talking!\\'\\n\\nJust then her head struck against the roof of the hall: in fact she was\\nnow more than nine feet high, and she at once took up the little golden\\nkey and hurried off to the garden door.\\n\\nPoor Alice! It was as much as she could do, lying down on one side, to\\nlook through into the garden with one eye; but to get through was more\\nhopeless than ever: she sat down and began to cry again.\\n\\n\\'You ought to be ashamed of yourself,\\' said Alice, \\'a great girl like\\nyou,\\' (she might well say this), \\'to go on crying in this way! Stop this\\nmoment, I tell you!\\' But she went on all the same, shedding gallons of\\ntears, until there was a large pool all round her, about four inches\\ndeep and reaching half down the hall.\\n\\nAfter a time she heard a little pattering of feet in the distance, and\\nshe hastily dried her eyes to see what was coming. It was the White\\nRabbit returning, splendidly dressed, with a pair of white kid gloves in\\none hand and a large fan in the other: he came trotting along in a great\\nhurry, muttering to himself as he came, \\'Oh! the Duchess, the Duchess!\\nOh! won\\'t she be savage if I\\'ve kept her waiting!\\' Alice felt so\\ndesperate that she was ready to ask help of any one; so, when the Rabbit\\ncame near her, she began, in a low, timid voice, \\'If you please, sir--\\'\\nThe Rabbit started violently, dropped the white kid gloves and the fan,\\nand skurried away into the darkness as hard as he could go.\\n\\nAlice took up the fan and gloves, and, as the hall was very hot, she\\nkept fanning herself all the time she went on talking: \\'Dear, dear! How\\nqueer everything is to-day! And yesterday things went on just as usual.\\nI wonder if I\\'ve been changed in the night? Let me think: was I the\\nsame when I got up this morning? I almost think I can remember feeling a\\nlittle different. But if I\\'m not the same, the next question is, Who\\nin the world am I? Ah, THAT\\'S the great puzzle!\\' And she began thinking\\nover all the children she knew that were of the same age as herself, to\\nsee if she could have been changed for any of them.\\n\\n\\'I\\'m sure I\\'m not Ada,\\' she said, \\'for her hair goes in such long\\nringlets, and mine doesn\\'t go in ringlets at all; and I\\'m sure I can\\'t\\nbe Mabel, for I know all sorts of things, and she, oh! she knows such a\\nvery little! Besides, SHE\\'S she, and I\\'m I, and--oh dear, how puzzling\\nit all is! I\\'ll try if I know all the things I used to know. Let me\\nsee: four times five is twelve, and four times six is thirteen, and\\nfour times seven is--oh dear! I shall never get to twenty at that rate!\\nHowever, the Multiplication Table doesn\\'t signify: let\\'s try Geography.\\nLondon is the capital of Paris, and Paris is the capital of Rome, and\\nRome--no, THAT\\'S all wrong, I\\'m certain! I must have been changed for\\nMabel! I\\'ll try and say \"How doth the little--\"\\' and she crossed her\\nhands on her lap as if she were saying lessons, and began to repeat it,\\nbut her voice sounded hoarse and strange, and the words did not come the\\nsame as they used to do:--\\n\\n     \\'How doth the little crocodile\\n      Improve his shining tail,\\n     And pour the waters of the Nile\\n      On every golden scale!\\n\\n     \\'How cheerfully he seems to grin,\\n      How neatly spread his claws,\\n     And welcome little fishes in\\n      With gently smiling jaws!\\'\\n\\n\\'I\\'m sure those are not the right words,\\' said poor Alice, and her eyes\\nfilled with tears again as she went on, \\'I must be Mabel after all, and\\nI shall have to go and live in that poky little house, and have next to\\nno toys to play with, and oh! ever so many lessons to learn! No, I\\'ve\\nmade up my mind about it; if I\\'m Mabel, I\\'ll stay down here! It\\'ll be no\\nuse their putting their heads down and saying \"Come up again, dear!\" I\\nshall only look up and say \"Who am I then? Tell me that first, and then,\\nif I like being that person, I\\'ll come up: if not, I\\'ll stay down here\\ntill I\\'m somebody else\"--but, oh dear!\\' cried Alice, with a sudden burst\\nof tears, \\'I do wish they WOULD put their heads down! I am so VERY tired\\nof being all alone here!\\'\\n\\nAs she said this she looked down at her hands, and was surprised to see\\nthat she had put on one of the Rabbit\\'s little white kid gloves while\\nshe was talking. \\'How CAN I have done that?\\' she thought. \\'I must\\nbe growing small again.\\' She got up and went to the table to measure\\nherself by it, and found that, as nearly as she could guess, she was now\\nabout two feet high, and was going on shrinking rapidly: she soon found\\nout that the cause of this was the fan she was holding, and she dropped\\nit hastily, just in time to avoid shrinking away altogether.\\n\\n\\'That WAS a narrow escape!\\' said Alice, a good deal frightened at the\\nsudden change, but very glad to find herself still in existence; \\'and\\nnow for the garden!\\' and she ran with all speed back to the little door:\\nbut, alas! the little door was shut again, and the little golden key was\\nlying on the glass table as before, \\'and things are worse than ever,\\'\\nthought the poor child, \\'for I never was so small as this before, never!\\nAnd I declare it\\'s too bad, that it is!\\'\\n\\nAs she said these words her foot slipped, and in another moment, splash!\\nshe was up to her chin in salt water. Her first idea was that she\\nhad somehow fallen into the sea, \\'and in that case I can go back by\\nrailway,\\' she said to herself. (Alice had been to the seaside once in\\nher life, and had come to the general conclusion, that wherever you go\\nto on the English coast you find a number of bathing machines in the\\nsea, some children digging in the sand with wooden spades, then a row\\nof lodging houses, and behind them a railway station.) However, she soon\\nmade out that she was in the pool of tears which she had wept when she\\nwas nine feet high.\\n\\n\\'I wish I hadn\\'t cried so much!\\' said Alice, as she swam about, trying\\nto find her way out. \\'I shall be punished for it now, I suppose, by\\nbeing drowned in my own tears! That WILL be a queer thing, to be sure!\\nHowever, everything is queer to-day.\\'\\n\\nJust then she heard something splashing about in the pool a little way\\noff, and she swam nearer to make out what it was: at first she thought\\nit must be a walrus or hippopotamus, but then she remembered how small\\nshe was now, and she soon made out that it was only a mouse that had\\nslipped in like herself.\\n\\n\\'Would it be of any use, now,\\' thought Alice, \\'to speak to this mouse?\\nEverything is so out-of-the-way down here, that I should think very\\nlikely it can talk: at any rate, there\\'s no harm in trying.\\' So she\\nbegan: \\'O Mouse, do you know the way out of this pool? I am very tired\\nof swimming about here, O Mouse!\\' (Alice thought this must be the right\\nway of speaking to a mouse: she had never done such a thing before, but\\nshe remembered having seen in her brother\\'s Latin Grammar, \\'A mouse--of\\na mouse--to a mouse--a mouse--O mouse!\\') The Mouse looked at her rather\\ninquisitively, and seemed to her to wink with one of its little eyes,\\nbut it said nothing.\\n\\n\\'Perhaps it doesn\\'t understand English,\\' thought Alice; \\'I daresay it\\'s\\na French mouse, come over with William the Conqueror.\\' (For, with all\\nher knowledge of history, Alice had no very clear notion how long ago\\nanything had happened.) So she began again: \\'Ou est ma chatte?\\' which\\nwas the first sentence in her French lesson-book. The Mouse gave a\\nsudden leap out of the water, and seemed to quiver all over with fright.\\n\\'Oh, I beg your pardon!\\' cried Alice hastily, afraid that she had hurt\\nthe poor animal\\'s feelings. \\'I quite forgot you didn\\'t like cats.\\'\\n\\n\\'Not like cats!\\' cried the Mouse, in a shrill, passionate voice. \\'Would\\nYOU like cats if you were me?\\'\\n\\n\\'Well, perhaps not,\\' said Alice in a soothing tone: \\'don\\'t be angry\\nabout it. And yet I wish I could show you our cat Dinah: I think you\\'d\\ntake a fancy to cats if you could only see her. She is such a dear quiet\\nthing,\\' Alice went on, half to herself, as she swam lazily about in the\\npool, \\'and she sits purring so nicely by the fire, licking her paws and\\nwashing her face--and she is such a nice soft thing to nurse--and she\\'s\\nsuch a capital one for catching mice--oh, I beg your pardon!\\' cried\\nAlice again, for this time the Mouse was bristling all over, and she\\nfelt certain it must be really offended. \\'We won\\'t talk about her any\\nmore if you\\'d rather not.\\'\\n\\n\\'We indeed!\\' cried the Mouse, who was trembling down to the end of his\\ntail. \\'As if I would talk on such a subject! Our family always HATED\\ncats: nasty, low, vulgar things! Don\\'t let me hear the name again!\\'\\n\\n\\'I won\\'t indeed!\\' said Alice, in a great hurry to change the subject of\\nconversation. \\'Are you--are you fond--of--of dogs?\\' The Mouse did not\\nanswer, so Alice went on eagerly: \\'There is such a nice little dog near\\nour house I should like to show you! A little bright-eyed terrier, you\\nknow, with oh, such long curly brown hair! And it\\'ll fetch things when\\nyou throw them, and it\\'ll sit up and beg for its dinner, and all sorts\\nof things--I can\\'t remember half of them--and it belongs to a farmer,\\nyou know, and he says it\\'s so useful, it\\'s worth a hundred pounds! He\\nsays it kills all the rats and--oh dear!\\' cried Alice in a sorrowful\\ntone, \\'I\\'m afraid I\\'ve offended it again!\\' For the Mouse was swimming\\naway from her as hard as it could go, and making quite a commotion in\\nthe pool as it went.\\n\\nSo she called softly after it, \\'Mouse dear! Do come back again, and we\\nwon\\'t talk about cats or dogs either, if you don\\'t like them!\\' When the\\nMouse heard this, it turned round and swam slowly back to her: its\\nface was quite pale (with passion, Alice thought), and it said in a low\\ntrembling voice, \\'Let us get to the shore, and then I\\'ll tell you my\\nhistory, and you\\'ll understand why it is I hate cats and dogs.\\'\\n\\nIt was high time to go, for the pool was getting quite crowded with the\\nbirds and animals that had fallen into it: there were a Duck and a Dodo,\\na Lory and an Eaglet, and several other curious creatures. Alice led the\\nway, and the whole party swam to the shore.\\n\\n\\n\\n\\nCHAPTER III. A Caucus-Race and a Long Tale\\n\\nThey were indeed a queer-looking party that assembled on the bank--the\\nbirds with draggled feathers, the animals with their fur clinging close\\nto them, and all dripping wet, cross, and uncomfortable.\\n\\nThe first question of course was, how to get dry again: they had a\\nconsultation about this, and after a few minutes it seemed quite natural\\nto Alice to find herself talking familiarly with them, as if she had\\nknown them all her life. Indeed, she had quite a long argument with the\\nLory, who at last turned sulky, and would only say, \\'I am older than\\nyou, and must know better\\'; and this Alice would not allow without\\nknowing how old it was, and, as the Lory positively refused to tell its\\nage, there was no more to be said.\\n\\nAt last the Mouse, who seemed to be a person of authority among them,\\ncalled out, \\'Sit down, all of you, and listen to me! I\\'LL soon make you\\ndry enough!\\' They all sat down at once, in a large ring, with the Mouse\\nin the middle. Alice kept her eyes anxiously fixed on it, for she felt\\nsure she would catch a bad cold if she did not get dry very soon.\\n\\n\\'Ahem!\\' said the Mouse with an important air, \\'are you all ready? This\\nis the driest thing I know. Silence all round, if you please! \"William\\nthe Conqueror, whose cause was favoured by the pope, was soon submitted\\nto by the English, who wanted leaders, and had been of late much\\naccustomed to usurpation and conquest. Edwin and Morcar, the earls of\\nMercia and Northumbria--\"\\'\\n\\n\\'Ugh!\\' said the Lory, with a shiver.\\n\\n\\'I beg your pardon!\\' said the Mouse, frowning, but very politely: \\'Did\\nyou speak?\\'\\n\\n\\'Not I!\\' said the Lory hastily.\\n\\n\\'I thought you did,\\' said the Mouse. \\'--I proceed. \"Edwin and Morcar,\\nthe earls of Mercia and Northumbria, declared for him: and even Stigand,\\nthe patriotic archbishop of Canterbury, found it advisable--\"\\'\\n\\n\\'Found WHAT?\\' said the Duck.\\n\\n\\'Found IT,\\' the Mouse replied rather crossly: \\'of course you know what\\n\"it\" means.\\'\\n\\n\\'I know what \"it\" means well enough, when I find a thing,\\' said the\\nDuck: \\'it\\'s generally a frog or a worm. The question is, what did the\\narchbishop find?\\'\\n\\nThe Mouse did not notice this question, but hurriedly went on, \\'\"--found\\nit advisable to go with Edgar Atheling to meet William and offer him the\\ncrown. William\\'s conduct at first was moderate. But the insolence of his\\nNormans--\" How are you getting on now, my dear?\\' it continued, turning\\nto Alice as it spoke.\\n\\n\\'As wet as ever,\\' said Alice in a melancholy tone: \\'it doesn\\'t seem to\\ndry me at all.\\'\\n\\n\\'In that case,\\' said the Dodo solemnly, rising to its feet, \\'I move\\nthat the meeting adjourn, for the immediate adoption of more energetic\\nremedies--\\'\\n\\n\\'Speak English!\\' said the Eaglet. \\'I don\\'t know the meaning of half\\nthose long words, and, what\\'s more, I don\\'t believe you do either!\\' And\\nthe Eaglet bent down its head to hide a smile: some of the other birds\\ntittered audibly.\\n\\n\\'What I was going to say,\\' said the Dodo in an offended tone, \\'was, that\\nthe best thing to get us dry would be a Caucus-race.\\'\\n\\n\\'What IS a Caucus-race?\\' said Alice; not that she wanted much to know,\\nbut the Dodo had paused as if it thought that SOMEBODY ought to speak,\\nand no one else seemed inclined to say anything.\\n\\n\\'Why,\\' said the Dodo, \\'the best way to explain it is to do it.\\' (And, as\\nyou might like to try the thing yourself, some winter day, I will tell\\nyou how the Dodo managed it.)\\n\\nFirst it marked out a race-course, in a sort of circle, (\\'the exact\\nshape doesn\\'t matter,\\' it said,) and then all the party were placed\\nalong the course, here and there. There was no \\'One, two, three, and\\naway,\\' but they began running when they liked, and left off when they\\nliked, so that it was not easy to know when the race was over. However,\\nwhen they had been running half an hour or so, and were quite dry again,\\nthe Dodo suddenly called out \\'The race is over!\\' and they all crowded\\nround it, panting, and asking, \\'But who has won?\\'\\n\\nThis question the Dodo could not answer without a great deal of thought,\\nand it sat for a long time with one finger pressed upon its forehead\\n(the position in which you usually see Shakespeare, in the pictures\\nof him), while the rest waited in silence. At last the Dodo said,\\n\\'EVERYBODY has won, and all must have prizes.\\'\\n\\n\\'But who is to give the prizes?\\' quite a chorus of voices asked.\\n\\n\\'Why, SHE, of course,\\' said the Dodo, pointing to Alice with one finger;\\nand the whole party at once crowded round her, calling out in a confused\\nway, \\'Prizes! Prizes!\\'\\n\\nAlice had no idea what to do, and in despair she put her hand in her\\npocket, and pulled out a box of comfits, (luckily the salt water had\\nnot got into it), and handed them round as prizes. There was exactly one\\na-piece all round.\\n\\n\\'But she must have a prize herself, you know,\\' said the Mouse.\\n\\n\\'Of course,\\' the Dodo replied very gravely. \\'What else have you got in\\nyour pocket?\\' he went on, turning to Alice.\\n\\n\\'Only a thimble,\\' said Alice sadly.\\n\\n\\'Hand it over here,\\' said the Dodo.\\n\\nThen they all crowded round her once more, while the Dodo solemnly\\npresented the thimble, saying \\'We beg your acceptance of this elegant\\nthimble\\'; and, when it had finished this short speech, they all cheered.\\n\\nAlice thought the whole thing very absurd, but they all looked so grave\\nthat she did not dare to laugh; and, as she could not think of anything\\nto say, she simply bowed, and took the thimble, looking as solemn as she\\ncould.\\n\\nThe next thing was to eat the comfits: this caused some noise and\\nconfusion, as the large birds complained that they could not taste\\ntheirs, and the small ones choked and had to be patted on the back.\\nHowever, it was over at last, and they sat down again in a ring, and\\nbegged the Mouse to tell them something more.\\n\\n\\'You promised to tell me your history, you know,\\' said Alice, \\'and why\\nit is you hate--C and D,\\' she added in a whisper, half afraid that it\\nwould be offended again.\\n\\n\\'Mine is a long and a sad tale!\\' said the Mouse, turning to Alice, and\\nsighing.\\n\\n\\'It IS a long tail, certainly,\\' said Alice, looking down with wonder at\\nthe Mouse\\'s tail; \\'but why do you call it sad?\\' And she kept on puzzling\\nabout it while the Mouse was speaking, so that her idea of the tale was\\nsomething like this:--\\n\\n         \\'Fury said to a\\n         mouse, That he\\n        met in the\\n       house,\\n     \"Let us\\n      both go to\\n       law: I will\\n        prosecute\\n         YOU.--Come,\\n           I\\'ll take no\\n           denial; We\\n          must have a\\n        trial: For\\n      really this\\n     morning I\\'ve\\n    nothing\\n    to do.\"\\n     Said the\\n      mouse to the\\n       cur, \"Such\\n        a trial,\\n         dear Sir,\\n            With\\n          no jury\\n        or judge,\\n       would be\\n      wasting\\n      our\\n      breath.\"\\n       \"I\\'ll be\\n        judge, I\\'ll\\n         be jury,\"\\n            Said\\n         cunning\\n          old Fury:\\n          \"I\\'ll\\n          try the\\n            whole\\n            cause,\\n              and\\n           condemn\\n           you\\n          to\\n           death.\"\\'\\n\\n\\n\\'You are not attending!\\' said the Mouse to Alice severely. \\'What are you\\nthinking of?\\'\\n\\n\\'I beg your pardon,\\' said Alice very humbly: \\'you had got to the fifth\\nbend, I think?\\'\\n\\n\\'I had NOT!\\' cried the Mouse, sharply and very angrily.\\n\\n\\'A knot!\\' said Alice, always ready to make herself useful, and looking\\nanxiously about her. \\'Oh, do let me help to undo it!\\'\\n\\n\\'I shall do nothing of the sort,\\' said the Mouse, getting up and walking\\naway. \\'You insult me by talking such nonsense!\\'\\n\\n\\'I didn\\'t mean it!\\' pleaded poor Alice. \\'But you\\'re so easily offended,\\nyou know!\\'\\n\\nThe Mouse only growled in reply.\\n\\n\\'Please come back and finish your story!\\' Alice called after it; and the\\nothers all joined in chorus, \\'Yes, please do!\\' but the Mouse only shook\\nits head impatiently, and walked a little quicker.\\n\\n\\'What a pity it wouldn\\'t stay!\\' sighed the Lory, as soon as it was quite\\nout of sight; and an old Crab took the opportunity of saying to her\\ndaughter \\'Ah, my dear! Let this be a lesson to you never to lose\\nYOUR temper!\\' \\'Hold your tongue, Ma!\\' said the young Crab, a little\\nsnappishly. \\'You\\'re enough to try the patience of an oyster!\\'\\n\\n\\'I wish I had our Dinah here, I know I do!\\' said Alice aloud, addressing\\nnobody in particular. \\'She\\'d soon fetch it back!\\'\\n\\n\\'And who is Dinah, if I might venture to ask the question?\\' said the\\nLory.\\n\\nAlice replied eagerly, for she was always ready to talk about her pet:\\n\\'Dinah\\'s our cat. And she\\'s such a capital one for catching mice you\\ncan\\'t think! And oh, I wish you could see her after the birds! Why,\\nshe\\'ll eat a little bird as soon as look at it!\\'\\n\\nThis speech caused a remarkable sensation among the party. Some of the\\nbirds hurried off at once: one old Magpie began wrapping itself up very\\ncarefully, remarking, \\'I really must be getting home; the night-air\\ndoesn\\'t suit my throat!\\' and a Canary called out in a trembling voice to\\nits children, \\'Come away, my dears! It\\'s high time you were all in bed!\\'\\nOn various pretexts they all moved off, and Alice was soon left alone.\\n\\n\\'I wish I hadn\\'t mentioned Dinah!\\' she said to herself in a melancholy\\ntone. \\'Nobody seems to like her, down here, and I\\'m sure she\\'s the best\\ncat in the world! Oh, my dear Dinah! I wonder if I shall ever see you\\nany more!\\' And here poor Alice began to cry again, for she felt very\\nlonely and low-spirited. In a little while, however, she again heard\\na little pattering of footsteps in the distance, and she looked up\\neagerly, half hoping that the Mouse had changed his mind, and was coming\\nback to finish his story.\\n\\n\\n\\n\\nCHAPTER IV. The Rabbit Sends in a Little Bill\\n\\nIt was the White Rabbit, trotting slowly back again, and looking\\nanxiously about as it went, as if it had lost something; and she heard\\nit muttering to itself \\'The Duchess! The Duchess! Oh my dear paws! Oh\\nmy fur and whiskers! She\\'ll get me executed, as sure as ferrets are\\nferrets! Where CAN I have dropped them, I wonder?\\' Alice guessed in a\\nmoment that it was looking for the fan and the pair of white kid gloves,\\nand she very good-naturedly began hunting about for them, but they were\\nnowhere to be seen--everything seemed to have changed since her swim in\\nthe pool, and the great hall, with the glass table and the little door,\\nhad vanished completely.\\n\\nVery soon the Rabbit noticed Alice, as she went hunting about, and\\ncalled out to her in an angry tone, \\'Why, Mary Ann, what ARE you doing\\nout here? Run home this moment, and fetch me a pair of gloves and a fan!\\nQuick, now!\\' And Alice was so much frightened that she ran off at once\\nin the direction it pointed to, without trying to explain the mistake it\\nhad made.\\n\\n\\'He took me for his housemaid,\\' she said to herself as she ran. \\'How\\nsurprised he\\'ll be when he finds out who I am! But I\\'d better take him\\nhis fan and gloves--that is, if I can find them.\\' As she said this, she\\ncame upon a neat little house, on the door of which was a bright brass\\nplate with the name \\'W. RABBIT\\' engraved upon it. She went in without\\nknocking, and hurried upstairs, in great fear lest she should meet the\\nreal Mary Ann, and be turned out of the house before she had found the\\nfan and gloves.\\n\\n\\'How queer it seems,\\' Alice said to herself, \\'to be going messages for\\na rabbit! I suppose Dinah\\'ll be sending me on messages next!\\' And she\\nbegan fancying the sort of thing that would happen: \\'\"Miss Alice! Come\\nhere directly, and get ready for your walk!\" \"Coming in a minute,\\nnurse! But I\\'ve got to see that the mouse doesn\\'t get out.\" Only I don\\'t\\nthink,\\' Alice went on, \\'that they\\'d let Dinah stop in the house if it\\nbegan ordering people about like that!\\'\\n\\nBy this time she had found her way into a tidy little room with a table\\nin the window, and on it (as she had hoped) a fan and two or three pairs\\nof tiny white kid gloves: she took up the fan and a pair of the gloves,\\nand was just going to leave the room, when her eye fell upon a little\\nbottle that stood near the looking-glass. There was no label this time\\nwith the words \\'DRINK ME,\\' but nevertheless she uncorked it and put it\\nto her lips. \\'I know SOMETHING interesting is sure to happen,\\' she said\\nto herself, \\'whenever I eat or drink anything; so I\\'ll just see what\\nthis bottle does. I do hope it\\'ll make me grow large again, for really\\nI\\'m quite tired of being such a tiny little thing!\\'\\n\\nIt did so indeed, and much sooner than she had expected: before she had\\ndrunk half the bottle, she found her head pressing against the ceiling,\\nand had to stoop to save her neck from being broken. She hastily put\\ndown the bottle, saying to herself \\'That\\'s quite enough--I hope I shan\\'t\\ngrow any more--As it is, I can\\'t get out at the door--I do wish I hadn\\'t\\ndrunk quite so much!\\'\\n\\nAlas! it was too late to wish that! She went on growing, and growing,\\nand very soon had to kneel down on the floor: in another minute there\\nwas not even room for this, and she tried the effect of lying down with\\none elbow against the door, and the other arm curled round her head.\\nStill she went on growing, and, as a last resource, she put one arm out\\nof the window, and one foot up the chimney, and said to herself \\'Now I\\ncan do no more, whatever happens. What WILL become of me?\\'\\n\\nLuckily for Alice, the little magic bottle had now had its full effect,\\nand she grew no larger: still it was very uncomfortable, and, as there\\nseemed to be no sort of chance of her ever getting out of the room\\nagain, no wonder she felt unhappy.\\n\\n\\'It was much pleasanter at home,\\' thought poor Alice, \\'when one wasn\\'t\\nalways growing larger and smaller, and being ordered about by mice and\\nrabbits. I almost wish I hadn\\'t gone down that rabbit-hole--and yet--and\\nyet--it\\'s rather curious, you know, this sort of life! I do wonder what\\nCAN have happened to me! When I used to read fairy-tales, I fancied that\\nkind of thing never happened, and now here I am in the middle of one!\\nThere ought to be a book written about me, that there ought! And when I\\ngrow up, I\\'ll write one--but I\\'m grown up now,\\' she added in a sorrowful\\ntone; \\'at least there\\'s no room to grow up any more HERE.\\'\\n\\n\\'But then,\\' thought Alice, \\'shall I NEVER get any older than I am\\nnow? That\\'ll be a comfort, one way--never to be an old woman--but\\nthen--always to have lessons to learn! Oh, I shouldn\\'t like THAT!\\'\\n\\n\\'Oh, you foolish Alice!\\' she answered herself. \\'How can you learn\\nlessons in here? Why, there\\'s hardly room for YOU, and no room at all\\nfor any lesson-books!\\'\\n\\nAnd so she went on, taking first one side and then the other, and making\\nquite a conversation of it altogether; but after a few minutes she heard\\na voice outside, and stopped to listen.\\n\\n\\'Mary Ann! Mary Ann!\\' said the voice. \\'Fetch me my gloves this moment!\\'\\nThen came a little pattering of feet on the stairs. Alice knew it was\\nthe Rabbit coming to look for her, and she trembled till she shook the\\nhouse, quite forgetting that she was now about a thousand times as large\\nas the Rabbit, and had no reason to be afraid of it.\\n\\nPresently the Rabbit came up to the door, and tried to open it; but, as\\nthe door opened inwards, and Alice\\'s elbow was pressed hard against it,\\nthat attempt proved a failure. Alice heard it say to itself \\'Then I\\'ll\\ngo round and get in at the window.\\'\\n\\n\\'THAT you won\\'t\\' thought Alice, and, after waiting till she fancied\\nshe heard the Rabbit just under the window, she suddenly spread out her\\nhand, and made a snatch in the air. She did not get hold of anything,\\nbut she heard a little shriek and a fall, and a crash of broken glass,\\nfrom which she concluded that it was just possible it had fallen into a\\ncucumber-frame, or something of the sort.\\n\\nNext came an angry voice--the Rabbit\\'s--\\'Pat! Pat! Where are you?\\' And\\nthen a voice she had never heard before, \\'Sure then I\\'m here! Digging\\nfor apples, yer honour!\\'\\n\\n\\'Digging for apples, indeed!\\' said the Rabbit angrily. \\'Here! Come and\\nhelp me out of THIS!\\' (Sounds of more broken glass.)\\n\\n\\'Now tell me, Pat, what\\'s that in the window?\\'\\n\\n\\'Sure, it\\'s an arm, yer honour!\\' (He pronounced it \\'arrum.\\')\\n\\n\\'An arm, you goose! Who ever saw one that size? Why, it fills the whole\\nwindow!\\'\\n\\n\\'Sure, it does, yer honour: but it\\'s an arm for all that.\\'\\n\\n\\'Well, it\\'s got no business there, at any rate: go and take it away!\\'\\n\\nThere was a long silence after this, and Alice could only hear whispers\\nnow and then; such as, \\'Sure, I don\\'t like it, yer honour, at all, at\\nall!\\' \\'Do as I tell you, you coward!\\' and at last she spread out her\\nhand again, and made another snatch in the air. This time there were\\nTWO little shrieks, and more sounds of broken glass. \\'What a number of\\ncucumber-frames there must be!\\' thought Alice. \\'I wonder what they\\'ll do\\nnext! As for pulling me out of the window, I only wish they COULD! I\\'m\\nsure I don\\'t want to stay in here any longer!\\'\\n\\nShe waited for some time without hearing anything more: at last came a\\nrumbling of little cartwheels, and the sound of a good many voices\\nall talking together: she made out the words: \\'Where\\'s the other\\nladder?--Why, I hadn\\'t to bring but one; Bill\\'s got the other--Bill!\\nfetch it here, lad!--Here, put \\'em up at this corner--No, tie \\'em\\ntogether first--they don\\'t reach half high enough yet--Oh! they\\'ll\\ndo well enough; don\\'t be particular--Here, Bill! catch hold of this\\nrope--Will the roof bear?--Mind that loose slate--Oh, it\\'s coming\\ndown! Heads below!\\' (a loud crash)--\\'Now, who did that?--It was Bill, I\\nfancy--Who\\'s to go down the chimney?--Nay, I shan\\'t! YOU do it!--That I\\nwon\\'t, then!--Bill\\'s to go down--Here, Bill! the master says you\\'re to\\ngo down the chimney!\\'\\n\\n\\'Oh! So Bill\\'s got to come down the chimney, has he?\\' said Alice to\\nherself. \\'Shy, they seem to put everything upon Bill! I wouldn\\'t be in\\nBill\\'s place for a good deal: this fireplace is narrow, to be sure; but\\nI THINK I can kick a little!\\'\\n\\nShe drew her foot as far down the chimney as she could, and waited\\ntill she heard a little animal (she couldn\\'t guess of what sort it was)\\nscratching and scrambling about in the chimney close above her: then,\\nsaying to herself \\'This is Bill,\\' she gave one sharp kick, and waited to\\nsee what would happen next.\\n\\nThe first thing she heard was a general chorus of \\'There goes Bill!\\'\\nthen the Rabbit\\'s voice along--\\'Catch him, you by the hedge!\\' then\\nsilence, and then another confusion of voices--\\'Hold up his head--Brandy\\nnow--Don\\'t choke him--How was it, old fellow? What happened to you? Tell\\nus all about it!\\'\\n\\nLast came a little feeble, squeaking voice, (\\'That\\'s Bill,\\' thought\\nAlice,) \\'Well, I hardly know--No more, thank ye; I\\'m better now--but I\\'m\\na deal too flustered to tell you--all I know is, something comes at me\\nlike a Jack-in-the-box, and up I goes like a sky-rocket!\\'\\n\\n\\'So you did, old fellow!\\' said the others.\\n\\n\\'We must burn the house down!\\' said the Rabbit\\'s voice; and Alice called\\nout as loud as she could, \\'If you do. I\\'ll set Dinah at you!\\'\\n\\nThere was a dead silence instantly, and Alice thought to herself, \\'I\\nwonder what they WILL do next! If they had any sense, they\\'d take the\\nroof off.\\' After a minute or two, they began moving about again, and\\nAlice heard the Rabbit say, \\'A barrowful will do, to begin with.\\'\\n\\n\\'A barrowful of WHAT?\\' thought Alice; but she had not long to doubt,\\nfor the next moment a shower of little pebbles came rattling in at the\\nwindow, and some of them hit her in the face. \\'I\\'ll put a stop to this,\\'\\nshe said to herself, and shouted out, \\'You\\'d better not do that again!\\'\\nwhich produced another dead silence.\\n\\nAlice noticed with some surprise that the pebbles were all turning into\\nlittle cakes as they lay on the floor, and a bright idea came into her\\nhead. \\'If I eat one of these cakes,\\' she thought, \\'it\\'s sure to make\\nSOME change in my size; and as it can\\'t possibly make me larger, it must\\nmake me smaller, I suppose.\\'\\n\\nSo she swallowed one of the cakes, and was delighted to find that she\\nbegan shrinking directly. As soon as she was small enough to get through\\nthe door, she ran out of the house, and found quite a crowd of little\\nanimals and birds waiting outside. The poor little Lizard, Bill, was\\nin the middle, being held up by two guinea-pigs, who were giving it\\nsomething out of a bottle. They all made a rush at Alice the moment she\\nappeared; but she ran off as hard as she could, and soon found herself\\nsafe in a thick wood.\\n\\n\\'The first thing I\\'ve got to do,\\' said Alice to herself, as she wandered\\nabout in the wood, \\'is to grow to my right size again; and the second\\nthing is to find my way into that lovely garden. I think that will be\\nthe best plan.\\'\\n\\nIt sounded an excellent plan, no doubt, and very neatly and simply\\narranged; the only difficulty was, that she had not the smallest idea\\nhow to set about it; and while she was peering about anxiously among\\nthe trees, a little sharp bark just over her head made her look up in a\\ngreat hurry.\\n\\nAn enormous puppy was looking down at her with large round eyes, and\\nfeebly stretching out one paw, trying to touch her. \\'Poor little thing!\\'\\nsaid Alice, in a coaxing tone, and she tried hard to whistle to it; but\\nshe was terribly frightened all the time at the thought that it might be\\nhungry, in which case it would be very likely to eat her up in spite of\\nall her coaxing.\\n\\nHardly knowing what she did, she picked up a little bit of stick, and\\nheld it out to the puppy; whereupon the puppy jumped into the air off\\nall its feet at once, with a yelp of delight, and rushed at the stick,\\nand made believe to worry it; then Alice dodged behind a great thistle,\\nto keep herself from being run over; and the moment she appeared on the\\nother side, the puppy made another rush at the stick, and tumbled head\\nover heels in its hurry to get hold of it; then Alice, thinking it was\\nvery like having a game of play with a cart-horse, and expecting every\\nmoment to be trampled under its feet, ran round the thistle again; then\\nthe puppy began a series of short charges at the stick, running a very\\nlittle way forwards each time and a long way back, and barking hoarsely\\nall the while, till at last it sat down a good way off, panting, with\\nits tongue hanging out of its mouth, and its great eyes half shut.\\n\\nThis seemed to Alice a good opportunity for making her escape; so she\\nset off at once, and ran till she was quite tired and out of breath, and\\ntill the puppy\\'s bark sounded quite faint in the distance.\\n\\n\\'And yet what a dear little puppy it was!\\' said Alice, as she leant\\nagainst a buttercup to rest herself, and fanned herself with one of the\\nleaves: \\'I should have liked teaching it tricks very much, if--if I\\'d\\nonly been the right size to do it! Oh dear! I\\'d nearly forgotten that\\nI\\'ve got to grow up again! Let me see--how IS it to be managed? I\\nsuppose I ought to eat or drink something or other; but the great\\nquestion is, what?\\'\\n\\nThe great question certainly was, what? Alice looked all round her at\\nthe flowers and the blades of grass, but she did not see anything that\\nlooked like the right thing to eat or drink under the circumstances.\\nThere was a large mushroom growing near her, about the same height as\\nherself; and when she had looked under it, and on both sides of it, and\\nbehind it, it occurred to her that she might as well look and see what\\nwas on the top of it.\\n\\nShe stretched herself up on tiptoe, and peeped over the edge of the\\nmushroom, and her eyes immediately met those of a large caterpillar,\\nthat was sitting on the top with its arms folded, quietly smoking a long\\nhookah, and taking not the smallest notice of her or of anything else.\\n\\n\\n\\n\\nCHAPTER V. Advice from a Caterpillar\\n\\nThe Caterpillar and Alice looked at each other for some time in silence:\\nat last the Caterpillar took the hookah out of its mouth, and addressed\\nher in a languid, sleepy voice.\\n\\n\\'Who are YOU?\\' said the Caterpillar.\\n\\nThis was not an encouraging opening for a conversation. Alice replied,\\nrather shyly, \\'I--I hardly know, sir, just at present--at least I know\\nwho I WAS when I got up this morning, but I think I must have been\\nchanged several times since then.\\'\\n\\n\\'What do you mean by that?\\' said the Caterpillar sternly. \\'Explain\\nyourself!\\'\\n\\n\\'I can\\'t explain MYSELF, I\\'m afraid, sir\\' said Alice, \\'because I\\'m not\\nmyself, you see.\\'\\n\\n\\'I don\\'t see,\\' said the Caterpillar.\\n\\n\\'I\\'m afraid I can\\'t put it more clearly,\\' Alice replied very politely,\\n\\'for I can\\'t understand it myself to begin with; and being so many\\ndifferent sizes in a day is very confusing.\\'\\n\\n\\'It isn\\'t,\\' said the Caterpillar.\\n\\n\\'Well, perhaps you haven\\'t found it so yet,\\' said Alice; \\'but when you\\nhave to turn into a chrysalis--you will some day, you know--and then\\nafter that into a butterfly, I should think you\\'ll feel it a little\\nqueer, won\\'t you?\\'\\n\\n\\'Not a bit,\\' said the Caterpillar.\\n\\n\\'Well, perhaps your feelings may be different,\\' said Alice; \\'all I know\\nis, it would feel very queer to ME.\\'\\n\\n\\'You!\\' said the Caterpillar contemptuously. \\'Who are YOU?\\'\\n\\nWhich brought them back again to the beginning of the conversation.\\nAlice felt a little irritated at the Caterpillar\\'s making such VERY\\nshort remarks, and she drew herself up and said, very gravely, \\'I think,\\nyou ought to tell me who YOU are, first.\\'\\n\\n\\'Why?\\' said the Caterpillar.\\n\\nHere was another puzzling question; and as Alice could not think of any\\ngood reason, and as the Caterpillar seemed to be in a VERY unpleasant\\nstate of mind, she turned away.\\n\\n\\'Come back!\\' the Caterpillar called after her. \\'I\\'ve something important\\nto say!\\'\\n\\nThis sounded promising, certainly: Alice turned and came back again.\\n\\n\\'Keep your temper,\\' said the Caterpillar.\\n\\n\\'Is that all?\\' said Alice, swallowing down her anger as well as she\\ncould.\\n\\n\\'No,\\' said the Caterpillar.\\n\\nAlice thought she might as well wait, as she had nothing else to do, and\\nperhaps after all it might tell her something worth hearing. For some\\nminutes it puffed away without speaking, but at last it unfolded its\\narms, took the hookah out of its mouth again, and said, \\'So you think\\nyou\\'re changed, do you?\\'\\n\\n\\'I\\'m afraid I am, sir,\\' said Alice; \\'I can\\'t remember things as I\\nused--and I don\\'t keep the same size for ten minutes together!\\'\\n\\n\\'Can\\'t remember WHAT things?\\' said the Caterpillar.\\n\\n\\'Well, I\\'ve tried to say \"HOW DOTH THE LITTLE BUSY BEE,\" but it all came\\ndifferent!\\' Alice replied in a very melancholy voice.\\n\\n\\'Repeat, \"YOU ARE OLD, FATHER WILLIAM,\"\\' said the Caterpillar.\\n\\nAlice folded her hands, and began:--\\n\\n   \\'You are old, Father William,\\' the young man said,\\n    \\'And your hair has become very white;\\n   And yet you incessantly stand on your head--\\n    Do you think, at your age, it is right?\\'\\n\\n   \\'In my youth,\\' Father William replied to his son,\\n    \\'I feared it might injure the brain;\\n   But, now that I\\'m perfectly sure I have none,\\n    Why, I do it again and again.\\'\\n\\n   \\'You are old,\\' said the youth, \\'as I mentioned before,\\n    And have grown most uncommonly fat;\\n   Yet you turned a back-somersault in at the door--\\n    Pray, what is the reason of that?\\'\\n\\n   \\'In my youth,\\' said the sage, as he shook his grey locks,\\n    \\'I kept all my limbs very supple\\n   By the use of this ointment--one shilling the box--\\n    Allow me to sell you a couple?\\'\\n\\n   \\'You are old,\\' said the youth, \\'and your jaws are too weak\\n    For anything tougher than suet;\\n   Yet you finished the goose, with the bones and the beak--\\n    Pray how did you manage to do it?\\'\\n\\n   \\'In my youth,\\' said his father, \\'I took to the law,\\n    And argued each case with my wife;\\n   And the muscular strength, which it gave to my jaw,\\n    Has lasted the rest of my life.\\'\\n\\n   \\'You are old,\\' said the youth, \\'one would hardly suppose\\n    That your eye was as steady as ever;\\n   Yet you balanced an eel on the end of your nose--\\n    What made you so awfully clever?\\'\\n\\n   \\'I have answered three questions, and that is enough,\\'\\n    Said his father; \\'don\\'t give yourself airs!\\n   Do you think I can listen all day to such stuff?\\n    Be off, or I\\'ll kick you down stairs!\\'\\n\\n\\n\\'That is not said right,\\' said the Caterpillar.\\n\\n\\'Not QUITE right, I\\'m afraid,\\' said Alice, timidly; \\'some of the words\\nhave got altered.\\'\\n\\n\\'It is wrong from beginning to end,\\' said the Caterpillar decidedly, and\\nthere was silence for some minutes.\\n\\nThe Caterpillar was the first to speak.\\n\\n\\'What size do you want to be?\\' it asked.\\n\\n\\'Oh, I\\'m not particular as to size,\\' Alice hastily replied; \\'only one\\ndoesn\\'t like changing so often, you know.\\'\\n\\n\\'I DON\\'T know,\\' said the Caterpillar.\\n\\nAlice said nothing: she had never been so much contradicted in her life\\nbefore, and she felt that she was losing her temper.\\n\\n\\'Are you content now?\\' said the Caterpillar.\\n\\n\\'Well, I should like to be a LITTLE larger, sir, if you wouldn\\'t mind,\\'\\nsaid Alice: \\'three inches is such a wretched height to be.\\'\\n\\n\\'It is a very good height indeed!\\' said the Caterpillar angrily, rearing\\nitself upright as it spoke (it was exactly three inches high).\\n\\n\\'But I\\'m not used to it!\\' pleaded poor Alice in a piteous tone. And\\nshe thought of herself, \\'I wish the creatures wouldn\\'t be so easily\\noffended!\\'\\n\\n\\'You\\'ll get used to it in time,\\' said the Caterpillar; and it put the\\nhookah into its mouth and began smoking again.\\n\\nThis time Alice waited patiently until it chose to speak again. In\\na minute or two the Caterpillar took the hookah out of its mouth\\nand yawned once or twice, and shook itself. Then it got down off the\\nmushroom, and crawled away in the grass, merely remarking as it went,\\n\\'One side will make you grow taller, and the other side will make you\\ngrow shorter.\\'\\n\\n\\'One side of WHAT? The other side of WHAT?\\' thought Alice to herself.\\n\\n\\'Of the mushroom,\\' said the Caterpillar, just as if she had asked it\\naloud; and in another moment it was out of sight.\\n\\nAlice remained looking thoughtfully at the mushroom for a minute, trying\\nto make out which were the two sides of it; and as it was perfectly\\nround, she found this a very difficult question. However, at last she\\nstretched her arms round it as far as they would go, and broke off a bit\\nof the edge with each hand.\\n\\n\\'And now which is which?\\' she said to herself, and nibbled a little of\\nthe right-hand bit to try the effect: the next moment she felt a violent\\nblow underneath her chin: it had struck her foot!\\n\\nShe was a good deal frightened by this very sudden change, but she felt\\nthat there was no time to be lost, as she was shrinking rapidly; so she\\nset to work at once to eat some of the other bit. Her chin was pressed\\nso closely against her foot, that there was hardly room to open her\\nmouth; but she did it at last, and managed to swallow a morsel of the\\nlefthand bit.\\n\\n\\n  *    *    *    *    *    *    *\\n\\n    *    *    *    *    *    *\\n\\n  *    *    *    *    *    *    *\\n\\n\\'Come, my head\\'s free at last!\\' said Alice in a tone of delight, which\\nchanged into alarm in another moment, when she found that her shoulders\\nwere nowhere to be found: all she could see, when she looked down, was\\nan immense length of neck, which seemed to rise like a stalk out of a\\nsea of green leaves that lay far below her.\\n\\n\\'What CAN all that green stuff be?\\' said Alice. \\'And where HAVE my\\nshoulders got to? And oh, my poor hands, how is it I can\\'t see you?\\'\\nShe was moving them about as she spoke, but no result seemed to follow,\\nexcept a little shaking among the distant green leaves.\\n\\nAs there seemed to be no chance of getting her hands up to her head, she\\ntried to get her head down to them, and was delighted to find that her\\nneck would bend about easily in any direction, like a serpent. She had\\njust succeeded in curving it down into a graceful zigzag, and was going\\nto dive in among the leaves, which she found to be nothing but the tops\\nof the trees under which she had been wandering, when a sharp hiss made\\nher draw back in a hurry: a large pigeon had flown into her face, and\\nwas beating her violently with its wings.\\n\\n\\'Serpent!\\' screamed the Pigeon.\\n\\n\\'I\\'m NOT a serpent!\\' said Alice indignantly. \\'Let me alone!\\'\\n\\n\\'Serpent, I say again!\\' repeated the Pigeon, but in a more subdued tone,\\nand added with a kind of sob, \\'I\\'ve tried every way, and nothing seems\\nto suit them!\\'\\n\\n\\'I haven\\'t the least idea what you\\'re talking about,\\' said Alice.\\n\\n\\'I\\'ve tried the roots of trees, and I\\'ve tried banks, and I\\'ve tried\\nhedges,\\' the Pigeon went on, without attending to her; \\'but those\\nserpents! There\\'s no pleasing them!\\'\\n\\nAlice was more and more puzzled, but she thought there was no use in\\nsaying anything more till the Pigeon had finished.\\n\\n\\'As if it wasn\\'t trouble enough hatching the eggs,\\' said the Pigeon;\\n\\'but I must be on the look-out for serpents night and day! Why, I\\nhaven\\'t had a wink of sleep these three weeks!\\'\\n\\n\\'I\\'m very sorry you\\'ve been annoyed,\\' said Alice, who was beginning to\\nsee its meaning.\\n\\n\\'And just as I\\'d taken the highest tree in the wood,\\' continued the\\nPigeon, raising its voice to a shriek, \\'and just as I was thinking I\\nshould be free of them at last, they must needs come wriggling down from\\nthe sky! Ugh, Serpent!\\'\\n\\n\\'But I\\'m NOT a serpent, I tell you!\\' said Alice. \\'I\\'m a--I\\'m a--\\'\\n\\n\\'Well! WHAT are you?\\' said the Pigeon. \\'I can see you\\'re trying to\\ninvent something!\\'\\n\\n\\'I--I\\'m a little girl,\\' said Alice, rather doubtfully, as she remembered\\nthe number of changes she had gone through that day.\\n\\n\\'A likely story indeed!\\' said the Pigeon in a tone of the deepest\\ncontempt. \\'I\\'ve seen a good many little girls in my time, but never ONE\\nwith such a neck as that! No, no! You\\'re a serpent; and there\\'s no use\\ndenying it. I suppose you\\'ll be telling me next that you never tasted an\\negg!\\'\\n\\n\\'I HAVE tasted eggs, certainly,\\' said Alice, who was a very truthful\\nchild; \\'but little girls eat eggs quite as much as serpents do, you\\nknow.\\'\\n\\n\\'I don\\'t believe it,\\' said the Pigeon; \\'but if they do, why then they\\'re\\na kind of serpent, that\\'s all I can say.\\'\\n\\nThis was such a new idea to Alice, that she was quite silent for a\\nminute or two, which gave the Pigeon the opportunity of adding, \\'You\\'re\\nlooking for eggs, I know THAT well enough; and what does it matter to me\\nwhether you\\'re a little girl or a serpent?\\'\\n\\n\\'It matters a good deal to ME,\\' said Alice hastily; \\'but I\\'m not looking\\nfor eggs, as it happens; and if I was, I shouldn\\'t want YOURS: I don\\'t\\nlike them raw.\\'\\n\\n\\'Well, be off, then!\\' said the Pigeon in a sulky tone, as it settled\\ndown again into its nest. Alice crouched down among the trees as well as\\nshe could, for her neck kept getting entangled among the branches, and\\nevery now and then she had to stop and untwist it. After a while she\\nremembered that she still held the pieces of mushroom in her hands, and\\nshe set to work very carefully, nibbling first at one and then at the\\nother, and growing sometimes taller and sometimes shorter, until she had\\nsucceeded in bringing herself down to her usual height.\\n\\nIt was so long since she had been anything near the right size, that it\\nfelt quite strange at first; but she got used to it in a few minutes,\\nand began talking to herself, as usual. \\'Come, there\\'s half my plan done\\nnow! How puzzling all these changes are! I\\'m never sure what I\\'m going\\nto be, from one minute to another! However, I\\'ve got back to my right\\nsize: the next thing is, to get into that beautiful garden--how IS that\\nto be done, I wonder?\\' As she said this, she came suddenly upon an open\\nplace, with a little house in it about four feet high. \\'Whoever lives\\nthere,\\' thought Alice, \\'it\\'ll never do to come upon them THIS size: why,\\nI should frighten them out of their wits!\\' So she began nibbling at the\\nrighthand bit again, and did not venture to go near the house till she\\nhad brought herself down to nine inches high.\\n\\n\\n\\n\\nCHAPTER VI. Pig and Pepper\\n\\nFor a minute or two she stood looking at the house, and wondering what\\nto do next, when suddenly a footman in livery came running out of the\\nwood--(she considered him to be a footman because he was in livery:\\notherwise, judging by his face only, she would have called him a\\nfish)--and rapped loudly at the door with his knuckles. It was opened\\nby another footman in livery, with a round face, and large eyes like a\\nfrog; and both footmen, Alice noticed, had powdered hair that curled all\\nover their heads. She felt very curious to know what it was all about,\\nand crept a little way out of the wood to listen.\\n\\nThe Fish-Footman began by producing from under his arm a great letter,\\nnearly as large as himself, and this he handed over to the other,\\nsaying, in a solemn tone, \\'For the Duchess. An invitation from the Queen\\nto play croquet.\\' The Frog-Footman repeated, in the same solemn tone,\\nonly changing the order of the words a little, \\'From the Queen. An\\ninvitation for the Duchess to play croquet.\\'\\n\\nThen they both bowed low, and their curls got entangled together.\\n\\nAlice laughed so much at this, that she had to run back into the\\nwood for fear of their hearing her; and when she next peeped out the\\nFish-Footman was gone, and the other was sitting on the ground near the\\ndoor, staring stupidly up into the sky.\\n\\nAlice went timidly up to the door, and knocked.\\n\\n\\'There\\'s no sort of use in knocking,\\' said the Footman, \\'and that for\\ntwo reasons. First, because I\\'m on the same side of the door as you\\nare; secondly, because they\\'re making such a noise inside, no one could\\npossibly hear you.\\' And certainly there was a most extraordinary noise\\ngoing on within--a constant howling and sneezing, and every now and then\\na great crash, as if a dish or kettle had been broken to pieces.\\n\\n\\'Please, then,\\' said Alice, \\'how am I to get in?\\'\\n\\n\\'There might be some sense in your knocking,\\' the Footman went on\\nwithout attending to her, \\'if we had the door between us. For instance,\\nif you were INSIDE, you might knock, and I could let you out, you know.\\'\\nHe was looking up into the sky all the time he was speaking, and this\\nAlice thought decidedly uncivil. \\'But perhaps he can\\'t help it,\\' she\\nsaid to herself; \\'his eyes are so VERY nearly at the top of his head.\\nBut at any rate he might answer questions.--How am I to get in?\\' she\\nrepeated, aloud.\\n\\n\\'I shall sit here,\\' the Footman remarked, \\'till tomorrow--\\'\\n\\nAt this moment the door of the house opened, and a large plate came\\nskimming out, straight at the Footman\\'s head: it just grazed his nose,\\nand broke to pieces against one of the trees behind him.\\n\\n\\'--or next day, maybe,\\' the Footman continued in the same tone, exactly\\nas if nothing had happened.\\n\\n\\'How am I to get in?\\' asked Alice again, in a louder tone.\\n\\n\\'ARE you to get in at all?\\' said the Footman. \\'That\\'s the first\\nquestion, you know.\\'\\n\\nIt was, no doubt: only Alice did not like to be told so. \\'It\\'s really\\ndreadful,\\' she muttered to herself, \\'the way all the creatures argue.\\nIt\\'s enough to drive one crazy!\\'\\n\\nThe Footman seemed to think this a good opportunity for repeating his\\nremark, with variations. \\'I shall sit here,\\' he said, \\'on and off, for\\ndays and days.\\'\\n\\n\\'But what am I to do?\\' said Alice.\\n\\n\\'Anything you like,\\' said the Footman, and began whistling.\\n\\n\\'Oh, there\\'s no use in talking to him,\\' said Alice desperately: \\'he\\'s\\nperfectly idiotic!\\' And she opened the door and went in.\\n\\nThe door led right into a large kitchen, which was full of smoke from\\none end to the other: the Duchess was sitting on a three-legged stool in\\nthe middle, nursing a baby; the cook was leaning over the fire, stirring\\na large cauldron which seemed to be full of soup.\\n\\n\\'There\\'s certainly too much pepper in that soup!\\' Alice said to herself,\\nas well as she could for sneezing.\\n\\nThere was certainly too much of it in the air. Even the Duchess\\nsneezed occasionally; and as for the baby, it was sneezing and howling\\nalternately without a moment\\'s pause. The only things in the kitchen\\nthat did not sneeze, were the cook, and a large cat which was sitting on\\nthe hearth and grinning from ear to ear.\\n\\n\\'Please would you tell me,\\' said Alice, a little timidly, for she was\\nnot quite sure whether it was good manners for her to speak first, \\'why\\nyour cat grins like that?\\'\\n\\n\\'It\\'s a Cheshire cat,\\' said the Duchess, \\'and that\\'s why. Pig!\\'\\n\\nShe said the last word with such sudden violence that Alice quite\\njumped; but she saw in another moment that it was addressed to the baby,\\nand not to her, so she took courage, and went on again:--\\n\\n\\'I didn\\'t know that Cheshire cats always grinned; in fact, I didn\\'t know\\nthat cats COULD grin.\\'\\n\\n\\'They all can,\\' said the Duchess; \\'and most of \\'em do.\\'\\n\\n\\'I don\\'t know of any that do,\\' Alice said very politely, feeling quite\\npleased to have got into a conversation.\\n\\n\\'You don\\'t know much,\\' said the Duchess; \\'and that\\'s a fact.\\'\\n\\nAlice did not at all like the tone of this remark, and thought it would\\nbe as well to introduce some other subject of conversation. While she\\nwas trying to fix on one, the cook took the cauldron of soup off the\\nfire, and at once set to work throwing everything within her reach at\\nthe Duchess and the baby--the fire-irons came first; then followed a\\nshower of saucepans, plates, and dishes. The Duchess took no notice of\\nthem even when they hit her; and the baby was howling so much already,\\nthat it was quite impossible to say whether the blows hurt it or not.\\n\\n\\'Oh, PLEASE mind what you\\'re doing!\\' cried Alice, jumping up and down in\\nan agony of terror. \\'Oh, there goes his PRECIOUS nose\\'; as an unusually\\nlarge saucepan flew close by it, and very nearly carried it off.\\n\\n\\'If everybody minded their own business,\\' the Duchess said in a hoarse\\ngrowl, \\'the world would go round a deal faster than it does.\\'\\n\\n\\'Which would NOT be an advantage,\\' said Alice, who felt very glad to get\\nan opportunity of showing off a little of her knowledge. \\'Just think of\\nwhat work it would make with the day and night! You see the earth takes\\ntwenty-four hours to turn round on its axis--\\'\\n\\n\\'Talking of axes,\\' said the Duchess, \\'chop off her head!\\'\\n\\nAlice glanced rather anxiously at the cook, to see if she meant to take\\nthe hint; but the cook was busily stirring the soup, and seemed not to\\nbe listening, so she went on again: \\'Twenty-four hours, I THINK; or is\\nit twelve? I--\\'\\n\\n\\'Oh, don\\'t bother ME,\\' said the Duchess; \\'I never could abide figures!\\'\\nAnd with that she began nursing her child again, singing a sort of\\nlullaby to it as she did so, and giving it a violent shake at the end of\\nevery line:\\n\\n   \\'Speak roughly to your little boy,\\n    And beat him when he sneezes:\\n   He only does it to annoy,\\n    Because he knows it teases.\\'\\n\\n         CHORUS.\\n\\n (In which the cook and the baby joined):--\\n\\n       \\'Wow! wow! wow!\\'\\n\\nWhile the Duchess sang the second verse of the song, she kept tossing\\nthe baby violently up and down, and the poor little thing howled so,\\nthat Alice could hardly hear the words:--\\n\\n   \\'I speak severely to my boy,\\n    I beat him when he sneezes;\\n   For he can thoroughly enjoy\\n    The pepper when he pleases!\\'\\n\\n         CHORUS.\\n\\n       \\'Wow! wow! wow!\\'\\n\\n\\'Here! you may nurse it a bit, if you like!\\' the Duchess said to Alice,\\nflinging the baby at her as she spoke. \\'I must go and get ready to play\\ncroquet with the Queen,\\' and she hurried out of the room. The cook threw\\na frying-pan after her as she went out, but it just missed her.\\n\\nAlice caught the baby with some difficulty, as it was a queer-shaped\\nlittle creature, and held out its arms and legs in all directions, \\'just\\nlike a star-fish,\\' thought Alice. The poor little thing was snorting\\nlike a steam-engine when she caught it, and kept doubling itself up and\\nstraightening itself out again, so that altogether, for the first minute\\nor two, it was as much as she could do to hold it.\\n\\nAs soon as she had made out the proper way of nursing it, (which was to\\ntwist it up into a sort of knot, and then keep tight hold of its right\\near and left foot, so as to prevent its undoing itself,) she carried\\nit out into the open air. \\'IF I don\\'t take this child away with me,\\'\\nthought Alice, \\'they\\'re sure to kill it in a day or two: wouldn\\'t it be\\nmurder to leave it behind?\\' She said the last words out loud, and the\\nlittle thing grunted in reply (it had left off sneezing by this time).\\n\\'Don\\'t grunt,\\' said Alice; \\'that\\'s not at all a proper way of expressing\\nyourself.\\'\\n\\nThe baby grunted again, and Alice looked very anxiously into its face to\\nsee what was the matter with it. There could be no doubt that it had\\na VERY turn-up nose, much more like a snout than a real nose; also its\\neyes were getting extremely small for a baby: altogether Alice did not\\nlike the look of the thing at all. \\'But perhaps it was only sobbing,\\'\\nshe thought, and looked into its eyes again, to see if there were any\\ntears.\\n\\nNo, there were no tears. \\'If you\\'re going to turn into a pig, my dear,\\'\\nsaid Alice, seriously, \\'I\\'ll have nothing more to do with you. Mind\\nnow!\\' The poor little thing sobbed again (or grunted, it was impossible\\nto say which), and they went on for some while in silence.\\n\\nAlice was just beginning to think to herself, \\'Now, what am I to do with\\nthis creature when I get it home?\\' when it grunted again, so violently,\\nthat she looked down into its face in some alarm. This time there could\\nbe NO mistake about it: it was neither more nor less than a pig, and she\\nfelt that it would be quite absurd for her to carry it further.\\n\\nSo she set the little creature down, and felt quite relieved to see\\nit trot away quietly into the wood. \\'If it had grown up,\\' she said\\nto herself, \\'it would have made a dreadfully ugly child: but it makes\\nrather a handsome pig, I think.\\' And she began thinking over other\\nchildren she knew, who might do very well as pigs, and was just saying\\nto herself, \\'if one only knew the right way to change them--\\' when she\\nwas a little startled by seeing the Cheshire Cat sitting on a bough of a\\ntree a few yards off.\\n\\nThe Cat only grinned when it saw Alice. It looked good-natured, she\\nthought: still it had VERY long claws and a great many teeth, so she\\nfelt that it ought to be treated with respect.\\n\\n\\'Cheshire Puss,\\' she began, rather timidly, as she did not at all know\\nwhether it would like the name: however, it only grinned a little wider.\\n\\'Come, it\\'s pleased so far,\\' thought Alice, and she went on. \\'Would you\\ntell me, please, which way I ought to go from here?\\'\\n\\n\\'That depends a good deal on where you want to get to,\\' said the Cat.\\n\\n\\'I don\\'t much care where--\\' said Alice.\\n\\n\\'Then it doesn\\'t matter which way you go,\\' said the Cat.\\n\\n\\'--so long as I get SOMEWHERE,\\' Alice added as an explanation.\\n\\n\\'Oh, you\\'re sure to do that,\\' said the Cat, \\'if you only walk long\\nenough.\\'\\n\\nAlice felt that this could not be denied, so she tried another question.\\n\\'What sort of people live about here?\\'\\n\\n\\'In THAT direction,\\' the Cat said, waving its right paw round, \\'lives\\na Hatter: and in THAT direction,\\' waving the other paw, \\'lives a March\\nHare. Visit either you like: they\\'re both mad.\\'\\n\\n\\'But I don\\'t want to go among mad people,\\' Alice remarked.\\n\\n\\'Oh, you can\\'t help that,\\' said the Cat: \\'we\\'re all mad here. I\\'m mad.\\nYou\\'re mad.\\'\\n\\n\\'How do you know I\\'m mad?\\' said Alice.\\n\\n\\'You must be,\\' said the Cat, \\'or you wouldn\\'t have come here.\\'\\n\\nAlice didn\\'t think that proved it at all; however, she went on \\'And how\\ndo you know that you\\'re mad?\\'\\n\\n\\'To begin with,\\' said the Cat, \\'a dog\\'s not mad. You grant that?\\'\\n\\n\\'I suppose so,\\' said Alice.\\n\\n\\'Well, then,\\' the Cat went on, \\'you see, a dog growls when it\\'s angry,\\nand wags its tail when it\\'s pleased. Now I growl when I\\'m pleased, and\\nwag my tail when I\\'m angry. Therefore I\\'m mad.\\'\\n\\n\\'I call it purring, not growling,\\' said Alice.\\n\\n\\'Call it what you like,\\' said the Cat. \\'Do you play croquet with the\\nQueen to-day?\\'\\n\\n\\'I should like it very much,\\' said Alice, \\'but I haven\\'t been invited\\nyet.\\'\\n\\n\\'You\\'ll see me there,\\' said the Cat, and vanished.\\n\\nAlice was not much surprised at this, she was getting so used to queer\\nthings happening. While she was looking at the place where it had been,\\nit suddenly appeared again.\\n\\n\\'By-the-bye, what became of the baby?\\' said the Cat. \\'I\\'d nearly\\nforgotten to ask.\\'\\n\\n\\'It turned into a pig,\\' Alice quietly said, just as if it had come back\\nin a natural way.\\n\\n\\'I thought it would,\\' said the Cat, and vanished again.\\n\\nAlice waited a little, half expecting to see it again, but it did not\\nappear, and after a minute or two she walked on in the direction in\\nwhich the March Hare was said to live. \\'I\\'ve seen hatters before,\\' she\\nsaid to herself; \\'the March Hare will be much the most interesting, and\\nperhaps as this is May it won\\'t be raving mad--at least not so mad as\\nit was in March.\\' As she said this, she looked up, and there was the Cat\\nagain, sitting on a branch of a tree.\\n\\n\\'Did you say pig, or fig?\\' said the Cat.\\n\\n\\'I said pig,\\' replied Alice; \\'and I wish you wouldn\\'t keep appearing and\\nvanishing so suddenly: you make one quite giddy.\\'\\n\\n\\'All right,\\' said the Cat; and this time it vanished quite slowly,\\nbeginning with the end of the tail, and ending with the grin, which\\nremained some time after the rest of it had gone.\\n\\n\\'Well! I\\'ve often seen a cat without a grin,\\' thought Alice; \\'but a grin\\nwithout a cat! It\\'s the most curious thing I ever saw in my life!\\'\\n\\nShe had not gone much farther before she came in sight of the house\\nof the March Hare: she thought it must be the right house, because the\\nchimneys were shaped like ears and the roof was thatched with fur. It\\nwas so large a house, that she did not like to go nearer till she had\\nnibbled some more of the lefthand bit of mushroom, and raised herself to\\nabout two feet high: even then she walked up towards it rather timidly,\\nsaying to herself \\'Suppose it should be raving mad after all! I almost\\nwish I\\'d gone to see the Hatter instead!\\'\\n\\n\\n\\n\\nCHAPTER VII. A Mad Tea-Party\\n\\nThere was a table set out under a tree in front of the house, and the\\nMarch Hare and the Hatter were having tea at it: a Dormouse was sitting\\nbetween them, fast asleep, and the other two were using it as a\\ncushion, resting their elbows on it, and talking over its head. \\'Very\\nuncomfortable for the Dormouse,\\' thought Alice; \\'only, as it\\'s asleep, I\\nsuppose it doesn\\'t mind.\\'\\n\\nThe table was a large one, but the three were all crowded together at\\none corner of it: \\'No room! No room!\\' they cried out when they saw Alice\\ncoming. \\'There\\'s PLENTY of room!\\' said Alice indignantly, and she sat\\ndown in a large arm-chair at one end of the table.\\n\\n\\'Have some wine,\\' the March Hare said in an encouraging tone.\\n\\nAlice looked all round the table, but there was nothing on it but tea.\\n\\'I don\\'t see any wine,\\' she remarked.\\n\\n\\'There isn\\'t any,\\' said the March Hare.\\n\\n\\'Then it wasn\\'t very civil of you to offer it,\\' said Alice angrily.\\n\\n\\'It wasn\\'t very civil of you to sit down without being invited,\\' said\\nthe March Hare.\\n\\n\\'I didn\\'t know it was YOUR table,\\' said Alice; \\'it\\'s laid for a great\\nmany more than three.\\'\\n\\n\\'Your hair wants cutting,\\' said the Hatter. He had been looking at Alice\\nfor some time with great curiosity, and this was his first speech.\\n\\n\\'You should learn not to make personal remarks,\\' Alice said with some\\nseverity; \\'it\\'s very rude.\\'\\n\\nThe Hatter opened his eyes very wide on hearing this; but all he SAID\\nwas, \\'Why is a raven like a writing-desk?\\'\\n\\n\\'Come, we shall have some fun now!\\' thought Alice. \\'I\\'m glad they\\'ve\\nbegun asking riddles.--I believe I can guess that,\\' she added aloud.\\n\\n\\'Do you mean that you think you can find out the answer to it?\\' said the\\nMarch Hare.\\n\\n\\'Exactly so,\\' said Alice.\\n\\n\\'Then you should say what you mean,\\' the March Hare went on.\\n\\n\\'I do,\\' Alice hastily replied; \\'at least--at least I mean what I\\nsay--that\\'s the same thing, you know.\\'\\n\\n\\'Not the same thing a bit!\\' said the Hatter. \\'You might just as well say\\nthat \"I see what I eat\" is the same thing as \"I eat what I see\"!\\'\\n\\n\\'You might just as well say,\\' added the March Hare, \\'that \"I like what I\\nget\" is the same thing as \"I get what I like\"!\\'\\n\\n\\'You might just as well say,\\' added the Dormouse, who seemed to be\\ntalking in his sleep, \\'that \"I breathe when I sleep\" is the same thing\\nas \"I sleep when I breathe\"!\\'\\n\\n\\'It IS the same thing with you,\\' said the Hatter, and here the\\nconversation dropped, and the party sat silent for a minute, while Alice\\nthought over all she could remember about ravens and writing-desks,\\nwhich wasn\\'t much.\\n\\nThe Hatter was the first to break the silence. \\'What day of the month\\nis it?\\' he said, turning to Alice: he had taken his watch out of his\\npocket, and was looking at it uneasily, shaking it every now and then,\\nand holding it to his ear.\\n\\nAlice considered a little, and then said \\'The fourth.\\'\\n\\n\\'Two days wrong!\\' sighed the Hatter. \\'I told you butter wouldn\\'t suit\\nthe works!\\' he added looking angrily at the March Hare.\\n\\n\\'It was the BEST butter,\\' the March Hare meekly replied.\\n\\n\\'Yes, but some crumbs must have got in as well,\\' the Hatter grumbled:\\n\\'you shouldn\\'t have put it in with the bread-knife.\\'\\n\\nThe March Hare took the watch and looked at it gloomily: then he dipped\\nit into his cup of tea, and looked at it again: but he could think of\\nnothing better to say than his first remark, \\'It was the BEST butter,\\nyou know.\\'\\n\\nAlice had been looking over his shoulder with some curiosity. \\'What a\\nfunny watch!\\' she remarked. \\'It tells the day of the month, and doesn\\'t\\ntell what o\\'clock it is!\\'\\n\\n\\'Why should it?\\' muttered the Hatter. \\'Does YOUR watch tell you what\\nyear it is?\\'\\n\\n\\'Of course not,\\' Alice replied very readily: \\'but that\\'s because it\\nstays the same year for such a long time together.\\'\\n\\n\\'Which is just the case with MINE,\\' said the Hatter.\\n\\nAlice felt dreadfully puzzled. The Hatter\\'s remark seemed to have no\\nsort of meaning in it, and yet it was certainly English. \\'I don\\'t quite\\nunderstand you,\\' she said, as politely as she could.\\n\\n\\'The Dormouse is asleep again,\\' said the Hatter, and he poured a little\\nhot tea upon its nose.\\n\\nThe Dormouse shook its head impatiently, and said, without opening its\\neyes, \\'Of course, of course; just what I was going to remark myself.\\'\\n\\n\\'Have you guessed the riddle yet?\\' the Hatter said, turning to Alice\\nagain.\\n\\n\\'No, I give it up,\\' Alice replied: \\'what\\'s the answer?\\'\\n\\n\\'I haven\\'t the slightest idea,\\' said the Hatter.\\n\\n\\'Nor I,\\' said the March Hare.\\n\\nAlice sighed wearily. \\'I think you might do something better with the\\ntime,\\' she said, \\'than waste it in asking riddles that have no answers.\\'\\n\\n\\'If you knew Time as well as I do,\\' said the Hatter, \\'you wouldn\\'t talk\\nabout wasting IT. It\\'s HIM.\\'\\n\\n\\'I don\\'t know what you mean,\\' said Alice.\\n\\n\\'Of course you don\\'t!\\' the Hatter said, tossing his head contemptuously.\\n\\'I dare say you never even spoke to Time!\\'\\n\\n\\'Perhaps not,\\' Alice cautiously replied: \\'but I know I have to beat time\\nwhen I learn music.\\'\\n\\n\\'Ah! that accounts for it,\\' said the Hatter. \\'He won\\'t stand beating.\\nNow, if you only kept on good terms with him, he\\'d do almost anything\\nyou liked with the clock. For instance, suppose it were nine o\\'clock in\\nthe morning, just time to begin lessons: you\\'d only have to whisper a\\nhint to Time, and round goes the clock in a twinkling! Half-past one,\\ntime for dinner!\\'\\n\\n(\\'I only wish it was,\\' the March Hare said to itself in a whisper.)\\n\\n\\'That would be grand, certainly,\\' said Alice thoughtfully: \\'but then--I\\nshouldn\\'t be hungry for it, you know.\\'\\n\\n\\'Not at first, perhaps,\\' said the Hatter: \\'but you could keep it to\\nhalf-past one as long as you liked.\\'\\n\\n\\'Is that the way YOU manage?\\' Alice asked.\\n\\nThe Hatter shook his head mournfully. \\'Not I!\\' he replied. \\'We\\nquarrelled last March--just before HE went mad, you know--\\' (pointing\\nwith his tea spoon at the March Hare,) \\'--it was at the great concert\\ngiven by the Queen of Hearts, and I had to sing\\n\\n     \"Twinkle, twinkle, little bat!\\n     How I wonder what you\\'re at!\"\\n\\nYou know the song, perhaps?\\'\\n\\n\\'I\\'ve heard something like it,\\' said Alice.\\n\\n\\'It goes on, you know,\\' the Hatter continued, \\'in this way:--\\n\\n     \"Up above the world you fly,\\n     Like a tea-tray in the sky.\\n         Twinkle, twinkle--\"\\'\\n\\nHere the Dormouse shook itself, and began singing in its sleep \\'Twinkle,\\ntwinkle, twinkle, twinkle--\\' and went on so long that they had to pinch\\nit to make it stop.\\n\\n\\'Well, I\\'d hardly finished the first verse,\\' said the Hatter, \\'when the\\nQueen jumped up and bawled out, \"He\\'s murdering the time! Off with his\\nhead!\"\\'\\n\\n\\'How dreadfully savage!\\' exclaimed Alice.\\n\\n\\'And ever since that,\\' the Hatter went on in a mournful tone, \\'he won\\'t\\ndo a thing I ask! It\\'s always six o\\'clock now.\\'\\n\\nA bright idea came into Alice\\'s head. \\'Is that the reason so many\\ntea-things are put out here?\\' she asked.\\n\\n\\'Yes, that\\'s it,\\' said the Hatter with a sigh: \\'it\\'s always tea-time,\\nand we\\'ve no time to wash the things between whiles.\\'\\n\\n\\'Then you keep moving round, I suppose?\\' said Alice.\\n\\n\\'Exactly so,\\' said the Hatter: \\'as the things get used up.\\'\\n\\n\\'But what happens when you come to the beginning again?\\' Alice ventured\\nto ask.\\n\\n\\'Suppose we change the subject,\\' the March Hare interrupted, yawning.\\n\\'I\\'m getting tired of this. I vote the young lady tells us a story.\\'\\n\\n\\'I\\'m afraid I don\\'t know one,\\' said Alice, rather alarmed at the\\nproposal.\\n\\n\\'Then the Dormouse shall!\\' they both cried. \\'Wake up, Dormouse!\\' And\\nthey pinched it on both sides at once.\\n\\nThe Dormouse slowly opened his eyes. \\'I wasn\\'t asleep,\\' he said in a\\nhoarse, feeble voice: \\'I heard every word you fellows were saying.\\'\\n\\n\\'Tell us a story!\\' said the March Hare.\\n\\n\\'Yes, please do!\\' pleaded Alice.\\n\\n\\'And be quick about it,\\' added the Hatter, \\'or you\\'ll be asleep again\\nbefore it\\'s done.\\'\\n\\n\\'Once upon a time there were three little sisters,\\' the Dormouse began\\nin a great hurry; \\'and their names were Elsie, Lacie, and Tillie; and\\nthey lived at the bottom of a well--\\'\\n\\n\\'What did they live on?\\' said Alice, who always took a great interest in\\nquestions of eating and drinking.\\n\\n\\'They lived on treacle,\\' said the Dormouse, after thinking a minute or\\ntwo.\\n\\n\\'They couldn\\'t have done that, you know,\\' Alice gently remarked; \\'they\\'d\\nhave been ill.\\'\\n\\n\\'So they were,\\' said the Dormouse; \\'VERY ill.\\'\\n\\nAlice tried to fancy to herself what such an extraordinary ways of\\nliving would be like, but it puzzled her too much, so she went on: \\'But\\nwhy did they live at the bottom of a well?\\'\\n\\n\\'Take some more tea,\\' the March Hare said to Alice, very earnestly.\\n\\n\\'I\\'ve had nothing yet,\\' Alice replied in an offended tone, \\'so I can\\'t\\ntake more.\\'\\n\\n\\'You mean you can\\'t take LESS,\\' said the Hatter: \\'it\\'s very easy to take\\nMORE than nothing.\\'\\n\\n\\'Nobody asked YOUR opinion,\\' said Alice.\\n\\n\\'Who\\'s making personal remarks now?\\' the Hatter asked triumphantly.\\n\\nAlice did not quite know what to say to this: so she helped herself\\nto some tea and bread-and-butter, and then turned to the Dormouse, and\\nrepeated her question. \\'Why did they live at the bottom of a well?\\'\\n\\nThe Dormouse again took a minute or two to think about it, and then\\nsaid, \\'It was a treacle-well.\\'\\n\\n\\'There\\'s no such thing!\\' Alice was beginning very angrily, but the\\nHatter and the March Hare went \\'Sh! sh!\\' and the Dormouse sulkily\\nremarked, \\'If you can\\'t be civil, you\\'d better finish the story for\\nyourself.\\'\\n\\n\\'No, please go on!\\' Alice said very humbly; \\'I won\\'t interrupt again. I\\ndare say there may be ONE.\\'\\n\\n\\'One, indeed!\\' said the Dormouse indignantly. However, he consented to\\ngo on. \\'And so these three little sisters--they were learning to draw,\\nyou know--\\'\\n\\n\\'What did they draw?\\' said Alice, quite forgetting her promise.\\n\\n\\'Treacle,\\' said the Dormouse, without considering at all this time.\\n\\n\\'I want a clean cup,\\' interrupted the Hatter: \\'let\\'s all move one place\\non.\\'\\n\\nHe moved on as he spoke, and the Dormouse followed him: the March Hare\\nmoved into the Dormouse\\'s place, and Alice rather unwillingly took\\nthe place of the March Hare. The Hatter was the only one who got any\\nadvantage from the change: and Alice was a good deal worse off than\\nbefore, as the March Hare had just upset the milk-jug into his plate.\\n\\nAlice did not wish to offend the Dormouse again, so she began very\\ncautiously: \\'But I don\\'t understand. Where did they draw the treacle\\nfrom?\\'\\n\\n\\'You can draw water out of a water-well,\\' said the Hatter; \\'so I should\\nthink you could draw treacle out of a treacle-well--eh, stupid?\\'\\n\\n\\'But they were IN the well,\\' Alice said to the Dormouse, not choosing to\\nnotice this last remark.\\n\\n\\'Of course they were\\', said the Dormouse; \\'--well in.\\'\\n\\nThis answer so confused poor Alice, that she let the Dormouse go on for\\nsome time without interrupting it.\\n\\n\\'They were learning to draw,\\' the Dormouse went on, yawning and rubbing\\nits eyes, for it was getting very sleepy; \\'and they drew all manner of\\nthings--everything that begins with an M--\\'\\n\\n\\'Why with an M?\\' said Alice.\\n\\n\\'Why not?\\' said the March Hare.\\n\\nAlice was silent.\\n\\nThe Dormouse had closed its eyes by this time, and was going off into\\na doze; but, on being pinched by the Hatter, it woke up again with\\na little shriek, and went on: \\'--that begins with an M, such as\\nmouse-traps, and the moon, and memory, and muchness--you know you say\\nthings are \"much of a muchness\"--did you ever see such a thing as a\\ndrawing of a muchness?\\'\\n\\n\\'Really, now you ask me,\\' said Alice, very much confused, \\'I don\\'t\\nthink--\\'\\n\\n\\'Then you shouldn\\'t talk,\\' said the Hatter.\\n\\nThis piece of rudeness was more than Alice could bear: she got up in\\ngreat disgust, and walked off; the Dormouse fell asleep instantly, and\\nneither of the others took the least notice of her going, though she\\nlooked back once or twice, half hoping that they would call after her:\\nthe last time she saw them, they were trying to put the Dormouse into\\nthe teapot.\\n\\n\\'At any rate I\\'ll never go THERE again!\\' said Alice as she picked her\\nway through the wood. \\'It\\'s the stupidest tea-party I ever was at in all\\nmy life!\\'\\n\\nJust as she said this, she noticed that one of the trees had a door\\nleading right into it. \\'That\\'s very curious!\\' she thought. \\'But\\neverything\\'s curious today. I think I may as well go in at once.\\' And in\\nshe went.\\n\\nOnce more she found herself in the long hall, and close to the little\\nglass table. \\'Now, I\\'ll manage better this time,\\' she said to herself,\\nand began by taking the little golden key, and unlocking the door that\\nled into the garden. Then she went to work nibbling at the mushroom (she\\nhad kept a piece of it in her pocket) till she was about a foot high:\\nthen she walked down the little passage: and THEN--she found herself at\\nlast in the beautiful garden, among the bright flower-beds and the cool\\nfountains.\\n\\n\\n\\n\\nCHAPTER VIII. The Queen\\'s Croquet-Ground\\n\\nA large rose-tree stood near the entrance of the garden: the roses\\ngrowing on it were white, but there were three gardeners at it, busily\\npainting them red. Alice thought this a very curious thing, and she went\\nnearer to watch them, and just as she came up to them she heard one of\\nthem say, \\'Look out now, Five! Don\\'t go splashing paint over me like\\nthat!\\'\\n\\n\\'I couldn\\'t help it,\\' said Five, in a sulky tone; \\'Seven jogged my\\nelbow.\\'\\n\\nOn which Seven looked up and said, \\'That\\'s right, Five! Always lay the\\nblame on others!\\'\\n\\n\\'YOU\\'D better not talk!\\' said Five. \\'I heard the Queen say only\\nyesterday you deserved to be beheaded!\\'\\n\\n\\'What for?\\' said the one who had spoken first.\\n\\n\\'That\\'s none of YOUR business, Two!\\' said Seven.\\n\\n\\'Yes, it IS his business!\\' said Five, \\'and I\\'ll tell him--it was for\\nbringing the cook tulip-roots instead of onions.\\'\\n\\nSeven flung down his brush, and had just begun \\'Well, of all the unjust\\nthings--\\' when his eye chanced to fall upon Alice, as she stood watching\\nthem, and he checked himself suddenly: the others looked round also, and\\nall of them bowed low.\\n\\n\\'Would you tell me,\\' said Alice, a little timidly, \\'why you are painting\\nthose roses?\\'\\n\\nFive and Seven said nothing, but looked at Two. Two began in a low\\nvoice, \\'Why the fact is, you see, Miss, this here ought to have been a\\nRED rose-tree, and we put a white one in by mistake; and if the Queen\\nwas to find it out, we should all have our heads cut off, you know.\\nSo you see, Miss, we\\'re doing our best, afore she comes, to--\\' At this\\nmoment Five, who had been anxiously looking across the garden, called\\nout \\'The Queen! The Queen!\\' and the three gardeners instantly threw\\nthemselves flat upon their faces. There was a sound of many footsteps,\\nand Alice looked round, eager to see the Queen.\\n\\nFirst came ten soldiers carrying clubs; these were all shaped like\\nthe three gardeners, oblong and flat, with their hands and feet at the\\ncorners: next the ten courtiers; these were ornamented all over with\\ndiamonds, and walked two and two, as the soldiers did. After these came\\nthe royal children; there were ten of them, and the little dears came\\njumping merrily along hand in hand, in couples: they were all ornamented\\nwith hearts. Next came the guests, mostly Kings and Queens, and among\\nthem Alice recognised the White Rabbit: it was talking in a hurried\\nnervous manner, smiling at everything that was said, and went by without\\nnoticing her. Then followed the Knave of Hearts, carrying the King\\'s\\ncrown on a crimson velvet cushion; and, last of all this grand\\nprocession, came THE KING AND QUEEN OF HEARTS.\\n\\nAlice was rather doubtful whether she ought not to lie down on her face\\nlike the three gardeners, but she could not remember ever having heard\\nof such a rule at processions; \\'and besides, what would be the use of\\na procession,\\' thought she, \\'if people had all to lie down upon their\\nfaces, so that they couldn\\'t see it?\\' So she stood still where she was,\\nand waited.\\n\\nWhen the procession came opposite to Alice, they all stopped and looked\\nat her, and the Queen said severely \\'Who is this?\\' She said it to the\\nKnave of Hearts, who only bowed and smiled in reply.\\n\\n\\'Idiot!\\' said the Queen, tossing her head impatiently; and, turning to\\nAlice, she went on, \\'What\\'s your name, child?\\'\\n\\n\\'My name is Alice, so please your Majesty,\\' said Alice very politely;\\nbut she added, to herself, \\'Why, they\\'re only a pack of cards, after\\nall. I needn\\'t be afraid of them!\\'\\n\\n\\'And who are THESE?\\' said the Queen, pointing to the three gardeners who\\nwere lying round the rosetree; for, you see, as they were lying on their\\nfaces, and the pattern on their backs was the same as the rest of the\\npack, she could not tell whether they were gardeners, or soldiers, or\\ncourtiers, or three of her own children.\\n\\n\\'How should I know?\\' said Alice, surprised at her own courage. \\'It\\'s no\\nbusiness of MINE.\\'\\n\\nThe Queen turned crimson with fury, and, after glaring at her for a\\nmoment like a wild beast, screamed \\'Off with her head! Off--\\'\\n\\n\\'Nonsense!\\' said Alice, very loudly and decidedly, and the Queen was\\nsilent.\\n\\nThe King laid his hand upon her arm, and timidly said \\'Consider, my\\ndear: she is only a child!\\'\\n\\nThe Queen turned angrily away from him, and said to the Knave \\'Turn them\\nover!\\'\\n\\nThe Knave did so, very carefully, with one foot.\\n\\n\\'Get up!\\' said the Queen, in a shrill, loud voice, and the three\\ngardeners instantly jumped up, and began bowing to the King, the Queen,\\nthe royal children, and everybody else.\\n\\n\\'Leave off that!\\' screamed the Queen. \\'You make me giddy.\\' And then,\\nturning to the rose-tree, she went on, \\'What HAVE you been doing here?\\'\\n\\n\\'May it please your Majesty,\\' said Two, in a very humble tone, going\\ndown on one knee as he spoke, \\'we were trying--\\'\\n\\n\\'I see!\\' said the Queen, who had meanwhile been examining the roses.\\n\\'Off with their heads!\\' and the procession moved on, three of the\\nsoldiers remaining behind to execute the unfortunate gardeners, who ran\\nto Alice for protection.\\n\\n\\'You shan\\'t be beheaded!\\' said Alice, and she put them into a large\\nflower-pot that stood near. The three soldiers wandered about for a\\nminute or two, looking for them, and then quietly marched off after the\\nothers.\\n\\n\\'Are their heads off?\\' shouted the Queen.\\n\\n\\'Their heads are gone, if it please your Majesty!\\' the soldiers shouted\\nin reply.\\n\\n\\'That\\'s right!\\' shouted the Queen. \\'Can you play croquet?\\'\\n\\nThe soldiers were silent, and looked at Alice, as the question was\\nevidently meant for her.\\n\\n\\'Yes!\\' shouted Alice.\\n\\n\\'Come on, then!\\' roared the Queen, and Alice joined the procession,\\nwondering very much what would happen next.\\n\\n\\'It\\'s--it\\'s a very fine day!\\' said a timid voice at her side. She was\\nwalking by the White Rabbit, who was peeping anxiously into her face.\\n\\n\\'Very,\\' said Alice: \\'--where\\'s the Duchess?\\'\\n\\n\\'Hush! Hush!\\' said the Rabbit in a low, hurried tone. He looked\\nanxiously over his shoulder as he spoke, and then raised himself upon\\ntiptoe, put his mouth close to her ear, and whispered \\'She\\'s under\\nsentence of execution.\\'\\n\\n\\'What for?\\' said Alice.\\n\\n\\'Did you say \"What a pity!\"?\\' the Rabbit asked.\\n\\n\\'No, I didn\\'t,\\' said Alice: \\'I don\\'t think it\\'s at all a pity. I said\\n\"What for?\"\\'\\n\\n\\'She boxed the Queen\\'s ears--\\' the Rabbit began. Alice gave a little\\nscream of laughter. \\'Oh, hush!\\' the Rabbit whispered in a frightened\\ntone. \\'The Queen will hear you! You see, she came rather late, and the\\nQueen said--\\'\\n\\n\\'Get to your places!\\' shouted the Queen in a voice of thunder, and\\npeople began running about in all directions, tumbling up against each\\nother; however, they got settled down in a minute or two, and the game\\nbegan. Alice thought she had never seen such a curious croquet-ground in\\nher life; it was all ridges and furrows; the balls were live hedgehogs,\\nthe mallets live flamingoes, and the soldiers had to double themselves\\nup and to stand on their hands and feet, to make the arches.\\n\\nThe chief difficulty Alice found at first was in managing her flamingo:\\nshe succeeded in getting its body tucked away, comfortably enough, under\\nher arm, with its legs hanging down, but generally, just as she had got\\nits neck nicely straightened out, and was going to give the hedgehog a\\nblow with its head, it WOULD twist itself round and look up in her face,\\nwith such a puzzled expression that she could not help bursting out\\nlaughing: and when she had got its head down, and was going to begin\\nagain, it was very provoking to find that the hedgehog had unrolled\\nitself, and was in the act of crawling away: besides all this, there was\\ngenerally a ridge or furrow in the way wherever she wanted to send the\\nhedgehog to, and, as the doubled-up soldiers were always getting up\\nand walking off to other parts of the ground, Alice soon came to the\\nconclusion that it was a very difficult game indeed.\\n\\nThe players all played at once without waiting for turns, quarrelling\\nall the while, and fighting for the hedgehogs; and in a very short\\ntime the Queen was in a furious passion, and went stamping about, and\\nshouting \\'Off with his head!\\' or \\'Off with her head!\\' about once in a\\nminute.\\n\\nAlice began to feel very uneasy: to be sure, she had not as yet had any\\ndispute with the Queen, but she knew that it might happen any minute,\\n\\'and then,\\' thought she, \\'what would become of me? They\\'re dreadfully\\nfond of beheading people here; the great wonder is, that there\\'s any one\\nleft alive!\\'\\n\\nShe was looking about for some way of escape, and wondering whether she\\ncould get away without being seen, when she noticed a curious appearance\\nin the air: it puzzled her very much at first, but, after watching it\\na minute or two, she made it out to be a grin, and she said to herself\\n\\'It\\'s the Cheshire Cat: now I shall have somebody to talk to.\\'\\n\\n\\'How are you getting on?\\' said the Cat, as soon as there was mouth\\nenough for it to speak with.\\n\\nAlice waited till the eyes appeared, and then nodded. \\'It\\'s no use\\nspeaking to it,\\' she thought, \\'till its ears have come, or at least one\\nof them.\\' In another minute the whole head appeared, and then Alice put\\ndown her flamingo, and began an account of the game, feeling very glad\\nshe had someone to listen to her. The Cat seemed to think that there was\\nenough of it now in sight, and no more of it appeared.\\n\\n\\'I don\\'t think they play at all fairly,\\' Alice began, in rather a\\ncomplaining tone, \\'and they all quarrel so dreadfully one can\\'t hear\\noneself speak--and they don\\'t seem to have any rules in particular;\\nat least, if there are, nobody attends to them--and you\\'ve no idea how\\nconfusing it is all the things being alive; for instance, there\\'s the\\narch I\\'ve got to go through next walking about at the other end of the\\nground--and I should have croqueted the Queen\\'s hedgehog just now, only\\nit ran away when it saw mine coming!\\'\\n\\n\\'How do you like the Queen?\\' said the Cat in a low voice.\\n\\n\\'Not at all,\\' said Alice: \\'she\\'s so extremely--\\' Just then she noticed\\nthat the Queen was close behind her, listening: so she went on,\\n\\'--likely to win, that it\\'s hardly worth while finishing the game.\\'\\n\\nThe Queen smiled and passed on.\\n\\n\\'Who ARE you talking to?\\' said the King, going up to Alice, and looking\\nat the Cat\\'s head with great curiosity.\\n\\n\\'It\\'s a friend of mine--a Cheshire Cat,\\' said Alice: \\'allow me to\\nintroduce it.\\'\\n\\n\\'I don\\'t like the look of it at all,\\' said the King: \\'however, it may\\nkiss my hand if it likes.\\'\\n\\n\\'I\\'d rather not,\\' the Cat remarked.\\n\\n\\'Don\\'t be impertinent,\\' said the King, \\'and don\\'t look at me like that!\\'\\nHe got behind Alice as he spoke.\\n\\n\\'A cat may look at a king,\\' said Alice. \\'I\\'ve read that in some book,\\nbut I don\\'t remember where.\\'\\n\\n\\'Well, it must be removed,\\' said the King very decidedly, and he called\\nthe Queen, who was passing at the moment, \\'My dear! I wish you would\\nhave this cat removed!\\'\\n\\nThe Queen had only one way of settling all difficulties, great or small.\\n\\'Off with his head!\\' she said, without even looking round.\\n\\n\\'I\\'ll fetch the executioner myself,\\' said the King eagerly, and he\\nhurried off.\\n\\nAlice thought she might as well go back, and see how the game was going\\non, as she heard the Queen\\'s voice in the distance, screaming with\\npassion. She had already heard her sentence three of the players to be\\nexecuted for having missed their turns, and she did not like the look\\nof things at all, as the game was in such confusion that she never knew\\nwhether it was her turn or not. So she went in search of her hedgehog.\\n\\nThe hedgehog was engaged in a fight with another hedgehog, which seemed\\nto Alice an excellent opportunity for croqueting one of them with the\\nother: the only difficulty was, that her flamingo was gone across to the\\nother side of the garden, where Alice could see it trying in a helpless\\nsort of way to fly up into a tree.\\n\\nBy the time she had caught the flamingo and brought it back, the fight\\nwas over, and both the hedgehogs were out of sight: \\'but it doesn\\'t\\nmatter much,\\' thought Alice, \\'as all the arches are gone from this side\\nof the ground.\\' So she tucked it away under her arm, that it might not\\nescape again, and went back for a little more conversation with her\\nfriend.\\n\\nWhen she got back to the Cheshire Cat, she was surprised to find quite a\\nlarge crowd collected round it: there was a dispute going on between\\nthe executioner, the King, and the Queen, who were all talking at once,\\nwhile all the rest were quite silent, and looked very uncomfortable.\\n\\nThe moment Alice appeared, she was appealed to by all three to settle\\nthe question, and they repeated their arguments to her, though, as they\\nall spoke at once, she found it very hard indeed to make out exactly\\nwhat they said.\\n\\nThe executioner\\'s argument was, that you couldn\\'t cut off a head unless\\nthere was a body to cut it off from: that he had never had to do such a\\nthing before, and he wasn\\'t going to begin at HIS time of life.\\n\\nThe King\\'s argument was, that anything that had a head could be\\nbeheaded, and that you weren\\'t to talk nonsense.\\n\\nThe Queen\\'s argument was, that if something wasn\\'t done about it in less\\nthan no time she\\'d have everybody executed, all round. (It was this last\\nremark that had made the whole party look so grave and anxious.)\\n\\nAlice could think of nothing else to say but \\'It belongs to the Duchess:\\nyou\\'d better ask HER about it.\\'\\n\\n\\'She\\'s in prison,\\' the Queen said to the executioner: \\'fetch her here.\\'\\nAnd the executioner went off like an arrow.\\n\\n The Cat\\'s head began fading away the moment he was gone, and,\\nby the time he had come back with the Duchess, it had entirely\\ndisappeared; so the King and the executioner ran wildly up and down\\nlooking for it, while the rest of the party went back to the game.\\n\\n\\n\\n\\nCHAPTER IX. The Mock Turtle\\'s Story\\n\\n\\'You can\\'t think how glad I am to see you again, you dear old thing!\\'\\nsaid the Duchess, as she tucked her arm affectionately into Alice\\'s, and\\nthey walked off together.\\n\\nAlice was very glad to find her in such a pleasant temper, and thought\\nto herself that perhaps it was only the pepper that had made her so\\nsavage when they met in the kitchen.\\n\\n\\'When I\\'M a Duchess,\\' she said to herself, (not in a very hopeful tone\\nthough), \\'I won\\'t have any pepper in my kitchen AT ALL. Soup does very\\nwell without--Maybe it\\'s always pepper that makes people hot-tempered,\\'\\nshe went on, very much pleased at having found out a new kind of\\nrule, \\'and vinegar that makes them sour--and camomile that makes\\nthem bitter--and--and barley-sugar and such things that make children\\nsweet-tempered. I only wish people knew that: then they wouldn\\'t be so\\nstingy about it, you know--\\'\\n\\nShe had quite forgotten the Duchess by this time, and was a little\\nstartled when she heard her voice close to her ear. \\'You\\'re thinking\\nabout something, my dear, and that makes you forget to talk. I can\\'t\\ntell you just now what the moral of that is, but I shall remember it in\\na bit.\\'\\n\\n\\'Perhaps it hasn\\'t one,\\' Alice ventured to remark.\\n\\n\\'Tut, tut, child!\\' said the Duchess. \\'Everything\\'s got a moral, if only\\nyou can find it.\\' And she squeezed herself up closer to Alice\\'s side as\\nshe spoke.\\n\\nAlice did not much like keeping so close to her: first, because the\\nDuchess was VERY ugly; and secondly, because she was exactly the\\nright height to rest her chin upon Alice\\'s shoulder, and it was an\\nuncomfortably sharp chin. However, she did not like to be rude, so she\\nbore it as well as she could.\\n\\n\\'The game\\'s going on rather better now,\\' she said, by way of keeping up\\nthe conversation a little.\\n\\n\\'\\'Tis so,\\' said the Duchess: \\'and the moral of that is--\"Oh, \\'tis love,\\n\\'tis love, that makes the world go round!\"\\'\\n\\n\\'Somebody said,\\' Alice whispered, \\'that it\\'s done by everybody minding\\ntheir own business!\\'\\n\\n\\'Ah, well! It means much the same thing,\\' said the Duchess, digging her\\nsharp little chin into Alice\\'s shoulder as she added, \\'and the moral\\nof THAT is--\"Take care of the sense, and the sounds will take care of\\nthemselves.\"\\'\\n\\n\\'How fond she is of finding morals in things!\\' Alice thought to herself.\\n\\n\\'I dare say you\\'re wondering why I don\\'t put my arm round your waist,\\'\\nthe Duchess said after a pause: \\'the reason is, that I\\'m doubtful about\\nthe temper of your flamingo. Shall I try the experiment?\\'\\n\\n\\'HE might bite,\\' Alice cautiously replied, not feeling at all anxious to\\nhave the experiment tried.\\n\\n\\'Very true,\\' said the Duchess: \\'flamingoes and mustard both bite. And\\nthe moral of that is--\"Birds of a feather flock together.\"\\'\\n\\n\\'Only mustard isn\\'t a bird,\\' Alice remarked.\\n\\n\\'Right, as usual,\\' said the Duchess: \\'what a clear way you have of\\nputting things!\\'\\n\\n\\'It\\'s a mineral, I THINK,\\' said Alice.\\n\\n\\'Of course it is,\\' said the Duchess, who seemed ready to agree to\\neverything that Alice said; \\'there\\'s a large mustard-mine near here. And\\nthe moral of that is--\"The more there is of mine, the less there is of\\nyours.\"\\'\\n\\n\\'Oh, I know!\\' exclaimed Alice, who had not attended to this last remark,\\n\\'it\\'s a vegetable. It doesn\\'t look like one, but it is.\\'\\n\\n\\'I quite agree with you,\\' said the Duchess; \\'and the moral of that\\nis--\"Be what you would seem to be\"--or if you\\'d like it put more\\nsimply--\"Never imagine yourself not to be otherwise than what it might\\nappear to others that what you were or might have been was not otherwise\\nthan what you had been would have appeared to them to be otherwise.\"\\'\\n\\n\\'I think I should understand that better,\\' Alice said very politely, \\'if\\nI had it written down: but I can\\'t quite follow it as you say it.\\'\\n\\n\\'That\\'s nothing to what I could say if I chose,\\' the Duchess replied, in\\na pleased tone.\\n\\n\\'Pray don\\'t trouble yourself to say it any longer than that,\\' said\\nAlice.\\n\\n\\'Oh, don\\'t talk about trouble!\\' said the Duchess. \\'I make you a present\\nof everything I\\'ve said as yet.\\'\\n\\n\\'A cheap sort of present!\\' thought Alice. \\'I\\'m glad they don\\'t give\\nbirthday presents like that!\\' But she did not venture to say it out\\nloud.\\n\\n\\'Thinking again?\\' the Duchess asked, with another dig of her sharp\\nlittle chin.\\n\\n\\'I\\'ve a right to think,\\' said Alice sharply, for she was beginning to\\nfeel a little worried.\\n\\n\\'Just about as much right,\\' said the Duchess, \\'as pigs have to fly; and\\nthe m--\\'\\n\\nBut here, to Alice\\'s great surprise, the Duchess\\'s voice died away, even\\nin the middle of her favourite word \\'moral,\\' and the arm that was linked\\ninto hers began to tremble. Alice looked up, and there stood the Queen\\nin front of them, with her arms folded, frowning like a thunderstorm.\\n\\n\\'A fine day, your Majesty!\\' the Duchess began in a low, weak voice.\\n\\n\\'Now, I give you fair warning,\\' shouted the Queen, stamping on the\\nground as she spoke; \\'either you or your head must be off, and that in\\nabout half no time! Take your choice!\\'\\n\\nThe Duchess took her choice, and was gone in a moment.\\n\\n\\'Let\\'s go on with the game,\\' the Queen said to Alice; and Alice was\\ntoo much frightened to say a word, but slowly followed her back to the\\ncroquet-ground.\\n\\nThe other guests had taken advantage of the Queen\\'s absence, and were\\nresting in the shade: however, the moment they saw her, they hurried\\nback to the game, the Queen merely remarking that a moment\\'s delay would\\ncost them their lives.\\n\\nAll the time they were playing the Queen never left off quarrelling with\\nthe other players, and shouting \\'Off with his head!\\' or \\'Off with her\\nhead!\\' Those whom she sentenced were taken into custody by the soldiers,\\nwho of course had to leave off being arches to do this, so that by\\nthe end of half an hour or so there were no arches left, and all the\\nplayers, except the King, the Queen, and Alice, were in custody and\\nunder sentence of execution.\\n\\nThen the Queen left off, quite out of breath, and said to Alice, \\'Have\\nyou seen the Mock Turtle yet?\\'\\n\\n\\'No,\\' said Alice. \\'I don\\'t even know what a Mock Turtle is.\\'\\n\\n\\'It\\'s the thing Mock Turtle Soup is made from,\\' said the Queen.\\n\\n\\'I never saw one, or heard of one,\\' said Alice.\\n\\n\\'Come on, then,\\' said the Queen, \\'and he shall tell you his history,\\'\\n\\nAs they walked off together, Alice heard the King say in a low voice,\\nto the company generally, \\'You are all pardoned.\\' \\'Come, THAT\\'S a good\\nthing!\\' she said to herself, for she had felt quite unhappy at the\\nnumber of executions the Queen had ordered.\\n\\nThey very soon came upon a Gryphon, lying fast asleep in the sun.\\n(IF you don\\'t know what a Gryphon is, look at the picture.) \\'Up, lazy\\nthing!\\' said the Queen, \\'and take this young lady to see the Mock\\nTurtle, and to hear his history. I must go back and see after some\\nexecutions I have ordered\\'; and she walked off, leaving Alice alone with\\nthe Gryphon. Alice did not quite like the look of the creature, but on\\nthe whole she thought it would be quite as safe to stay with it as to go\\nafter that savage Queen: so she waited.\\n\\nThe Gryphon sat up and rubbed its eyes: then it watched the Queen till\\nshe was out of sight: then it chuckled. \\'What fun!\\' said the Gryphon,\\nhalf to itself, half to Alice.\\n\\n\\'What IS the fun?\\' said Alice.\\n\\n\\'Why, SHE,\\' said the Gryphon. \\'It\\'s all her fancy, that: they never\\nexecutes nobody, you know. Come on!\\'\\n\\n\\'Everybody says \"come on!\" here,\\' thought Alice, as she went slowly\\nafter it: \\'I never was so ordered about in all my life, never!\\'\\n\\nThey had not gone far before they saw the Mock Turtle in the distance,\\nsitting sad and lonely on a little ledge of rock, and, as they came\\nnearer, Alice could hear him sighing as if his heart would break. She\\npitied him deeply. \\'What is his sorrow?\\' she asked the Gryphon, and the\\nGryphon answered, very nearly in the same words as before, \\'It\\'s all his\\nfancy, that: he hasn\\'t got no sorrow, you know. Come on!\\'\\n\\nSo they went up to the Mock Turtle, who looked at them with large eyes\\nfull of tears, but said nothing.\\n\\n\\'This here young lady,\\' said the Gryphon, \\'she wants for to know your\\nhistory, she do.\\'\\n\\n\\'I\\'ll tell it her,\\' said the Mock Turtle in a deep, hollow tone: \\'sit\\ndown, both of you, and don\\'t speak a word till I\\'ve finished.\\'\\n\\nSo they sat down, and nobody spoke for some minutes. Alice thought to\\nherself, \\'I don\\'t see how he can EVEN finish, if he doesn\\'t begin.\\' But\\nshe waited patiently.\\n\\n\\'Once,\\' said the Mock Turtle at last, with a deep sigh, \\'I was a real\\nTurtle.\\'\\n\\nThese words were followed by a very long silence, broken only by an\\noccasional exclamation of \\'Hjckrrh!\\' from the Gryphon, and the constant\\nheavy sobbing of the Mock Turtle. Alice was very nearly getting up and\\nsaying, \\'Thank you, sir, for your interesting story,\\' but she could\\nnot help thinking there MUST be more to come, so she sat still and said\\nnothing.\\n\\n\\'When we were little,\\' the Mock Turtle went on at last, more calmly,\\nthough still sobbing a little now and then, \\'we went to school in the\\nsea. The master was an old Turtle--we used to call him Tortoise--\\'\\n\\n\\'Why did you call him Tortoise, if he wasn\\'t one?\\' Alice asked.\\n\\n\\'We called him Tortoise because he taught us,\\' said the Mock Turtle\\nangrily: \\'really you are very dull!\\'\\n\\n\\'You ought to be ashamed of yourself for asking such a simple question,\\'\\nadded the Gryphon; and then they both sat silent and looked at poor\\nAlice, who felt ready to sink into the earth. At last the Gryphon said\\nto the Mock Turtle, \\'Drive on, old fellow! Don\\'t be all day about it!\\'\\nand he went on in these words:\\n\\n\\'Yes, we went to school in the sea, though you mayn\\'t believe it--\\'\\n\\n\\'I never said I didn\\'t!\\' interrupted Alice.\\n\\n\\'You did,\\' said the Mock Turtle.\\n\\n\\'Hold your tongue!\\' added the Gryphon, before Alice could speak again.\\nThe Mock Turtle went on.\\n\\n\\'We had the best of educations--in fact, we went to school every day--\\'\\n\\n\\'I\\'VE been to a day-school, too,\\' said Alice; \\'you needn\\'t be so proud\\nas all that.\\'\\n\\n\\'With extras?\\' asked the Mock Turtle a little anxiously.\\n\\n\\'Yes,\\' said Alice, \\'we learned French and music.\\'\\n\\n\\'And washing?\\' said the Mock Turtle.\\n\\n\\'Certainly not!\\' said Alice indignantly.\\n\\n\\'Ah! then yours wasn\\'t a really good school,\\' said the Mock Turtle in\\na tone of great relief. \\'Now at OURS they had at the end of the bill,\\n\"French, music, AND WASHING--extra.\"\\'\\n\\n\\'You couldn\\'t have wanted it much,\\' said Alice; \\'living at the bottom of\\nthe sea.\\'\\n\\n\\'I couldn\\'t afford to learn it.\\' said the Mock Turtle with a sigh. \\'I\\nonly took the regular course.\\'\\n\\n\\'What was that?\\' inquired Alice.\\n\\n\\'Reeling and Writhing, of course, to begin with,\\' the Mock Turtle\\nreplied; \\'and then the different branches of Arithmetic--Ambition,\\nDistraction, Uglification, and Derision.\\'\\n\\n\\'I never heard of \"Uglification,\"\\' Alice ventured to say. \\'What is it?\\'\\n\\nThe Gryphon lifted up both its paws in surprise. \\'What! Never heard of\\nuglifying!\\' it exclaimed. \\'You know what to beautify is, I suppose?\\'\\n\\n\\'Yes,\\' said Alice doubtfully: \\'it means--to--make--anything--prettier.\\'\\n\\n\\'Well, then,\\' the Gryphon went on, \\'if you don\\'t know what to uglify is,\\nyou ARE a simpleton.\\'\\n\\nAlice did not feel encouraged to ask any more questions about it, so she\\nturned to the Mock Turtle, and said \\'What else had you to learn?\\'\\n\\n\\'Well, there was Mystery,\\' the Mock Turtle replied, counting off\\nthe subjects on his flappers, \\'--Mystery, ancient and modern, with\\nSeaography: then Drawling--the Drawling-master was an old conger-eel,\\nthat used to come once a week: HE taught us Drawling, Stretching, and\\nFainting in Coils.\\'\\n\\n\\'What was THAT like?\\' said Alice.\\n\\n\\'Well, I can\\'t show it you myself,\\' the Mock Turtle said: \\'I\\'m too\\nstiff. And the Gryphon never learnt it.\\'\\n\\n\\'Hadn\\'t time,\\' said the Gryphon: \\'I went to the Classics master, though.\\nHe was an old crab, HE was.\\'\\n\\n\\'I never went to him,\\' the Mock Turtle said with a sigh: \\'he taught\\nLaughing and Grief, they used to say.\\'\\n\\n\\'So he did, so he did,\\' said the Gryphon, sighing in his turn; and both\\ncreatures hid their faces in their paws.\\n\\n\\'And how many hours a day did you do lessons?\\' said Alice, in a hurry to\\nchange the subject.\\n\\n\\'Ten hours the first day,\\' said the Mock Turtle: \\'nine the next, and so\\non.\\'\\n\\n\\'What a curious plan!\\' exclaimed Alice.\\n\\n\\'That\\'s the reason they\\'re called lessons,\\' the Gryphon remarked:\\n\\'because they lessen from day to day.\\'\\n\\nThis was quite a new idea to Alice, and she thought it over a little\\nbefore she made her next remark. \\'Then the eleventh day must have been a\\nholiday?\\'\\n\\n\\'Of course it was,\\' said the Mock Turtle.\\n\\n\\'And how did you manage on the twelfth?\\' Alice went on eagerly.\\n\\n\\'That\\'s enough about lessons,\\' the Gryphon interrupted in a very decided\\ntone: \\'tell her something about the games now.\\'\\n\\n\\n\\n\\nCHAPTER X. The Lobster Quadrille\\n\\nThe Mock Turtle sighed deeply, and drew the back of one flapper across\\nhis eyes. He looked at Alice, and tried to speak, but for a minute or\\ntwo sobs choked his voice. \\'Same as if he had a bone in his throat,\\'\\nsaid the Gryphon: and it set to work shaking him and punching him in\\nthe back. At last the Mock Turtle recovered his voice, and, with tears\\nrunning down his cheeks, he went on again:--\\n\\n\\'You may not have lived much under the sea--\\' (\\'I haven\\'t,\\' said\\nAlice)--\\'and perhaps you were never even introduced to a lobster--\\'\\n(Alice began to say \\'I once tasted--\\' but checked herself hastily, and\\nsaid \\'No, never\\') \\'--so you can have no idea what a delightful thing a\\nLobster Quadrille is!\\'\\n\\n\\'No, indeed,\\' said Alice. \\'What sort of a dance is it?\\'\\n\\n\\'Why,\\' said the Gryphon, \\'you first form into a line along the\\nsea-shore--\\'\\n\\n\\'Two lines!\\' cried the Mock Turtle. \\'Seals, turtles, salmon, and so on;\\nthen, when you\\'ve cleared all the jelly-fish out of the way--\\'\\n\\n\\'THAT generally takes some time,\\' interrupted the Gryphon.\\n\\n\\'--you advance twice--\\'\\n\\n\\'Each with a lobster as a partner!\\' cried the Gryphon.\\n\\n\\'Of course,\\' the Mock Turtle said: \\'advance twice, set to partners--\\'\\n\\n\\'--change lobsters, and retire in same order,\\' continued the Gryphon.\\n\\n\\'Then, you know,\\' the Mock Turtle went on, \\'you throw the--\\'\\n\\n\\'The lobsters!\\' shouted the Gryphon, with a bound into the air.\\n\\n\\'--as far out to sea as you can--\\'\\n\\n\\'Swim after them!\\' screamed the Gryphon.\\n\\n\\'Turn a somersault in the sea!\\' cried the Mock Turtle, capering wildly\\nabout.\\n\\n\\'Change lobsters again!\\' yelled the Gryphon at the top of its voice.\\n\\n\\'Back to land again, and that\\'s all the first figure,\\' said the Mock\\nTurtle, suddenly dropping his voice; and the two creatures, who had been\\njumping about like mad things all this time, sat down again very sadly\\nand quietly, and looked at Alice.\\n\\n\\'It must be a very pretty dance,\\' said Alice timidly.\\n\\n\\'Would you like to see a little of it?\\' said the Mock Turtle.\\n\\n\\'Very much indeed,\\' said Alice.\\n\\n\\'Come, let\\'s try the first figure!\\' said the Mock Turtle to the Gryphon.\\n\\'We can do without lobsters, you know. Which shall sing?\\'\\n\\n\\'Oh, YOU sing,\\' said the Gryphon. \\'I\\'ve forgotten the words.\\'\\n\\nSo they began solemnly dancing round and round Alice, every now and\\nthen treading on her toes when they passed too close, and waving their\\nforepaws to mark the time, while the Mock Turtle sang this, very slowly\\nand sadly:--\\n\\n \\'\"Will you walk a little faster?\" said a whiting to a snail.\\n \"There\\'s a porpoise close behind us, and he\\'s treading on my tail.\\n\\n See how eagerly the lobsters and the turtles all advance!\\n They are waiting on the shingle--will you come and join the dance?\\n\\n Will you, won\\'t you, will you, won\\'t you, will you join the dance?\\n Will you, won\\'t you, will you, won\\'t you, won\\'t you join the dance?\\n\\n \"You can really have no notion how delightful it will be\\n When they take us up and throw us, with the lobsters, out to sea!\"\\n But the snail replied \"Too far, too far!\" and gave a look askance--\\n Said he thanked the whiting kindly, but he would not join the dance.\\n\\n Would not, could not, would not, could not, would not join the dance.\\n Would not, could not, would not, could not, could not join the dance.\\n\\n \\'\"What matters it how far we go?\" his scaly friend replied.\\n \"There is another shore, you know, upon the other side.\\n The further off from England the nearer is to France--\\n Then turn not pale, beloved snail, but come and join the dance.\\n\\n Will you, won\\'t you, will you, won\\'t you, will you join the dance?\\n Will you, won\\'t you, will you, won\\'t you, won\\'t you join the dance?\"\\'\\n\\n\\'Thank you, it\\'s a very interesting dance to watch,\\' said Alice, feeling\\nvery glad that it was over at last: \\'and I do so like that curious song\\nabout the whiting!\\'\\n\\n\\'Oh, as to the whiting,\\' said the Mock Turtle, \\'they--you\\'ve seen them,\\nof course?\\'\\n\\n\\'Yes,\\' said Alice, \\'I\\'ve often seen them at dinn--\\' she checked herself\\nhastily.\\n\\n\\'I don\\'t know where Dinn may be,\\' said the Mock Turtle, \\'but if you\\'ve\\nseen them so often, of course you know what they\\'re like.\\'\\n\\n\\'I believe so,\\' Alice replied thoughtfully. \\'They have their tails in\\ntheir mouths--and they\\'re all over crumbs.\\'\\n\\n\\'You\\'re wrong about the crumbs,\\' said the Mock Turtle: \\'crumbs would all\\nwash off in the sea. But they HAVE their tails in their mouths; and the\\nreason is--\\' here the Mock Turtle yawned and shut his eyes.--\\'Tell her\\nabout the reason and all that,\\' he said to the Gryphon.\\n\\n\\'The reason is,\\' said the Gryphon, \\'that they WOULD go with the lobsters\\nto the dance. So they got thrown out to sea. So they had to fall a long\\nway. So they got their tails fast in their mouths. So they couldn\\'t get\\nthem out again. That\\'s all.\\'\\n\\n\\'Thank you,\\' said Alice, \\'it\\'s very interesting. I never knew so much\\nabout a whiting before.\\'\\n\\n\\'I can tell you more than that, if you like,\\' said the Gryphon. \\'Do you\\nknow why it\\'s called a whiting?\\'\\n\\n\\'I never thought about it,\\' said Alice. \\'Why?\\'\\n\\n\\'IT DOES THE BOOTS AND SHOES.\\' the Gryphon replied very solemnly.\\n\\nAlice was thoroughly puzzled. \\'Does the boots and shoes!\\' she repeated\\nin a wondering tone.\\n\\n\\'Why, what are YOUR shoes done with?\\' said the Gryphon. \\'I mean, what\\nmakes them so shiny?\\'\\n\\nAlice looked down at them, and considered a little before she gave her\\nanswer. \\'They\\'re done with blacking, I believe.\\'\\n\\n\\'Boots and shoes under the sea,\\' the Gryphon went on in a deep voice,\\n\\'are done with a whiting. Now you know.\\'\\n\\n\\'And what are they made of?\\' Alice asked in a tone of great curiosity.\\n\\n\\'Soles and eels, of course,\\' the Gryphon replied rather impatiently:\\n\\'any shrimp could have told you that.\\'\\n\\n\\'If I\\'d been the whiting,\\' said Alice, whose thoughts were still running\\non the song, \\'I\\'d have said to the porpoise, \"Keep back, please: we\\ndon\\'t want YOU with us!\"\\'\\n\\n\\'They were obliged to have him with them,\\' the Mock Turtle said: \\'no\\nwise fish would go anywhere without a porpoise.\\'\\n\\n\\'Wouldn\\'t it really?\\' said Alice in a tone of great surprise.\\n\\n\\'Of course not,\\' said the Mock Turtle: \\'why, if a fish came to ME, and\\ntold me he was going a journey, I should say \"With what porpoise?\"\\'\\n\\n\\'Don\\'t you mean \"purpose\"?\\' said Alice.\\n\\n\\'I mean what I say,\\' the Mock Turtle replied in an offended tone. And\\nthe Gryphon added \\'Come, let\\'s hear some of YOUR adventures.\\'\\n\\n\\'I could tell you my adventures--beginning from this morning,\\' said\\nAlice a little timidly: \\'but it\\'s no use going back to yesterday,\\nbecause I was a different person then.\\'\\n\\n\\'Explain all that,\\' said the Mock Turtle.\\n\\n\\'No, no! The adventures first,\\' said the Gryphon in an impatient tone:\\n\\'explanations take such a dreadful time.\\'\\n\\nSo Alice began telling them her adventures from the time when she first\\nsaw the White Rabbit. She was a little nervous about it just at first,\\nthe two creatures got so close to her, one on each side, and opened\\ntheir eyes and mouths so VERY wide, but she gained courage as she went\\non. Her listeners were perfectly quiet till she got to the part about\\nher repeating \\'YOU ARE OLD, FATHER WILLIAM,\\' to the Caterpillar, and the\\nwords all coming different, and then the Mock Turtle drew a long breath,\\nand said \\'That\\'s very curious.\\'\\n\\n\\'It\\'s all about as curious as it can be,\\' said the Gryphon.\\n\\n\\'It all came different!\\' the Mock Turtle repeated thoughtfully. \\'I\\nshould like to hear her try and repeat something now. Tell her to\\nbegin.\\' He looked at the Gryphon as if he thought it had some kind of\\nauthority over Alice.\\n\\n\\'Stand up and repeat \"\\'TIS THE VOICE OF THE SLUGGARD,\"\\' said the\\nGryphon.\\n\\n\\'How the creatures order one about, and make one repeat lessons!\\'\\nthought Alice; \\'I might as well be at school at once.\\' However, she\\ngot up, and began to repeat it, but her head was so full of the Lobster\\nQuadrille, that she hardly knew what she was saying, and the words came\\nvery queer indeed:--\\n\\n  \\'\\'Tis the voice of the Lobster; I heard him declare,\\n  \"You have baked me too brown, I must sugar my hair.\"\\n  As a duck with its eyelids, so he with his nose\\n  Trims his belt and his buttons, and turns out his toes.\\'\\n\\n       [later editions continued as follows\\n  When the sands are all dry, he is gay as a lark,\\n  And will talk in contemptuous tones of the Shark,\\n  But, when the tide rises and sharks are around,\\n  His voice has a timid and tremulous sound.]\\n\\n\\'That\\'s different from what I used to say when I was a child,\\' said the\\nGryphon.\\n\\n\\'Well, I never heard it before,\\' said the Mock Turtle; \\'but it sounds\\nuncommon nonsense.\\'\\n\\nAlice said nothing; she had sat down with her face in her hands,\\nwondering if anything would EVER happen in a natural way again.\\n\\n\\'I should like to have it explained,\\' said the Mock Turtle.\\n\\n\\'She can\\'t explain it,\\' said the Gryphon hastily. \\'Go on with the next\\nverse.\\'\\n\\n\\'But about his toes?\\' the Mock Turtle persisted. \\'How COULD he turn them\\nout with his nose, you know?\\'\\n\\n\\'It\\'s the first position in dancing.\\' Alice said; but was dreadfully\\npuzzled by the whole thing, and longed to change the subject.\\n\\n\\'Go on with the next verse,\\' the Gryphon repeated impatiently: \\'it\\nbegins \"I passed by his garden.\"\\'\\n\\nAlice did not dare to disobey, though she felt sure it would all come\\nwrong, and she went on in a trembling voice:--\\n\\n  \\'I passed by his garden, and marked, with one eye,\\n  How the Owl and the Panther were sharing a pie--\\'\\n\\n    [later editions continued as follows\\n  The Panther took pie-crust, and gravy, and meat,\\n  While the Owl had the dish as its share of the treat.\\n  When the pie was all finished, the Owl, as a boon,\\n  Was kindly permitted to pocket the spoon:\\n  While the Panther received knife and fork with a growl,\\n  And concluded the banquet--]\\n\\n\\'What IS the use of repeating all that stuff,\\' the Mock Turtle\\ninterrupted, \\'if you don\\'t explain it as you go on? It\\'s by far the most\\nconfusing thing I ever heard!\\'\\n\\n\\'Yes, I think you\\'d better leave off,\\' said the Gryphon: and Alice was\\nonly too glad to do so.\\n\\n\\'Shall we try another figure of the Lobster Quadrille?\\' the Gryphon went\\non. \\'Or would you like the Mock Turtle to sing you a song?\\'\\n\\n\\'Oh, a song, please, if the Mock Turtle would be so kind,\\' Alice\\nreplied, so eagerly that the Gryphon said, in a rather offended tone,\\n\\'Hm! No accounting for tastes! Sing her \"Turtle Soup,\" will you, old\\nfellow?\\'\\n\\nThe Mock Turtle sighed deeply, and began, in a voice sometimes choked\\nwith sobs, to sing this:--\\n\\n   \\'Beautiful Soup, so rich and green,\\n   Waiting in a hot tureen!\\n   Who for such dainties would not stoop?\\n   Soup of the evening, beautiful Soup!\\n   Soup of the evening, beautiful Soup!\\n     Beau--ootiful Soo--oop!\\n     Beau--ootiful Soo--oop!\\n   Soo--oop of the e--e--evening,\\n     Beautiful, beautiful Soup!\\n\\n   \\'Beautiful Soup! Who cares for fish,\\n   Game, or any other dish?\\n   Who would not give all else for two\\n   Pennyworth only of beautiful Soup?\\n   Pennyworth only of beautiful Soup?\\n     Beau--ootiful Soo--oop!\\n     Beau--ootiful Soo--oop!\\n   Soo--oop of the e--e--evening,\\n     Beautiful, beauti--FUL SOUP!\\'\\n\\n\\'Chorus again!\\' cried the Gryphon, and the Mock Turtle had just begun\\nto repeat it, when a cry of \\'The trial\\'s beginning!\\' was heard in the\\ndistance.\\n\\n\\'Come on!\\' cried the Gryphon, and, taking Alice by the hand, it hurried\\noff, without waiting for the end of the song.\\n\\n\\'What trial is it?\\' Alice panted as she ran; but the Gryphon only\\nanswered \\'Come on!\\' and ran the faster, while more and more faintly\\ncame, carried on the breeze that followed them, the melancholy words:--\\n\\n   \\'Soo--oop of the e--e--evening,\\n     Beautiful, beautiful Soup!\\'\\n\\n\\n\\n\\nCHAPTER XI. Who Stole the Tarts?\\n\\nThe King and Queen of Hearts were seated on their throne when they\\narrived, with a great crowd assembled about them--all sorts of little\\nbirds and beasts, as well as the whole pack of cards: the Knave was\\nstanding before them, in chains, with a soldier on each side to guard\\nhim; and near the King was the White Rabbit, with a trumpet in one hand,\\nand a scroll of parchment in the other. In the very middle of the court\\nwas a table, with a large dish of tarts upon it: they looked so good,\\nthat it made Alice quite hungry to look at them--\\'I wish they\\'d get the\\ntrial done,\\' she thought, \\'and hand round the refreshments!\\' But there\\nseemed to be no chance of this, so she began looking at everything about\\nher, to pass away the time.\\n\\nAlice had never been in a court of justice before, but she had read\\nabout them in books, and she was quite pleased to find that she knew\\nthe name of nearly everything there. \\'That\\'s the judge,\\' she said to\\nherself, \\'because of his great wig.\\'\\n\\nThe judge, by the way, was the King; and as he wore his crown over the\\nwig, (look at the frontispiece if you want to see how he did it,) he did\\nnot look at all comfortable, and it was certainly not becoming.\\n\\n\\'And that\\'s the jury-box,\\' thought Alice, \\'and those twelve creatures,\\'\\n(she was obliged to say \\'creatures,\\' you see, because some of them were\\nanimals, and some were birds,) \\'I suppose they are the jurors.\\' She said\\nthis last word two or three times over to herself, being rather proud of\\nit: for she thought, and rightly too, that very few little girls of her\\nage knew the meaning of it at all. However, \\'jury-men\\' would have done\\njust as well.\\n\\nThe twelve jurors were all writing very busily on slates. \\'What are they\\ndoing?\\' Alice whispered to the Gryphon. \\'They can\\'t have anything to put\\ndown yet, before the trial\\'s begun.\\'\\n\\n\\'They\\'re putting down their names,\\' the Gryphon whispered in reply, \\'for\\nfear they should forget them before the end of the trial.\\'\\n\\n\\'Stupid things!\\' Alice began in a loud, indignant voice, but she stopped\\nhastily, for the White Rabbit cried out, \\'Silence in the court!\\' and the\\nKing put on his spectacles and looked anxiously round, to make out who\\nwas talking.\\n\\nAlice could see, as well as if she were looking over their shoulders,\\nthat all the jurors were writing down \\'stupid things!\\' on their slates,\\nand she could even make out that one of them didn\\'t know how to spell\\n\\'stupid,\\' and that he had to ask his neighbour to tell him. \\'A nice\\nmuddle their slates\\'ll be in before the trial\\'s over!\\' thought Alice.\\n\\nOne of the jurors had a pencil that squeaked. This of course, Alice\\ncould not stand, and she went round the court and got behind him, and\\nvery soon found an opportunity of taking it away. She did it so quickly\\nthat the poor little juror (it was Bill, the Lizard) could not make out\\nat all what had become of it; so, after hunting all about for it, he was\\nobliged to write with one finger for the rest of the day; and this was\\nof very little use, as it left no mark on the slate.\\n\\n\\'Herald, read the accusation!\\' said the King.\\n\\nOn this the White Rabbit blew three blasts on the trumpet, and then\\nunrolled the parchment scroll, and read as follows:--\\n\\n   \\'The Queen of Hearts, she made some tarts,\\n      All on a summer day:\\n    The Knave of Hearts, he stole those tarts,\\n      And took them quite away!\\'\\n\\n\\'Consider your verdict,\\' the King said to the jury.\\n\\n\\'Not yet, not yet!\\' the Rabbit hastily interrupted. \\'There\\'s a great\\ndeal to come before that!\\'\\n\\n\\'Call the first witness,\\' said the King; and the White Rabbit blew three\\nblasts on the trumpet, and called out, \\'First witness!\\'\\n\\nThe first witness was the Hatter. He came in with a teacup in one\\nhand and a piece of bread-and-butter in the other. \\'I beg pardon, your\\nMajesty,\\' he began, \\'for bringing these in: but I hadn\\'t quite finished\\nmy tea when I was sent for.\\'\\n\\n\\'You ought to have finished,\\' said the King. \\'When did you begin?\\'\\n\\nThe Hatter looked at the March Hare, who had followed him into the\\ncourt, arm-in-arm with the Dormouse. \\'Fourteenth of March, I think it\\nwas,\\' he said.\\n\\n\\'Fifteenth,\\' said the March Hare.\\n\\n\\'Sixteenth,\\' added the Dormouse.\\n\\n\\'Write that down,\\' the King said to the jury, and the jury eagerly\\nwrote down all three dates on their slates, and then added them up, and\\nreduced the answer to shillings and pence.\\n\\n\\'Take off your hat,\\' the King said to the Hatter.\\n\\n\\'It isn\\'t mine,\\' said the Hatter.\\n\\n\\'Stolen!\\' the King exclaimed, turning to the jury, who instantly made a\\nmemorandum of the fact.\\n\\n\\'I keep them to sell,\\' the Hatter added as an explanation; \\'I\\'ve none of\\nmy own. I\\'m a hatter.\\'\\n\\nHere the Queen put on her spectacles, and began staring at the Hatter,\\nwho turned pale and fidgeted.\\n\\n\\'Give your evidence,\\' said the King; \\'and don\\'t be nervous, or I\\'ll have\\nyou executed on the spot.\\'\\n\\nThis did not seem to encourage the witness at all: he kept shifting\\nfrom one foot to the other, looking uneasily at the Queen, and in\\nhis confusion he bit a large piece out of his teacup instead of the\\nbread-and-butter.\\n\\nJust at this moment Alice felt a very curious sensation, which puzzled\\nher a good deal until she made out what it was: she was beginning to\\ngrow larger again, and she thought at first she would get up and leave\\nthe court; but on second thoughts she decided to remain where she was as\\nlong as there was room for her.\\n\\n\\'I wish you wouldn\\'t squeeze so.\\' said the Dormouse, who was sitting\\nnext to her. \\'I can hardly breathe.\\'\\n\\n\\'I can\\'t help it,\\' said Alice very meekly: \\'I\\'m growing.\\'\\n\\n\\'You\\'ve no right to grow here,\\' said the Dormouse.\\n\\n\\'Don\\'t talk nonsense,\\' said Alice more boldly: \\'you know you\\'re growing\\ntoo.\\'\\n\\n\\'Yes, but I grow at a reasonable pace,\\' said the Dormouse: \\'not in that\\nridiculous fashion.\\' And he got up very sulkily and crossed over to the\\nother side of the court.\\n\\nAll this time the Queen had never left off staring at the Hatter, and,\\njust as the Dormouse crossed the court, she said to one of the officers\\nof the court, \\'Bring me the list of the singers in the last concert!\\' on\\nwhich the wretched Hatter trembled so, that he shook both his shoes off.\\n\\n\\'Give your evidence,\\' the King repeated angrily, \\'or I\\'ll have you\\nexecuted, whether you\\'re nervous or not.\\'\\n\\n\\'I\\'m a poor man, your Majesty,\\' the Hatter began, in a trembling voice,\\n\\'--and I hadn\\'t begun my tea--not above a week or so--and what with the\\nbread-and-butter getting so thin--and the twinkling of the tea--\\'\\n\\n\\'The twinkling of the what?\\' said the King.\\n\\n\\'It began with the tea,\\' the Hatter replied.\\n\\n\\'Of course twinkling begins with a T!\\' said the King sharply. \\'Do you\\ntake me for a dunce? Go on!\\'\\n\\n\\'I\\'m a poor man,\\' the Hatter went on, \\'and most things twinkled after\\nthat--only the March Hare said--\\'\\n\\n\\'I didn\\'t!\\' the March Hare interrupted in a great hurry.\\n\\n\\'You did!\\' said the Hatter.\\n\\n\\'I deny it!\\' said the March Hare.\\n\\n\\'He denies it,\\' said the King: \\'leave out that part.\\'\\n\\n\\'Well, at any rate, the Dormouse said--\\' the Hatter went on, looking\\nanxiously round to see if he would deny it too: but the Dormouse denied\\nnothing, being fast asleep.\\n\\n\\'After that,\\' continued the Hatter, \\'I cut some more bread-and-butter--\\'\\n\\n\\'But what did the Dormouse say?\\' one of the jury asked.\\n\\n\\'That I can\\'t remember,\\' said the Hatter.\\n\\n\\'You MUST remember,\\' remarked the King, \\'or I\\'ll have you executed.\\'\\n\\nThe miserable Hatter dropped his teacup and bread-and-butter, and went\\ndown on one knee. \\'I\\'m a poor man, your Majesty,\\' he began.\\n\\n\\'You\\'re a very poor speaker,\\' said the King.\\n\\nHere one of the guinea-pigs cheered, and was immediately suppressed by\\nthe officers of the court. (As that is rather a hard word, I will just\\nexplain to you how it was done. They had a large canvas bag, which tied\\nup at the mouth with strings: into this they slipped the guinea-pig,\\nhead first, and then sat upon it.)\\n\\n\\'I\\'m glad I\\'ve seen that done,\\' thought Alice. \\'I\\'ve so often read\\nin the newspapers, at the end of trials, \"There was some attempts\\nat applause, which was immediately suppressed by the officers of the\\ncourt,\" and I never understood what it meant till now.\\'\\n\\n\\'If that\\'s all you know about it, you may stand down,\\' continued the\\nKing.\\n\\n\\'I can\\'t go no lower,\\' said the Hatter: \\'I\\'m on the floor, as it is.\\'\\n\\n\\'Then you may SIT down,\\' the King replied.\\n\\nHere the other guinea-pig cheered, and was suppressed.\\n\\n\\'Come, that finished the guinea-pigs!\\' thought Alice. \\'Now we shall get\\non better.\\'\\n\\n\\'I\\'d rather finish my tea,\\' said the Hatter, with an anxious look at the\\nQueen, who was reading the list of singers.\\n\\n\\'You may go,\\' said the King, and the Hatter hurriedly left the court,\\nwithout even waiting to put his shoes on.\\n\\n\\'--and just take his head off outside,\\' the Queen added to one of the\\nofficers: but the Hatter was out of sight before the officer could get\\nto the door.\\n\\n\\'Call the next witness!\\' said the King.\\n\\nThe next witness was the Duchess\\'s cook. She carried the pepper-box in\\nher hand, and Alice guessed who it was, even before she got into the\\ncourt, by the way the people near the door began sneezing all at once.\\n\\n\\'Give your evidence,\\' said the King.\\n\\n\\'Shan\\'t,\\' said the cook.\\n\\nThe King looked anxiously at the White Rabbit, who said in a low voice,\\n\\'Your Majesty must cross-examine THIS witness.\\'\\n\\n\\'Well, if I must, I must,\\' the King said, with a melancholy air, and,\\nafter folding his arms and frowning at the cook till his eyes were\\nnearly out of sight, he said in a deep voice, \\'What are tarts made of?\\'\\n\\n\\'Pepper, mostly,\\' said the cook.\\n\\n\\'Treacle,\\' said a sleepy voice behind her.\\n\\n\\'Collar that Dormouse,\\' the Queen shrieked out. \\'Behead that Dormouse!\\nTurn that Dormouse out of court! Suppress him! Pinch him! Off with his\\nwhiskers!\\'\\n\\nFor some minutes the whole court was in confusion, getting the Dormouse\\nturned out, and, by the time they had settled down again, the cook had\\ndisappeared.\\n\\n\\'Never mind!\\' said the King, with an air of great relief. \\'Call the next\\nwitness.\\' And he added in an undertone to the Queen, \\'Really, my dear,\\nYOU must cross-examine the next witness. It quite makes my forehead\\nache!\\'\\n\\nAlice watched the White Rabbit as he fumbled over the list, feeling very\\ncurious to see what the next witness would be like, \\'--for they haven\\'t\\ngot much evidence YET,\\' she said to herself. Imagine her surprise, when\\nthe White Rabbit read out, at the top of his shrill little voice, the\\nname \\'Alice!\\'\\n\\n\\n\\n\\nCHAPTER XII. Alice\\'s Evidence\\n\\n\\n\\'Here!\\' cried Alice, quite forgetting in the flurry of the moment how\\nlarge she had grown in the last few minutes, and she jumped up in such\\na hurry that she tipped over the jury-box with the edge of her skirt,\\nupsetting all the jurymen on to the heads of the crowd below, and there\\nthey lay sprawling about, reminding her very much of a globe of goldfish\\nshe had accidentally upset the week before.\\n\\n\\'Oh, I BEG your pardon!\\' she exclaimed in a tone of great dismay, and\\nbegan picking them up again as quickly as she could, for the accident of\\nthe goldfish kept running in her head, and she had a vague sort of idea\\nthat they must be collected at once and put back into the jury-box, or\\nthey would die.\\n\\n\\'The trial cannot proceed,\\' said the King in a very grave voice, \\'until\\nall the jurymen are back in their proper places--ALL,\\' he repeated with\\ngreat emphasis, looking hard at Alice as he said do.\\n\\nAlice looked at the jury-box, and saw that, in her haste, she had put\\nthe Lizard in head downwards, and the poor little thing was waving its\\ntail about in a melancholy way, being quite unable to move. She soon got\\nit out again, and put it right; \\'not that it signifies much,\\' she said\\nto herself; \\'I should think it would be QUITE as much use in the trial\\none way up as the other.\\'\\n\\nAs soon as the jury had a little recovered from the shock of being\\nupset, and their slates and pencils had been found and handed back to\\nthem, they set to work very diligently to write out a history of the\\naccident, all except the Lizard, who seemed too much overcome to do\\nanything but sit with its mouth open, gazing up into the roof of the\\ncourt.\\n\\n\\'What do you know about this business?\\' the King said to Alice.\\n\\n\\'Nothing,\\' said Alice.\\n\\n\\'Nothing WHATEVER?\\' persisted the King.\\n\\n\\'Nothing whatever,\\' said Alice.\\n\\n\\'That\\'s very important,\\' the King said, turning to the jury. They were\\njust beginning to write this down on their slates, when the White Rabbit\\ninterrupted: \\'UNimportant, your Majesty means, of course,\\' he said in a\\nvery respectful tone, but frowning and making faces at him as he spoke.\\n\\n\\'UNimportant, of course, I meant,\\' the King hastily said, and went on\\nto himself in an undertone,\\n\\n\\'important--unimportant--unimportant--important--\\' as if he were trying\\nwhich word sounded best.\\n\\nSome of the jury wrote it down \\'important,\\' and some \\'unimportant.\\'\\nAlice could see this, as she was near enough to look over their slates;\\n\\'but it doesn\\'t matter a bit,\\' she thought to herself.\\n\\nAt this moment the King, who had been for some time busily writing in\\nhis note-book, cackled out \\'Silence!\\' and read out from his book, \\'Rule\\nForty-two. ALL PERSONS MORE THAN A MILE HIGH TO LEAVE THE COURT.\\'\\n\\nEverybody looked at Alice.\\n\\n\\'I\\'M not a mile high,\\' said Alice.\\n\\n\\'You are,\\' said the King.\\n\\n\\'Nearly two miles high,\\' added the Queen.\\n\\n\\'Well, I shan\\'t go, at any rate,\\' said Alice: \\'besides, that\\'s not a\\nregular rule: you invented it just now.\\'\\n\\n\\'It\\'s the oldest rule in the book,\\' said the King.\\n\\n\\'Then it ought to be Number One,\\' said Alice.\\n\\nThe King turned pale, and shut his note-book hastily. \\'Consider your\\nverdict,\\' he said to the jury, in a low, trembling voice.\\n\\n\\'There\\'s more evidence to come yet, please your Majesty,\\' said the White\\nRabbit, jumping up in a great hurry; \\'this paper has just been picked\\nup.\\'\\n\\n\\'What\\'s in it?\\' said the Queen.\\n\\n\\'I haven\\'t opened it yet,\\' said the White Rabbit, \\'but it seems to be a\\nletter, written by the prisoner to--to somebody.\\'\\n\\n\\'It must have been that,\\' said the King, \\'unless it was written to\\nnobody, which isn\\'t usual, you know.\\'\\n\\n\\'Who is it directed to?\\' said one of the jurymen.\\n\\n\\'It isn\\'t directed at all,\\' said the White Rabbit; \\'in fact, there\\'s\\nnothing written on the OUTSIDE.\\' He unfolded the paper as he spoke, and\\nadded \\'It isn\\'t a letter, after all: it\\'s a set of verses.\\'\\n\\n\\'Are they in the prisoner\\'s handwriting?\\' asked another of the jurymen.\\n\\n\\'No, they\\'re not,\\' said the White Rabbit, \\'and that\\'s the queerest thing\\nabout it.\\' (The jury all looked puzzled.)\\n\\n\\'He must have imitated somebody else\\'s hand,\\' said the King. (The jury\\nall brightened up again.)\\n\\n\\'Please your Majesty,\\' said the Knave, \\'I didn\\'t write it, and they\\ncan\\'t prove I did: there\\'s no name signed at the end.\\'\\n\\n\\'If you didn\\'t sign it,\\' said the King, \\'that only makes the matter\\nworse. You MUST have meant some mischief, or else you\\'d have signed your\\nname like an honest man.\\'\\n\\nThere was a general clapping of hands at this: it was the first really\\nclever thing the King had said that day.\\n\\n\\'That PROVES his guilt,\\' said the Queen.\\n\\n\\'It proves nothing of the sort!\\' said Alice. \\'Why, you don\\'t even know\\nwhat they\\'re about!\\'\\n\\n\\'Read them,\\' said the King.\\n\\nThe White Rabbit put on his spectacles. \\'Where shall I begin, please\\nyour Majesty?\\' he asked.\\n\\n\\'Begin at the beginning,\\' the King said gravely, \\'and go on till you\\ncome to the end: then stop.\\'\\n\\nThese were the verses the White Rabbit read:--\\n\\n   \\'They told me you had been to her,\\n    And mentioned me to him:\\n   She gave me a good character,\\n    But said I could not swim.\\n\\n   He sent them word I had not gone\\n    (We know it to be true):\\n   If she should push the matter on,\\n    What would become of you?\\n\\n   I gave her one, they gave him two,\\n    You gave us three or more;\\n   They all returned from him to you,\\n    Though they were mine before.\\n\\n   If I or she should chance to be\\n    Involved in this affair,\\n   He trusts to you to set them free,\\n    Exactly as we were.\\n\\n   My notion was that you had been\\n    (Before she had this fit)\\n   An obstacle that came between\\n    Him, and ourselves, and it.\\n\\n   Don\\'t let him know she liked them best,\\n    For this must ever be\\n   A secret, kept from all the rest,\\n    Between yourself and me.\\'\\n\\n\\'That\\'s the most important piece of evidence we\\'ve heard yet,\\' said the\\nKing, rubbing his hands; \\'so now let the jury--\\'\\n\\n\\'If any one of them can explain it,\\' said Alice, (she had grown so large\\nin the last few minutes that she wasn\\'t a bit afraid of interrupting\\nhim,) \\'I\\'ll give him sixpence. _I_ don\\'t believe there\\'s an atom of\\nmeaning in it.\\'\\n\\nThe jury all wrote down on their slates, \\'SHE doesn\\'t believe there\\'s an\\natom of meaning in it,\\' but none of them attempted to explain the paper.\\n\\n\\'If there\\'s no meaning in it,\\' said the King, \\'that saves a world of\\ntrouble, you know, as we needn\\'t try to find any. And yet I don\\'t know,\\'\\nhe went on, spreading out the verses on his knee, and looking at them\\nwith one eye; \\'I seem to see some meaning in them, after all. \"--SAID\\nI COULD NOT SWIM--\" you can\\'t swim, can you?\\' he added, turning to the\\nKnave.\\n\\nThe Knave shook his head sadly. \\'Do I look like it?\\' he said. (Which he\\ncertainly did NOT, being made entirely of cardboard.)\\n\\n\\'All right, so far,\\' said the King, and he went on muttering over\\nthe verses to himself: \\'\"WE KNOW IT TO BE TRUE--\" that\\'s the jury, of\\ncourse--\"I GAVE HER ONE, THEY GAVE HIM TWO--\" why, that must be what he\\ndid with the tarts, you know--\\'\\n\\n\\'But, it goes on \"THEY ALL RETURNED FROM HIM TO YOU,\"\\' said Alice.\\n\\n\\'Why, there they are!\\' said the King triumphantly, pointing to the tarts\\non the table. \\'Nothing can be clearer than THAT. Then again--\"BEFORE SHE\\nHAD THIS FIT--\" you never had fits, my dear, I think?\\' he said to the\\nQueen.\\n\\n\\'Never!\\' said the Queen furiously, throwing an inkstand at the Lizard\\nas she spoke. (The unfortunate little Bill had left off writing on his\\nslate with one finger, as he found it made no mark; but he now hastily\\nbegan again, using the ink, that was trickling down his face, as long as\\nit lasted.)\\n\\n\\'Then the words don\\'t FIT you,\\' said the King, looking round the court\\nwith a smile. There was a dead silence.\\n\\n\\'It\\'s a pun!\\' the King added in an offended tone, and everybody laughed,\\n\\'Let the jury consider their verdict,\\' the King said, for about the\\ntwentieth time that day.\\n\\n\\'No, no!\\' said the Queen. \\'Sentence first--verdict afterwards.\\'\\n\\n\\'Stuff and nonsense!\\' said Alice loudly. \\'The idea of having the\\nsentence first!\\'\\n\\n\\'Hold your tongue!\\' said the Queen, turning purple.\\n\\n\\'I won\\'t!\\' said Alice.\\n\\n\\'Off with her head!\\' the Queen shouted at the top of her voice. Nobody\\nmoved.\\n\\n\\'Who cares for you?\\' said Alice, (she had grown to her full size by this\\ntime.) \\'You\\'re nothing but a pack of cards!\\'\\n\\nAt this the whole pack rose up into the air, and came flying down upon\\nher: she gave a little scream, half of fright and half of anger, and\\ntried to beat them off, and found herself lying on the bank, with her\\nhead in the lap of her sister, who was gently brushing away some dead\\nleaves that had fluttered down from the trees upon her face.\\n\\n\\'Wake up, Alice dear!\\' said her sister; \\'Why, what a long sleep you\\'ve\\nhad!\\'\\n\\n\\'Oh, I\\'ve had such a curious dream!\\' said Alice, and she told her\\nsister, as well as she could remember them, all these strange Adventures\\nof hers that you have just been reading about; and when she had\\nfinished, her sister kissed her, and said, \\'It WAS a curious dream,\\ndear, certainly: but now run in to your tea; it\\'s getting late.\\' So\\nAlice got up and ran off, thinking while she ran, as well she might,\\nwhat a wonderful dream it had been.\\n\\nBut her sister sat still just as she left her, leaning her head on her\\nhand, watching the setting sun, and thinking of little Alice and all her\\nwonderful Adventures, till she too began dreaming after a fashion, and\\nthis was her dream:--\\n\\nFirst, she dreamed of little Alice herself, and once again the tiny\\nhands were clasped upon her knee, and the bright eager eyes were looking\\nup into hers--she could hear the very tones of her voice, and see that\\nqueer little toss of her head to keep back the wandering hair that\\nWOULD always get into her eyes--and still as she listened, or seemed to\\nlisten, the whole place around her became alive with the strange creatures\\nof her little sister\\'s dream.\\n\\nThe long grass rustled at her feet as the White Rabbit hurried by--the\\nfrightened Mouse splashed his way through the neighbouring pool--she\\ncould hear the rattle of the teacups as the March Hare and his friends\\nshared their never-ending meal, and the shrill voice of the Queen\\nordering off her unfortunate guests to execution--once more the pig-baby\\nwas sneezing on the Duchess\\'s knee, while plates and dishes crashed\\naround it--once more the shriek of the Gryphon, the squeaking of the\\nLizard\\'s slate-pencil, and the choking of the suppressed guinea-pigs,\\nfilled the air, mixed up with the distant sobs of the miserable Mock\\nTurtle.\\n\\nSo she sat on, with closed eyes, and half believed herself in\\nWonderland, though she knew she had but to open them again, and all\\nwould change to dull reality--the grass would be only rustling in the\\nwind, and the pool rippling to the waving of the reeds--the rattling\\nteacups would change to tinkling sheep-bells, and the Queen\\'s shrill\\ncries to the voice of the shepherd boy--and the sneeze of the baby, the\\nshriek of the Gryphon, and all the other queer noises, would change (she\\nknew) to the confused clamour of the busy farm-yard--while the lowing\\nof the cattle in the distance would take the place of the Mock Turtle\\'s\\nheavy sobs.\\n\\nLastly, she pictured to herself how this same little sister of hers\\nwould, in the after-time, be herself a grown woman; and how she would\\nkeep, through all her riper years, the simple and loving heart of her\\nchildhood: and how she would gather about her other little children, and\\nmake THEIR eyes bright and eager with many a strange tale, perhaps even\\nwith the dream of Wonderland of long ago: and how she would feel with\\nall their simple sorrows, and find a pleasure in all their simple joys,\\nremembering her own child-life, and the happy summer days.\\n\\n              THE END\\n\\n\\n\\n\\n\\nEnd of Project Gutenberg\\'s Alice\\'s Adventures in Wonderland, by Lewis Carroll\\n\\n*** END OF THIS PROJECT GUTENBERG EBOOK ALICE\\'S ADVENTURES IN WONDERLAND ***\\n\\n'"
      ]
     },
     "execution_count": 6,
     "metadata": {},
     "output_type": "execute_result"
    }
   ],
   "source": [
    "text"
   ]
  },
  {
   "cell_type": "code",
   "execution_count": 7,
   "metadata": {
    "collapsed": true
   },
   "outputs": [],
   "source": [
    "# 사진 데이터를 pil 패키지의 Image를 활용해서 0~255 데이터로 읽어왔다.\n",
    "alice_mask = np.array(Image.open('alice_mask.png'))"
   ]
  },
  {
   "cell_type": "code",
   "execution_count": 8,
   "metadata": {},
   "outputs": [
    {
     "data": {
      "text/plain": [
       "array([[255, 255, 255, ..., 255, 255, 255],\n",
       "       [255, 255, 255, ..., 255, 255, 255],\n",
       "       [255, 255, 255, ..., 255, 255, 255],\n",
       "       ..., \n",
       "       [255, 255, 255, ..., 255, 255, 255],\n",
       "       [255, 255, 255, ..., 255, 255, 255],\n",
       "       [255, 255, 255, ..., 255, 255, 255]], dtype=uint8)"
      ]
     },
     "execution_count": 8,
     "metadata": {},
     "output_type": "execute_result"
    }
   ],
   "source": [
    "alice_mask"
   ]
  },
  {
   "cell_type": "code",
   "execution_count": 9,
   "metadata": {},
   "outputs": [
    {
     "data": {
      "text/plain": [
       "(-0.5, 899.5, 899.5, -0.5)"
      ]
     },
     "execution_count": 9,
     "metadata": {},
     "output_type": "execute_result"
    },
    {
     "data": {
      "image/png": "[encoded data removed]",
      "text/plain": [
       "<matplotlib.figure.Figure at 0x211c041dcf8>"
      ]
     },
     "metadata": {},
     "output_type": "display_data"
    }
   ],
   "source": [
    "# plt.imshow()는 수치 데이터 -> image데이터로 변환해줌\n",
    "plt.imshow(alice_mask, cmap=plt.cm.gray)\n",
    "plt.axis('off')"
   ]
  },
  {
   "cell_type": "code",
   "execution_count": 10,
   "metadata": {},
   "outputs": [
    {
     "data": {
      "text/plain": [
       "{'a',\n",
       " 'about',\n",
       " 'above',\n",
       " 'after',\n",
       " 'again',\n",
       " 'against',\n",
       " 'all',\n",
       " 'am',\n",
       " 'an',\n",
       " 'and',\n",
       " 'any',\n",
       " 'are',\n",
       " \"aren't\",\n",
       " 'as',\n",
       " 'at',\n",
       " 'be',\n",
       " 'because',\n",
       " 'been',\n",
       " 'before',\n",
       " 'being',\n",
       " 'below',\n",
       " 'between',\n",
       " 'both',\n",
       " 'but',\n",
       " 'by',\n",
       " 'can',\n",
       " \"can't\",\n",
       " 'cannot',\n",
       " 'com',\n",
       " 'could',\n",
       " \"couldn't\",\n",
       " 'did',\n",
       " \"didn't\",\n",
       " 'do',\n",
       " 'does',\n",
       " \"doesn't\",\n",
       " 'doing',\n",
       " \"don't\",\n",
       " 'down',\n",
       " 'during',\n",
       " 'each',\n",
       " 'else',\n",
       " 'ever',\n",
       " 'few',\n",
       " 'for',\n",
       " 'from',\n",
       " 'further',\n",
       " 'get',\n",
       " 'had',\n",
       " \"hadn't\",\n",
       " 'has',\n",
       " \"hasn't\",\n",
       " 'have',\n",
       " \"haven't\",\n",
       " 'having',\n",
       " 'he',\n",
       " \"he'd\",\n",
       " \"he'll\",\n",
       " \"he's\",\n",
       " 'her',\n",
       " 'here',\n",
       " \"here's\",\n",
       " 'hers',\n",
       " 'herself',\n",
       " 'him',\n",
       " 'himself',\n",
       " 'his',\n",
       " 'how',\n",
       " \"how's\",\n",
       " 'http',\n",
       " 'i',\n",
       " \"i'd\",\n",
       " \"i'll\",\n",
       " \"i'm\",\n",
       " \"i've\",\n",
       " 'if',\n",
       " 'in',\n",
       " 'into',\n",
       " 'is',\n",
       " \"isn't\",\n",
       " 'it',\n",
       " \"it's\",\n",
       " 'its',\n",
       " 'itself',\n",
       " 'just',\n",
       " 'k',\n",
       " \"let's\",\n",
       " 'like',\n",
       " 'me',\n",
       " 'more',\n",
       " 'most',\n",
       " \"mustn't\",\n",
       " 'my',\n",
       " 'myself',\n",
       " 'no',\n",
       " 'nor',\n",
       " 'not',\n",
       " 'of',\n",
       " 'off',\n",
       " 'on',\n",
       " 'once',\n",
       " 'only',\n",
       " 'or',\n",
       " 'other',\n",
       " 'ought',\n",
       " 'our',\n",
       " 'ours',\n",
       " 'ourselves',\n",
       " 'out',\n",
       " 'over',\n",
       " 'own',\n",
       " 'r',\n",
       " 'same',\n",
       " 'shall',\n",
       " \"shan't\",\n",
       " 'she',\n",
       " \"she'd\",\n",
       " \"she'll\",\n",
       " \"she's\",\n",
       " 'should',\n",
       " \"shouldn't\",\n",
       " 'so',\n",
       " 'some',\n",
       " 'such',\n",
       " 'than',\n",
       " 'that',\n",
       " \"that's\",\n",
       " 'the',\n",
       " 'their',\n",
       " 'theirs',\n",
       " 'them',\n",
       " 'themselves',\n",
       " 'then',\n",
       " 'there',\n",
       " \"there's\",\n",
       " 'these',\n",
       " 'they',\n",
       " \"they'd\",\n",
       " \"they'll\",\n",
       " \"they're\",\n",
       " \"they've\",\n",
       " 'this',\n",
       " 'those',\n",
       " 'through',\n",
       " 'to',\n",
       " 'too',\n",
       " 'under',\n",
       " 'until',\n",
       " 'up',\n",
       " 'very',\n",
       " 'was',\n",
       " \"wasn't\",\n",
       " 'we',\n",
       " \"we'd\",\n",
       " \"we'll\",\n",
       " \"we're\",\n",
       " \"we've\",\n",
       " 'were',\n",
       " \"weren't\",\n",
       " 'what',\n",
       " \"what's\",\n",
       " 'when',\n",
       " \"when's\",\n",
       " 'where',\n",
       " \"where's\",\n",
       " 'which',\n",
       " 'while',\n",
       " 'who',\n",
       " \"who's\",\n",
       " 'whom',\n",
       " 'why',\n",
       " \"why's\",\n",
       " 'with',\n",
       " \"won't\",\n",
       " 'would',\n",
       " \"wouldn't\",\n",
       " 'www',\n",
       " 'you',\n",
       " \"you'd\",\n",
       " \"you'll\",\n",
       " \"you're\",\n",
       " \"you've\",\n",
       " 'your',\n",
       " 'yours',\n",
       " 'yourself',\n",
       " 'yourselves'}"
      ]
     },
     "execution_count": 10,
     "metadata": {},
     "output_type": "execute_result"
    }
   ],
   "source": [
    "## 많은 빈도로 나오는 관사, 전치사 모아놓은 데이터\n",
    "stopwords =set(STOPWORDS)\n",
    "STOPWORDS"
   ]
  },
  {
   "cell_type": "code",
   "execution_count": null,
   "metadata": {
    "collapsed": true
   },
   "outputs": [],
   "source": [
    "wordcolud_2 = WordCloud(background_color = 'white', max_words=2000, mask=alice_mask,\n",
    "                       stopwords=stopwords)\n",
    "\n",
    "wordcolud_2 = wordcolud_2.generate(text)\n",
    "\n",
    "wordcolud_2.words_"
   ]
  },
  {
   "cell_type": "code",
   "execution_count": null,
   "metadata": {
    "collapsed": true
   },
   "outputs": [],
   "source": [
    "plt.imshow(wordcolud_2)\n",
    "plt.axis('off')"
   ]
  },
  {
   "cell_type": "code",
   "execution_count": null,
   "metadata": {
    "collapsed": true
   },
   "outputs": [],
   "source": [
    "plt.figure(figsize=(12,12))\n",
    "plt.imshow(wordcolud_2)\n",
    "\n",
    "plt.axis('off')"
   ]
  },
  {
   "cell_type": "code",
   "execution_count": null,
   "metadata": {
    "collapsed": true
   },
   "outputs": [],
   "source": [
    "text = open('alice.txt').read()\n",
    "\n",
    "alice_coloring = np.array(Image.open('alice_color.png'))\n",
    "\n",
    "# stopwords = set(STOPWORDS)\n",
    "# stopwords.add('said')  #said 카운팅 안하고 싶다.."
   ]
  },
  {
   "cell_type": "code",
   "execution_count": null,
   "metadata": {
    "collapsed": true
   },
   "outputs": [],
   "source": [
    "plt.imshow(alice_coloring)"
   ]
  },
  {
   "cell_type": "code",
   "execution_count": null,
   "metadata": {
    "collapsed": true
   },
   "outputs": [],
   "source": [
    "wordcolud_3 = WordCloud(background_color='white', max_words=2000, mask=alice_coloring, \n",
    "                       stopwords = stopwords, max_font_size=40, random_state=42)\n",
    "\n",
    "wordcolud_3.generate(text)"
   ]
  },
  {
   "cell_type": "code",
   "execution_count": null,
   "metadata": {
    "collapsed": true
   },
   "outputs": [],
   "source": [
    "#plt.figure(figsize=(12,12))\n",
    "plt.imshow(wordcolud_3)\n",
    "plt.axis('off')"
   ]
  },
  {
   "cell_type": "markdown",
   "metadata": {},
   "source": [
    "### 원본 사진 색 살려서"
   ]
  },
  {
   "cell_type": "code",
   "execution_count": null,
   "metadata": {
    "collapsed": true
   },
   "outputs": [],
   "source": [
    "from wordcloud import ImageColorGenerator\n",
    "image_colors = ImageColorGenerator(alice_coloring)"
   ]
  },
  {
   "cell_type": "code",
   "execution_count": null,
   "metadata": {
    "collapsed": true
   },
   "outputs": [],
   "source": [
    "plt.figure(figsize=(12,12))\n",
    "# wordcloud_3.recolr(ImageColorGenerator(numpy이미지 파일))\n",
    "plt.imshow(wordcolud_3.recolor(color_func=image_colors))\n",
    "plt.axis('off')"
   ]
  },
  {
   "cell_type": "markdown",
   "metadata": {
    "collapsed": true
   },
   "source": [
    "# KoNLPy"
   ]
  },
  {
   "cell_type": "code",
   "execution_count": 1,
   "metadata": {
    "collapsed": true
   },
   "outputs": [],
   "source": [
    "import nltk"
   ]
  },
  {
   "cell_type": "code",
   "execution_count": 2,
   "metadata": {
    "collapsed": true
   },
   "outputs": [],
   "source": [
    "from konlpy.tag import Twitter, Kkma"
   ]
  },
  {
   "cell_type": "code",
   "execution_count": 3,
   "metadata": {
    "collapsed": true
   },
   "outputs": [],
   "source": [
    "tw = Twitter()"
   ]
  },
  {
   "cell_type": "code",
   "execution_count": 4,
   "metadata": {
    "collapsed": true
   },
   "outputs": [],
   "source": [
    "kkma = Kkma()"
   ]
  },
  {
   "cell_type": "code",
   "execution_count": 5,
   "metadata": {},
   "outputs": [
    {
     "data": {
      "text/plain": [
       "['안녕 하세요 김 건희 입니다.']"
      ]
     },
     "execution_count": 5,
     "metadata": {},
     "output_type": "execute_result"
    }
   ],
   "source": [
    "kkma.sentences('안녕하세요 김건희 입니다.')"
   ]
  },
  {
   "cell_type": "code",
   "execution_count": 6,
   "metadata": {},
   "outputs": [
    {
     "data": {
      "text/plain": [
       "['김', '김건희', '건희', '명사', '빼어', '가능', '하', '명사닼', '닼']"
      ]
     },
     "execution_count": 6,
     "metadata": {},
     "output_type": "execute_result"
    }
   ],
   "source": [
    "kkma.nouns('김건희입니다. 명사를 빼어 보십시오. 가능 하시겠습니까? 하하하 명사닼')"
   ]
  },
  {
   "cell_type": "code",
   "execution_count": 7,
   "metadata": {},
   "outputs": [
    {
     "data": {
      "text/plain": [
       "[('형태소', 'NNG'),\n",
       " ('분석', 'NNG'),\n",
       " (',', 'SP'),\n",
       " ('pos', 'OL'),\n",
       " ('분석', 'NNG'),\n",
       " ('을', 'JKO'),\n",
       " ('해보', 'VV'),\n",
       " ('세요', 'EFN'),\n",
       " ('하하', 'MAG')]"
      ]
     },
     "execution_count": 7,
     "metadata": {},
     "output_type": "execute_result"
    }
   ],
   "source": [
    "kkma.pos(\"형태소 분석, pos분석을 해보세요 하하\")"
   ]
  },
  {
   "cell_type": "code",
   "execution_count": 11,
   "metadata": {
    "collapsed": true
   },
   "outputs": [],
   "source": [
    "# 대한민국 헌법 내장 데이터\n",
    "from konlpy.corpus import kolaw"
   ]
  },
  {
   "cell_type": "code",
   "execution_count": 12,
   "metadata": {
    "collapsed": true
   },
   "outputs": [],
   "source": [
    "ko = kolaw.open('constitution.txt').read()"
   ]
  },
  {
   "cell_type": "code",
   "execution_count": 13,
   "metadata": {
    "scrolled": false
   },
   "outputs": [
    {
     "data": {
      "text/plain": [
       "'대한민국헌법\\n\\n유구한 역사와 전통에 빛나는 우리 대한국민은 3·1운동으로 건립된 대한민국임시정부의 법통과 불의에 항거한 4·19민주이념을 계승하고, 조국의 민주개혁과 평화적 통일의 사명에 입각하여 정의·인도와 동포애로써 민족의 단결을 공고히 하고, 모든 사회적 폐습과 불의를 타파하며, 자율과 조화를 바탕으로 자유민주적 기본질서를 더욱 확고히 하여 정치·경제·사회·문화의 모든 영역에 있어서 각인의 기회를 균등히 하고, 능력을 최고도로 발휘하게 하며, 자유와 권리에 따르는 책임과 의무를 완수하게 하여, 안으로는 국민생활의 균등한 향상을 기하고 밖으로는 항구적인 세계평화와 인류공영에 이바지함으로써 우리들과 우리들의 자손의 안전과 자유와 행복을 영원히 확보할 것을 다짐하면서 1948년 7월 12일에 제정되고 8차에 걸쳐 개정된 헌법을 이제 국회의 의결을 거쳐 국민투표에 의하여 개정한다.\\n\\n       제1장 총강\\n  제1조 ① 대한민국은 민주공화국이다.\\n②대한민국의 주권은 국민에게 있고, 모든 권력은 국민으로부터 나온다.\\n  제2조 ① 대한민국의 국민이 되는 요건은 법률로 정한다.\\n②국가는 법률이 정하는 바에 의하여 재외국민을 보호할 의무를 진다.\\n  제3조 대한민국의 영토는 한반도와 그 부속도서로 한다.\\n  제4조 대한민국은 통일을 지향하며, 자유민주적 기본질서에 입각한 평화적 통일 정책을 수립하고 이를 추진한다.\\n  제5조 ① 대한민국은 국제평화의 유지에 노력하고 침략적 전쟁을 부인한다.\\n②국군은 국가의 안전보장과 국토방위의 신성한 의무를 수행함을 사명으로 하며, 그 정치적 중립성은 준수된다.\\n  제6조 ① 헌법에 의하여 체결·공포된 조약과 일반적으로 승인된 국제법규는 국내법과 같은 효력을 가진다.\\n②외국인은 국제법과 조약이 정하는 바에 의하여 그 지위가 보장된다.\\n  제7조 ① 공무원은 국민전체에 대한 봉사자이며, 국민에 대하여 책임을 진다.\\n②공무원의 신분과 정치적 중립성은 법률이 정하는 바에 의하여 보장된다.\\n  제8조 ① 정당의 설립은 자유이며, 복수정당제는 보장된다.\\n②정당은 그 목적·조직과 활동이 민주적이어야 하며, 국민의 정치적 의사형성에 참여하는데 필요한 조직을 가져야 한다.\\n③정당은 법률이 정하는 바에 의하여 국가의 보호를 받으며, 국가는 법률이 정하는 바에 의하여 정당운영에 필요한 자금을 보조할 수 있다.\\n④정당의 목적이나 활동이 민주적 기본질서에 위배될 때에는 정부는 헌법재판소에 그 해산을 제소할 수 있고, 정당은 헌법재판소의 심판에 의하여 해산된다.\\n  제9조 국가는 전통문화의 계승·발전과 민족문화의 창달에 노력하여야 한다.\\n\\n       제2장 국민의 권리와 의무\\n  제10조 모든 국민은 인간으로서의 존엄과 가치를 가지며, 행복을 추구할 권리를 가진다. 국가는 개인이 가지는 불가침의 기본적 인권을 확인하고 이를 보장할 의무를 진다.\\n  제11조 ① 모든 국민은 법 앞에 평등하다. 누구든지 성별·종교 또는 사회적 신분에 의하여 정치적·경제적·사회적·문화적 생활의 모든 영역에 있어서 차별을 받지 아니한다.\\n②사회적 특수계급의 제도는 인정되지 아니하며, 어떠한 형태로도 이를 창설할 수 없다.\\n③훈장등의 영전은 이를 받은 자에게만 효력이 있고, 어떠한 특권도 이에 따르지 아니한다.\\n  제12조 ① 모든 국민은 신체의 자유를 가진다. 누구든지 법률에 의하지 아니하고는 체포·구속·압수·수색 또는 심문을 받지 아니하며, 법률과 적법한 절차에 의하지 아니하고는 처벌·보안처분 또는 강제노역을 받지 아니한다.\\n②모든 국민은 고문을 받지 아니하며, 형사상 자기에게 불리한 진술을 강요당하지 아니한다.\\n③체포·구속·압수 또는 수색을 할 때에는 적법한 절차에 따라 검사의 신청에 의하여 법관이 발부한 영장을 제시하여야 한다. 다만, 현행범인인 경우와 장기 3년 이상의 형에 해당하는 죄를 범하고 도피 또는 증거인멸의 염려가 있을 때에는 사후에 영장을 청구할 수 있다.\\n④누구든지 체포 또는 구속을 당한 때에는 즉시 변호인의 조력을 받을 권리를 가진다. 다만, 형사피고인이 스스로 변호인을 구할 수 없을 때에는 법률이 정하는 바에 의하여 국가가 변호인을 붙인다.\\n⑤누구든지 체포 또는 구속의 이유와 변호인의 조력을 받을 권리가 있음을 고지받지 아니하고는 체포 또는 구속을 당하지 아니한다. 체포 또는 구속을 당한 자의 가족등 법률이 정하는 자에게는 그 이유와 일시·장소가 지체없이 통지되어야 한다.\\n⑥누구든지 체포 또는 구속을 당한 때에는 적부의 심사를 법원에 청구할 권리를 가진다.\\n⑦피고인의 자백이 고문·폭행·협박·구속의 부당한 장기화 또는 기망 기타의 방법에 의하여 자의로 진술된 것이 아니라고 인정될 때 또는 정식재판에 있어서 피고인의 자백이 그에게 불리한 유일한 증거일 때에는 이를 유죄의 증거로 삼거나 이를 이유로 처벌할 수 없다.\\n  제13조 ① 모든 국민은 행위시의 법률에 의하여 범죄를 구성하지 아니하는 행위로 소추되지 아니하며, 동일한 범죄에 대하여 거듭 처벌받지 아니한다.\\n②모든 국민은 소급입법에 의하여 참정권의 제한을 받거나 재산권을 박탈당하지 아니한다.\\n③모든 국민은 자기의 행위가 아닌 친족의 행위로 인하여 불이익한 처우를 받지 아니한다.\\n  제14조 모든 국민은 거주·이전의 자유를 가진다.\\n  제15조 모든 국민은 직업선택의 자유를 가진다.\\n  제16조 모든 국민은 주거의 자유를 침해받지 아니한다. 주거에 대한 압수나 수색을 할 때에는 검사의 신청에 의하여 법관이 발부한 영장을 제시하여야 한다.\\n  제17조 모든 국민은 사생활의 비밀과 자유를 침해받지 아니한다.\\n  제18조 모든 국민은 통신의 비밀을 침해받지 아니한다.\\n  제19조 모든 국민은 양심의 자유를 가진다.\\n  제20조 ① 모든 국민은 종교의 자유를 가진다.\\n②국교는 인정되지 아니하며, 종교와 정치는 분리된다.\\n  제21조 ① 모든 국민은 언론·출판의 자유와 집회·결사의 자유를 가진다.\\n②언론·출판에 대한 허가나 검열과 집회·결사에 대한 허가는 인정되지 아니한다.\\n③통신·방송의 시설기준과 신문의 기능을 보장하기 위하여 필요한 사항은 법률로 정한다.\\n④언론·출판은 타인의 명예나 권리 또는 공중도덕이나 사회윤리를 침해하여서는 아니된다. 언론·출판이 타인의 명예나 권리를 침해한 때에는 피해자는 이에 대한 피해의 배상을 청구할 수 있다.\\n  제22조 ① 모든 국민은 학문과 예술의 자유를 가진다.\\n②저작자·발명가·과학기술자와 예술가의 권리는 법률로써 보호한다.\\n  제23조 ① 모든 국민의 재산권은 보장된다. 그 내용과 한계는 법률로 정한다.\\n②재산권의 행사는 공공복리에 적합하도록 하여야 한다.\\n③공공필요에 의한 재산권의 수용·사용 또는 제한 및 그에 대한 보상은 법률로써 하되, 정당한 보상을 지급하여야 한다.\\n  제24조 모든 국민은 법률이 정하는 바에 의하여 선거권을 가진다.\\n  제25조 모든 국민은 법률이 정하는 바에 의하여 공무담임권을 가진다.\\n  제26조 ① 모든 국민은 법률이 정하는 바에 의하여 국가기관에 문서로 청원할 권리를 가진다.\\n②국가는 청원에 대하여 심사할 의무를 진다.\\n  제27조 ① 모든 국민은 헌법과 법률이 정한 법관에 의하여 법률에 의한 재판을 받을 권리를 가진다.\\n②군인 또는 군무원이 아닌 국민은 대한민국의 영역안에서는 중대한 군사상 기밀·초병·초소·유독음식물공급·포로·군용물에 관한 죄중 법률이 정한 경우와 비상계엄이 선포된 경우를 제외하고는 군사법원의 재판을 받지 아니한다.\\n③모든 국민은 신속한 재판을 받을 권리를 가진다. 형사피고인은 상당한 이유가 없는 한 지체없이 공개재판을 받을 권리를 가진다.\\n④형사피고인은 유죄의 판결이 확정될 때까지는 무죄로 추정된다.\\n⑤형사피해자는 법률이 정하는 바에 의하여 당해 사건의 재판절차에서 진술할 수 있다.\\n  제28조 형사피의자 또는 형사피고인으로서 구금되었던 자가 법률이 정하는 불기소처분을 받거나 무죄판결을 받은 때에는 법률이 정하는 바에 의하여 국가에 정당한 보상을 청구할 수 있다.\\n  제29조 ① 공무원의 직무상 불법행위로 손해를 받은 국민은 법률이 정하는 바에 의하여 국가 또는 공공단체에 정당한 배상을 청구할 수 있다. 이 경우 공무원 자신의 책임은 면제되지 아니한다.\\n②군인·군무원·경찰공무원 기타 법률이 정하는 자가 전투·훈련등 직무집행과 관련하여 받은 손해에 대하여는 법률이 정하는 보상외에 국가 또는 공공단체에 공무원의 직무상 불법행위로 인한 배상은 청구할 수 없다.\\n  제30조 타인의 범죄행위로 인하여 생명·신체에 대한 피해를 받은 국민은 법률이 정하는 바에 의하여 국가로부터 구조를 받을 수 있다.\\n  제31조 ① 모든 국민은 능력에 따라 균등하게 교육을 받을 권리를 가진다.\\n②모든 국민은 그 보호하는 자녀에게 적어도 초등교육과 법률이 정하는 교육을 받게 할 의무를 진다.\\n③의무교육은 무상으로 한다.\\n④교육의 자주성·전문성·정치적 중립성 및 대학의 자율성은 법률이 정하는 바에 의하여 보장된다.\\n⑤국가는 평생교육을 진흥하여야 한다.\\n⑥학교교육 및 평생교육을 포함한 교육제도와 그 운영, 교육재정 및 교원의 지위에 관한 기본적인 사항은 법률로 정한다.\\n  제32조 ① 모든 국민은 근로의 권리를 가진다. 국가는 사회적·경제적 방법으로 근로자의 고용의 증진과 적정임금의 보장에 노력하여야 하며, 법률이 정하는 바에 의하여 최저임금제를 시행하여야 한다.\\n②모든 국민은 근로의 의무를 진다. 국가는 근로의 의무의 내용과 조건을 민주주의원칙에 따라 법률로 정한다.\\n③근로조건의 기준은 인간의 존엄성을 보장하도록 법률로 정한다.\\n④여자의 근로는 특별한 보호를 받으며, 고용·임금 및 근로조건에 있어서 부당한 차별을 받지 아니한다.\\n⑤연소자의 근로는 특별한 보호를 받는다.\\n⑥국가유공자·상이군경 및 전몰군경의 유가족은 법률이 정하는 바에 의하여 우선적으로 근로의 기회를 부여받는다.\\n  제33조 ① 근로자는 근로조건의 향상을 위하여 자주적인 단결권·단체교섭권 및 단체행동권을 가진다.\\n②공무원인 근로자는 법률이 정하는 자에 한하여 단결권·단체교섭권 및 단체행동권을 가진다.\\n③법률이 정하는 주요방위산업체에 종사하는 근로자의 단체행동권은 법률이 정하는 바에 의하여 이를 제한하거나 인정하지 아니할 수 있다.\\n  제34조 ① 모든 국민은 인간다운 생활을 할 권리를 가진다.\\n②국가는 사회보장·사회복지의 증진에 노력할 의무를 진다.\\n③국가는 여자의 복지와 권익의 향상을 위하여 노력하여야 한다.\\n④국가는 노인과 청소년의 복지향상을 위한 정책을 실시할 의무를 진다.\\n⑤신체장애자 및 질병·노령 기타의 사유로 생활능력이 없는 국민은 법률이 정하는 바에 의하여 국가의 보호를 받는다.\\n⑥국가는 재해를 예방하고 그 위험으로부터 국민을 보호하기 위하여 노력하여야 한다.\\n  제35조 ① 모든 국민은 건강하고 쾌적한 환경에서 생활할 권리를 가지며, 국가와 국민은 환경보전을 위하여 노력하여야 한다.\\n②환경권의 내용과 행사에 관하여는 법률로 정한다.\\n③국가는 주택개발정책등을 통하여 모든 국민이 쾌적한 주거생활을 할 수 있도록 노력하여야 한다.\\n  제36조 ① 혼인과 가족생활은 개인의 존엄과 양성의 평등을 기초로 성립되고 유지되어야 하며, 국가는 이를 보장한다.\\n②국가는 모성의 보호를 위하여 노력하여야 한다.\\n③모든 국민은 보건에 관하여 국가의 보호를 받는다.\\n  제37조 ① 국민의 자유와 권리는 헌법에 열거되지 아니한 이유로 경시되지 아니한다.\\n②국민의 모든 자유와 권리는 국가안전보장·질서유지 또는 공공복리를 위하여 필요한 경우에 한하여 법률로써 제한할 수 있으며, 제한하는 경우에도 자유와 권리의 본질적인 내용을 침해할 수 없다.\\n  제38조 모든 국민은 법률이 정하는 바에 의하여 납세의 의무를 진다.\\n  제39조 ① 모든 국민은 법률이 정하는 바에 의하여 국방의 의무를 진다.\\n②누구든지 병역의무의 이행으로 인하여 불이익한 처우를 받지 아니한다.\\n\\n       제3장 국회\\n  제40조 입법권은 국회에 속한다.\\n  제41조 ① 국회는 국민의 보통·평등·직접·비밀선거에 의하여 선출된 국회의원으로 구성한다.\\n②국회의원의 수는 법률로 정하되, 200인 이상으로 한다.\\n③국회의원의 선거구와 비례대표제 기타 선거에 관한 사항은 법률로 정한다.\\n  제42조 국회의원의 임기는 4년으로 한다.\\n  제43조 국회의원은 법률이 정하는 직을 겸할 수 없다.\\n  제44조 ① 국회의원은 현행범인인 경우를 제외하고는 회기중 국회의 동의없이 체포 또는 구금되지 아니한다.\\n②국회의원이 회기전에 체포 또는 구금된 때에는 현행범인이 아닌 한 국회의 요구가 있으면 회기중 석방된다.\\n  제45조 국회의원은 국회에서 직무상 행한 발언과 표결에 관하여 국회외에서 책임을 지지 아니한다.\\n  제46조 ① 국회의원은 청렴의 의무가 있다.\\n②국회의원은 국가이익을 우선하여 양심에 따라 직무를 행한다.\\n③국회의원은 그 지위를 남용하여 국가·공공단체 또는 기업체와의 계약이나 그 처분에 의하여 재산상의 권리·이익 또는 직위를 취득하거나 타인을 위하여 그 취득을 알선할 수 없다.\\n  제47조 ① 국회의 정기회는 법률이 정하는 바에 의하여 매년 1회 집회되며, 국회의 임시회는 대통령 또는 국회재적의원 4분의 1 이상의 요구에 의하여 집회된다.\\n②정기회의 회기는 100일을, 임시회의 회기는 30일을 초과할 수 없다.\\n③대통령이 임시회의 집회를 요구할 때에는 기간과 집회요구의 이유를 명시하여야 한다.\\n  제48조 국회는 의장 1인과 부의장 2인을 선출한다.\\n  제49조 국회는 헌법 또는 법률에 특별한 규정이 없는 한 재적의원 과반수의 출석과 출석의원 과반수의 찬성으로 의결한다. 가부동수인 때에는 부결된 것으로 본다.\\n  제50조 ① 국회의 회의는 공개한다. 다만, 출석의원 과반수의 찬성이 있거나 의장이 국가의 안전보장을 위하여 필요하다고 인정할 때에는 공개하지 아니할 수 있다.\\n②공개하지 아니한 회의내용의 공표에 관하여는 법률이 정하는 바에 의한다.\\n  제51조 국회에 제출된 법률안 기타의 의안은 회기중에 의결되지 못한 이유로 폐기되지 아니한다. 다만, 국회의원의 임기가 만료된 때에는 그러하지 아니하다.\\n  제52조 국회의원과 정부는 법률안을 제출할 수 있다.\\n  제53조 ① 국회에서 의결된 법률안은 정부에 이송되어 15일 이내에 대통령이 공포한다.\\n②법률안에 이의가 있을 때에는 대통령은 제1항의 기간내에 이의서를 붙여 국회로 환부하고, 그 재의를 요구할 수 있다. 국회의 폐회중에도 또한 같다.\\n③대통령은 법률안의 일부에 대하여 또는 법률안을 수정하여 재의를 요구할 수 없다.\\n④재의의 요구가 있을 때에는 국회는 재의에 붙이고, 재적의원과반수의 출석과 출석의원 3분의 2 이상의 찬성으로 전과 같은 의결을 하면 그 법률안은 법률로서 확정된다.\\n⑤대통령이 제1항의 기간내에 공포나 재의의 요구를 하지 아니한 때에도 그 법률안은 법률로서 확정된다.\\n⑥대통령은 제4항과 제5항의 규정에 의하여 확정된 법률을 지체없이 공포하여야 한다. 제5항에 의하여 법률이 확정된 후 또는 제4항에 의한 확정법률이 정부에 이송된 후 5일 이내에 대통령이 공포하지 아니할 때에는 국회의장이 이를 공포한다.\\n⑦법률은 특별한 규정이 없는 한 공포한 날로부터 20일을 경과함으로써 효력을 발생한다.\\n  제54조 ① 국회는 국가의 예산안을 심의·확정한다.\\n②정부는 회계연도마다 예산안을 편성하여 회계연도 개시 90일전까지 국회에 제출하고, 국회는 회계연도 개시 30일전까지 이를 의결하여야 한다.\\n③새로운 회계연도가 개시될 때까지 예산안이 의결되지 못한 때에는 정부는 국회에서 예산안이 의결될 때까지 다음의 목적을 위한 경비는 전년도 예산에 준하여 집행할 수 있다.\\n1. 헌법이나 법률에 의하여 설치된 기관 또는 시설의 유지·운영\\n2. 법률상 지출의무의 이행\\n3. 이미 예산으로 승인된 사업의 계속\\n  제55조 ① 한 회계연도를 넘어 계속하여 지출할 필요가 있을 때에는 정부는 연한을 정하여 계속비로서 국회의 의결을 얻어야 한다.\\n②예비비는 총액으로 국회의 의결을 얻어야 한다. 예비비의 지출은 차기국회의 승인을 얻어야 한다.\\n  제56조 정부는 예산에 변경을 가할 필요가 있을 때에는 추가경정예산안을 편성하여 국회에 제출할 수 있다.\\n  제57조 국회는 정부의 동의없이 정부가 제출한 지출예산 각항의 금액을 증가하거나 새 비목을 설치할 수 없다.\\n  제58조 국채를 모집하거나 예산외에 국가의 부담이 될 계약을 체결하려 할 때에는 정부는 미리 국회의 의결을 얻어야 한다.\\n  제59조 조세의 종목과 세율은 법률로 정한다.\\n  제60조 ① 국회는 상호원조 또는 안전보장에 관한 조약, 중요한 국제조직에 관한 조약, 우호통상항해조약, 주권의 제약에 관한 조약, 강화조약, 국가나 국민에게 중대한 재정적 부담을 지우는 조약 또는 입법사항에 관한 조약의 체결·비준에 대한 동의권을 가진다.\\n②국회는 선전포고, 국군의 외국에의 파견 또는 외국군대의 대한민국 영역안에서의 주류에 대한 동의권을 가진다.\\n  제61조 ① 국회는 국정을 감사하거나 특정한 국정사안에 대하여 조사할 수 있으며, 이에 필요한 서류의 제출 또는 증인의 출석과 증언이나 의견의 진술을 요구할 수 있다.\\n②국정감사 및 조사에 관한 절차 기타 필요한 사항은 법률로 정한다.\\n  제62조 ① 국무총리·국무위원 또는 정부위원은 국회나 그 위원회에 출석하여 국정처리상황을 보고하거나 의견을 진술하고 질문에 응답할 수 있다.\\n②국회나 그 위원회의 요구가 있을 때에는 국무총리·국무위원 또는 정부위원은 출석·답변하여야 하며, 국무총리 또는 국무위원이 출석요구를 받은 때에는 국무위원 또는 정부위원으로 하여금 출석·답변하게 할 수 있다.\\n  제63조 ① 국회는 국무총리 또는 국무위원의 해임을 대통령에게 건의할 수 있다.\\n②제1항의 해임건의는 국회재적의원 3분의 1 이상의 발의에 의하여 국회재적의원 과반수의 찬성이 있어야 한다.\\n  제64조 ① 국회는 법률에 저촉되지 아니하는 범위안에서 의사와 내부규율에 관한 규칙을 제정할 수 있다.\\n②국회는 의원의 자격을 심사하며, 의원을 징계할 수 있다.\\n③의원을 제명하려면 국회재적의원 3분의 2 이상의 찬성이 있어야 한다.\\n④제2항과 제3항의 처분에 대하여는 법원에 제소할 수 없다.\\n  제65조 ① 대통령·국무총리·국무위원·행정각부의 장·헌법재판소 재판관·법관·중앙선거관리위원회 위원·감사원장·감사위원 기타 법률이 정한 공무원이 그 직무집행에 있어서 헌법이나 법률을 위배한 때에는 국회는 탄핵의 소추를 의결할 수 있다.\\n②제1항의 탄핵소추는 국회재적의원 3분의 1 이상의 발의가 있어야 하며, 그 의결은 국회재적의원 과반수의 찬성이 있어야 한다. 다만, 대통령에 대한 탄핵소추는 국회재적의원 과반수의 발의와 국회재적의원 3분의 2 이상의 찬성이 있어야 한다.\\n③탄핵소추의 의결을 받은 자는 탄핵심판이 있을 때까지 그 권한행사가 정지된다.\\n④탄핵결정은 공직으로부터 파면함에 그친다. 그러나, 이에 의하여 민사상이나 형사상의 책임이 면제되지는 아니한다.\\n\\n       제4장 정부\\n       제1절 대통령\\n  제66조 ① 대통령은 국가의 원수이며, 외국에 대하여 국가를 대표한다.\\n②대통령은 국가의 독립·영토의 보전·국가의 계속성과 헌법을 수호할 책무를 진다.\\n③대통령은 조국의 평화적 통일을 위한 성실한 의무를 진다.\\n④행정권은 대통령을 수반으로 하는 정부에 속한다.\\n  제67조 ① 대통령은 국민의 보통·평등·직접·비밀선거에 의하여 선출한다.\\n②제1항의 선거에 있어서 최고득표자가 2인 이상인 때에는 국회의 재적의원 과반수가 출석한 공개회의에서 다수표를 얻은 자를 당선자로 한다.\\n③대통령후보자가 1인일 때에는 그 득표수가 선거권자 총수의 3분의 1 이상이 아니면 대통령으로 당선될 수 없다.\\n④대통령으로 선거될 수 있는 자는 국회의원의 피선거권이 있고 선거일 현재 40세에 달하여야 한다.\\n⑤대통령의 선거에 관한 사항은 법률로 정한다.\\n  제68조 ① 대통령의 임기가 만료되는 때에는 임기만료 70일 내지 40일전에 후임자를 선거한다.\\n②대통령이 궐위된 때 또는 대통령 당선자가 사망하거나 판결 기타의 사유로 그 자격을 상실한 때에는 60일 이내에 후임자를 선거한다.\\n  제69조 대통령은 취임에 즈음하여 다음의 선서를 한다.\\n\"나는 헌법을 준수하고 국가를 보위하며 조국의 평화적 통일과 국민의 자유와 복리의 증진 및 민족문화의 창달에 노력하여 대통령으로서의 직책을 성실히 수행할 것을 국민 앞에 엄숙히 선서합니다.\"\\n  제70조 대통령의 임기는 5년으로 하며, 중임할 수 없다.\\n  제71조 대통령이 궐위되거나 사고로 인하여 직무를 수행할 수 없을 때에는 국무총리, 법률이 정한 국무위원의 순서로 그 권한을 대행한다.\\n  제72조 대통령은 필요하다고 인정할 때에는 외교·국방·통일 기타 국가안위에 관한 중요정책을 국민투표에 붙일 수 있다.\\n  제73조 대통령은 조약을 체결·비준하고, 외교사절을 신임·접수 또는 파견하며, 선전포고와 강화를 한다.\\n  제74조 ① 대통령은 헌법과 법률이 정하는 바에 의하여 국군을 통수한다.\\n②국군의 조직과 편성은 법률로 정한다.\\n  제75조 대통령은 법률에서 구체적으로 범위를 정하여 위임받은 사항과 법률을 집행하기 위하여 필요한 사항에 관하여 대통령령을 발할 수 있다.\\n  제76조 ① 대통령은 내우·외환·천재·지변 또는 중대한 재정·경제상의 위기에 있어서 국가의 안전보장 또는 공공의 안녕질서를 유지하기 위하여 긴급한 조치가 필요하고 국회의 집회를 기다릴 여유가 없을 때에 한하여 최소한으로 필요한 재정·경제상의 처분을 하거나 이에 관하여 법률의 효력을 가지는 명령을 발할 수 있다.\\n②대통령은 국가의 안위에 관계되는 중대한 교전상태에 있어서 국가를 보위하기 위하여 긴급한 조치가 필요하고 국회의 집회가 불가능한 때에 한하여 법률의 효력을 가지는 명령을 발할 수 있다.\\n③대통령은 제1항과 제2항의 처분 또는 명령을 한 때에는 지체없이 국회에 보고하여 그 승인을 얻어야 한다.\\n④제3항의 승인을 얻지 못한 때에는 그 처분 또는 명령은 그때부터 효력을 상실한다. 이 경우 그 명령에 의하여 개정 또는 폐지되었던 법률은 그 명령이 승인을 얻지 못한 때부터 당연히 효력을 회복한다.\\n⑤대통령은 제3항과 제4항의 사유를 지체없이 공포하여야 한다.\\n  제77조 ① 대통령은 전시·사변 또는 이에 준하는 국가비상사태에 있어서 병력으로써 군사상의 필요에 응하거나 공공의 안녕질서를 유지할 필요가 있을 때에는 법률이 정하는 바에 의하여 계엄을 선포할 수 있다.\\n②계엄은 비상계엄과 경비계엄으로 한다.\\n③비상계엄이 선포된 때에는 법률이 정하는 바에 의하여 영장제도, 언론·출판·집회·결사의 자유, 정부나 법원의 권한에 관하여 특별한 조치를 할 수 있다.\\n④계엄을 선포한 때에는 대통령은 지체없이 국회에 통고하여야 한다.\\n⑤국회가 재적의원 과반수의 찬성으로 계엄의 해제를 요구한 때에는 대통령은 이를 해제하여야 한다.\\n  제78조 대통령은 헌법과 법률이 정하는 바에 의하여 공무원을 임면한다.\\n  제79조 ① 대통령은 법률이 정하는 바에 의하여 사면·감형 또는 복권을 명할 수 있다.\\n②일반사면을 명하려면 국회의 동의를 얻어야 한다.\\n③사면·감형 및 복권에 관한 사항은 법률로 정한다.\\n  제80조 대통령은 법률이 정하는 바에 의하여 훈장 기타의 영전을 수여한다.\\n  제81조 대통령은 국회에 출석하여 발언하거나 서한으로 의견을 표시할 수 있다.\\n  제82조 대통령의 국법상 행위는 문서로써 하며, 이 문서에는 국무총리와 관계 국무위원이 부서한다. 군사에 관한 것도 또한 같다.\\n  제83조 대통령은 국무총리·국무위원·행정각부의 장 기타 법률이 정하는 공사의 직을 겸할 수 없다.\\n  제84조 대통령은 내란 또는 외환의 죄를 범한 경우를 제외하고는 재직중 형사상의 소추를 받지 아니한다.\\n  제85조 전직대통령의 신분과 예우에 관하여는 법률로 정한다.\\n       제2절 행정부\\n       제1관 국무총리와 국무위원\\n  제86조 ① 국무총리는 국회의 동의를 얻어 대통령이 임명한다.\\n②국무총리는 대통령을 보좌하며, 행정에 관하여 대통령의 명을 받아 행정각부를 통할한다.\\n③군인은 현역을 면한 후가 아니면 국무총리로 임명될 수 없다.\\n  제87조 ① 국무위원은 국무총리의 제청으로 대통령이 임명한다.\\n②국무위원은 국정에 관하여 대통령을 보좌하며, 국무회의의 구성원으로서 국정을 심의한다.\\n③국무총리는 국무위원의 해임을 대통령에게 건의할 수 있다.\\n④군인은 현역을 면한 후가 아니면 국무위원으로 임명될 수 없다.\\n       제2관 국무회의\\n  제88조 ① 국무회의는 정부의 권한에 속하는 중요한 정책을 심의한다.\\n②국무회의는 대통령·국무총리와 15인 이상 30인 이하의 국무위원으로 구성한다.\\n③대통령은 국무회의의 의장이 되고, 국무총리는 부의장이 된다.\\n  제89조 다음 사항은 국무회의의 심의를 거쳐야 한다.\\n1. 국정의 기본계획과 정부의 일반정책\\n2. 선전·강화 기타 중요한 대외정책\\n3. 헌법개정안·국민투표안·조약안·법률안 및 대통령령안\\n4. 예산안·결산·국유재산처분의 기본계획·국가의 부담이 될 계약 기타 재정에 관한 중요사항\\n5. 대통령의 긴급명령·긴급재정경제처분 및 명령 또는 계엄과 그 해제\\n6. 군사에 관한 중요사항\\n7. 국회의 임시회 집회의 요구\\n8. 영전수여\\n9. 사면·감형과 복권\\n10. 행정각부간의 권한의 획정\\n11. 정부안의 권한의 위임 또는 배정에 관한 기본계획\\n12. 국정처리상황의 평가·분석\\n13. 행정각부의 중요한 정책의 수립과 조정\\n14. 정당해산의 제소\\n15. 정부에 제출 또는 회부된 정부의 정책에 관계되는 청원의 심사\\n16. 검찰총장·합동참모의장·각군참모총장·국립대학교총장·대사 기타 법률이 정한 공무원과 국영기업체관리자의 임명\\n17. 기타 대통령·국무총리 또는 국무위원이 제출한 사항\\n  제90조 ① 국정의 중요한 사항에 관한 대통령의 자문에 응하기 위하여 국가원로로 구성되는 국가원로자문회의를 둘 수 있다.\\n②국가원로자문회의의 의장은 직전대통령이 된다. 다만, 직전대통령이 없을 때에는 대통령이 지명한다.\\n③국가원로자문회의의 조직·직무범위 기타 필요한 사항은 법률로 정한다.\\n  제91조 ① 국가안전보장에 관련되는 대외정책·군사정책과 국내정책의 수립에 관하여 국무회의의 심의에 앞서 대통령의 자문에 응하기 위하여 국가안전보장회의를 둔다.\\n②국가안전보장회의는 대통령이 주재한다.\\n③국가안전보장회의의 조직·직무범위 기타 필요한 사항은 법률로 정한다.\\n  제92조 ① 평화통일정책의 수립에 관한 대통령의 자문에 응하기 위하여 민주평화통일자문회의를 둘 수 있다.\\n②민주평화통일자문회의의 조직·직무범위 기타 필요한 사항은 법률로 정한다.\\n  제93조 ① 국민경제의 발전을 위한 중요정책의 수립에 관하여 대통령의 자문에 응하기 위하여 국민경제자문회의를 둘 수 있다.\\n②국민경제자문회의의 조직·직무범위 기타 필요한 사항은 법률로 정한다.\\n       제3관 행정각부\\n  제94조 행정각부의 장은 국무위원 중에서 국무총리의 제청으로 대통령이 임명한다.\\n  제95조 국무총리 또는 행정각부의 장은 소관사무에 관하여 법률이나 대통령령의 위임 또는 직권으로 총리령 또는 부령을 발할 수 있다.\\n  제96조 행정각부의 설치·조직과 직무범위는 법률로 정한다.\\n       제4관 감사원\\n  제97조 국가의 세입·세출의 결산, 국가 및 법률이 정한 단체의 회계검사와 행정기관 및 공무원의 직무에 관한 감찰을 하기 위하여 대통령 소속하에 감사원을 둔다.\\n  제98조 ① 감사원은 원장을 포함한 5인 이상 11인 이하의 감사위원으로 구성한다.\\n②원장은 국회의 동의를 얻어 대통령이 임명하고, 그 임기는 4년으로 하며, 1차에 한하여 중임할 수 있다.\\n③감사위원은 원장의 제청으로 대통령이 임명하고, 그 임기는 4년으로 하며, 1차에 한하여 중임할 수 있다.\\n  제99조 감사원은 세입·세출의 결산을 매년 검사하여 대통령과 차년도국회에 그 결과를 보고하여야 한다.\\n  제100조 감사원의 조직·직무범위·감사위원의 자격·감사대상공무원의 범위 기타 필요한 사항은 법률로 정한다.\\n\\n       제5장 법원\\n  제101조 ① 사법권은 법관으로 구성된 법원에 속한다.\\n②법원은 최고법원인 대법원과 각급법원으로 조직된다.\\n③법관의 자격은 법률로 정한다.\\n  제102조 ① 대법원에 부를 둘 수 있다.\\n②대법원에 대법관을 둔다. 다만, 법률이 정하는 바에 의하여 대법관이 아닌 법관을 둘 수 있다.\\n③대법원과 각급법원의 조직은 법률로 정한다.\\n  제103조 법관은 헌법과 법률에 의하여 그 양심에 따라 독립하여 심판한다.\\n  제104조 ① 대법원장은 국회의 동의를 얻어 대통령이 임명한다.\\n②대법관은 대법원장의 제청으로 국회의 동의를 얻어 대통령이 임명한다.\\n③대법원장과 대법관이 아닌 법관은 대법관회의의 동의를 얻어 대법원장이 임명한다.\\n  제105조 ① 대법원장의 임기는 6년으로 하며, 중임할 수 없다.\\n②대법관의 임기는 6년으로 하며, 법률이 정하는 바에 의하여 연임할 수 있다.\\n③대법원장과 대법관이 아닌 법관의 임기는 10년으로 하며, 법률이 정하는 바에 의하여 연임할 수 있다.\\n④법관의 정년은 법률로 정한다.\\n  제106조 ① 법관은 탄핵 또는 금고 이상의 형의 선고에 의하지 아니하고는 파면되지 아니하며, 징계처분에 의하지 아니하고는 정직·감봉 기타 불리한 처분을 받지 아니한다.\\n②법관이 중대한 심신상의 장해로 직무를 수행할 수 없을 때에는 법률이 정하는 바에 의하여 퇴직하게 할 수 있다.\\n  제107조 ① 법률이 헌법에 위반되는 여부가 재판의 전제가 된 경우에는 법원은 헌법재판소에 제청하여 그 심판에 의하여 재판한다.\\n②명령·규칙 또는 처분이 헌법이나 법률에 위반되는 여부가 재판의 전제가 된 경우에는 대법원은 이를 최종적으로 심사할 권한을 가진다.\\n③재판의 전심절차로서 행정심판을 할 수 있다. 행정심판의 절차는 법률로 정하되, 사법절차가 준용되어야 한다.\\n  제108조 대법원은 법률에 저촉되지 아니하는 범위안에서 소송에 관한 절차, 법원의 내부규율과 사무처리에 관한 규칙을 제정할 수 있다.\\n  제109조 재판의 심리와 판결은 공개한다. 다만, 심리는 국가의 안전보장 또는 안녕질서를 방해하거나 선량한 풍속을 해할 염려가 있을 때에는 법원의 결정으로 공개하지 아니할 수 있다.\\n  제110조 ① 군사재판을 관할하기 위하여 특별법원으로서 군사법원을 둘 수 있다.\\n②군사법원의 상고심은 대법원에서 관할한다.\\n③군사법원의 조직·권한 및 재판관의 자격은 법률로 정한다.\\n④비상계엄하의 군사재판은 군인·군무원의 범죄나 군사에 관한 간첩죄의 경우와 초병·초소·유독음식물공급·포로에 관한 죄중 법률이 정한 경우에 한하여 단심으로 할 수 있다. 다만, 사형을 선고한 경우에는 그러하지 아니하다.\\n\\n       제6장 헌법재판소\\n  제111조 ① 헌법재판소는 다음 사항을 관장한다.\\n1. 법원의 제청에 의한 법률의 위헌여부 심판\\n2. 탄핵의 심판\\n3. 정당의 해산 심판\\n4. 국가기관 상호간, 국가기관과 지방자치단체간 및 지방자치단체 상호간의 권한쟁의에 관한 심판\\n5. 법률이 정하는 헌법소원에 관한 심판\\n②헌법재판소는 법관의 자격을 가진 9인의 재판관으로 구성하며, 재판관은 대통령이 임명한다.\\n③제2항의 재판관중 3인은 국회에서 선출하는 자를, 3인은 대법원장이 지명하는 자를 임명한다.\\n④헌법재판소의 장은 국회의 동의를 얻어 재판관중에서 대통령이 임명한다.\\n  제112조 ① 헌법재판소 재판관의 임기는 6년으로 하며, 법률이 정하는 바에 의하여 연임할 수 있다.\\n②헌법재판소 재판관은 정당에 가입하거나 정치에 관여할 수 없다.\\n③헌법재판소 재판관은 탄핵 또는 금고 이상의 형의 선고에 의하지 아니하고는 파면되지 아니한다.\\n  제113조 ① 헌법재판소에서 법률의 위헌결정, 탄핵의 결정, 정당해산의 결정 또는 헌법소원에 관한 인용결정을 할 때에는 재판관 6인 이상의 찬성이 있어야 한다.\\n②헌법재판소는 법률에 저촉되지 아니하는 범위안에서 심판에 관한 절차, 내부규율과 사무처리에 관한 규칙을 제정할 수 있다.\\n③헌법재판소의 조직과 운영 기타 필요한 사항은 법률로 정한다.\\n\\n       제7장 선거관리\\n  제114조 ① 선거와 국민투표의 공정한 관리 및 정당에 관한 사무를 처리하기 위하여 선거관리위원회를 둔다.\\n②중앙선거관리위원회는 대통령이 임명하는 3인, 국회에서 선출하는 3인과 대법원장이 지명하는 3인의 위원으로 구성한다. 위원장은 위원중에서 호선한다.\\n③위원의 임기는 6년으로 한다.\\n④위원은 정당에 가입하거나 정치에 관여할 수 없다.\\n⑤위원은 탄핵 또는 금고 이상의 형의 선고에 의하지 아니하고는 파면되지 아니한다.\\n⑥중앙선거관리위원회는 법령의 범위안에서 선거관리·국민투표관리 또는 정당사무에 관한 규칙을 제정할 수 있으며, 법률에 저촉되지 아니하는 범위안에서 내부규율에 관한 규칙을 제정할 수 있다.\\n⑦각급 선거관리위원회의 조직·직무범위 기타 필요한 사항은 법률로 정한다.\\n  제115조 ① 각급 선거관리위원회는 선거인명부의 작성등 선거사무와 국민투표사무에 관하여 관계 행정기관에 필요한 지시를 할 수 있다.\\n②제1항의 지시를 받은 당해 행정기관은 이에 응하여야 한다.\\n  제116조 ① 선거운동은 각급 선거관리위원회의 관리하에 법률이 정하는 범위안에서 하되, 균등한 기회가 보장되어야 한다.\\n②선거에 관한 경비는 법률이 정하는 경우를 제외하고는 정당 또는 후보자에게 부담시킬 수 없다.\\n\\n       제8장 지방자치\\n  제117조 ① 지방자치단체는 주민의 복리에 관한 사무를 처리하고 재산을 관리하며, 법령의 범위안에서 자치에 관한 규정을 제정할 수 있다.\\n②지방자치단체의 종류는 법률로 정한다.\\n  제118조 ① 지방자치단체에 의회를 둔다.\\n②지방의회의 조직·권한·의원선거와 지방자치단체의 장의 선임방법 기타 지방자치단체의 조직과 운영에 관한 사항은 법률로 정한다.\\n\\n       제9장 경제\\n  제119조 ① 대한민국의 경제질서는 개인과 기업의 경제상의 자유와 창의를 존중함을 기본으로 한다.\\n②국가는 균형있는 국민경제의 성장 및 안정과 적정한 소득의 분배를 유지하고, 시장의 지배와 경제력의 남용을 방지하며, 경제주체간의 조화를 통한 경제의 민주화를 위하여 경제에 관한 규제와 조정을 할 수 있다.\\n  제120조 ① 광물 기타 중요한 지하자원·수산자원·수력과 경제상 이용할 수 있는 자연력은 법률이 정하는 바에 의하여 일정한 기간 그 채취·개발 또는 이용을 특허할 수 있다.\\n②국토와 자원은 국가의 보호를 받으며, 국가는 그 균형있는 개발과 이용을 위하여 필요한 계획을 수립한다.\\n  제121조 ① 국가는 농지에 관하여 경자유전의 원칙이 달성될 수 있도록 노력하여야 하며, 농지의 소작제도는 금지된다.\\n②농업생산성의 제고와 농지의 합리적인 이용을 위하거나 불가피한 사정으로 발생하는 농지의 임대차와 위탁경영은 법률이 정하는 바에 의하여 인정된다.\\n  제122조 국가는 국민 모두의 생산 및 생활의 기반이 되는 국토의 효율적이고 균형있는 이용·개발과 보전을 위하여 법률이 정하는 바에 의하여 그에 관한 필요한 제한과 의무를 과할 수 있다.\\n  제123조 ① 국가는 농업 및 어업을 보호·육성하기 위하여 농·어촌종합개발과 그 지원등 필요한 계획을 수립·시행하여야 한다.\\n②국가는 지역간의 균형있는 발전을 위하여 지역경제를 육성할 의무를 진다.\\n③국가는 중소기업을 보호·육성하여야 한다.\\n④국가는 농수산물의 수급균형과 유통구조의 개선에 노력하여 가격안정을 도모함으로써 농·어민의 이익을 보호한다.\\n⑤국가는 농·어민과 중소기업의 자조조직을 육성하여야 하며, 그 자율적 활동과 발전을 보장한다.\\n  제124조 국가는 건전한 소비행위를 계도하고 생산품의 품질향상을 촉구하기 위한 소비자보호운동을 법률이 정하는 바에 의하여 보장한다.\\n  제125조 국가는 대외무역을 육성하며, 이를 규제·조정할 수 있다.\\n  제126조 국방상 또는 국민경제상 긴절한 필요로 인하여 법률이 정하는 경우를 제외하고는, 사영기업을 국유 또는 공유로 이전하거나 그 경영을 통제 또는 관리할 수 없다.\\n  제127조 ① 국가는 과학기술의 혁신과 정보 및 인력의 개발을 통하여 국민경제의 발전에 노력하여야 한다.\\n②국가는 국가표준제도를 확립한다.\\n③대통령은 제1항의 목적을 달성하기 위하여 필요한 자문기구를 둘 수 있다.\\n       제10장 헌법개정\\n  제128조 ① 헌법개정은 국회재적의원 과반수 또는 대통령의 발의로 제안된다.\\n②대통령의 임기연장 또는 중임변경을 위한 헌법개정은 그 헌법개정 제안 당시의 대통령에 대하여는 효력이 없다.\\n  제129조 제안된 헌법개정안은 대통령이 20일 이상의 기간 이를 공고하여야 한다.\\n  제130조 ① 국회는 헌법개정안이 공고된 날로부터 60일 이내에 의결하여야 하며, 국회의 의결은 재적의원 3분의 2 이상의 찬성을 얻어야 한다.\\n②헌법개정안은 국회가 의결한 후 30일 이내에 국민투표에 붙여 국회의원선거권자 과반수의 투표와 투표자 과반수의 찬성을 얻어야 한다.\\n③헌법개정안이 제2항의 찬성을 얻은 때에는 헌법개정은 확정되며, 대통령은 즉시 이를 공포하여야 한다.\\n\\n 펼침  부칙 <헌법 제10호, 1987.10.29.>  부칙보기\\n\\n제1조 이 헌법은 1988년 2월 25일부터 시행한다. 다만, 이 헌법을 시행하기 위하여 필요한 법률의 제정·개정과 이 헌법에 의한 대통령 및 국회의원의 선거 기타 이 헌법시행에 관한 준비는 이 헌법시행 전에 할 수 있다.\\n제2조 ①이 헌법에 의한 최초의 대통령선거는 이 헌법시행일 40일 전까지 실시한다.\\n②이 헌법에 의한 최초의 대통령의 임기는 이 헌법시행일로부터 개시한다.\\n제3조 ①이 헌법에 의한 최초의 국회의원선거는 이 헌법공포일로부터 6월 이내에 실시하며, 이 헌법에 의하여 선출된 최초의 국회의원의 임기는 국회의원선거후 이 헌법에 의한 국회의 최초의 집회일로부터 개시한다.\\n②이 헌법공포 당시의 국회의원의 임기는 제1항에 의한 국회의 최초의 집회일 전일까지로 한다.\\n제4조 ①이 헌법시행 당시의 공무원과 정부가 임명한 기업체의 임원은 이 헌법에 의하여 임명된 것으로 본다. 다만, 이 헌법에 의하여 선임방법이나 임명권자가 변경된 공무원과 대법원장 및 감사원장은 이 헌법에 의하여 후임자가 선임될 때까지 그 직무를 행하며, 이 경우 전임자인 공무원의 임기는 후임자가 선임되는 전일까지로 한다.\\n②이 헌법시행 당시의 대법원장과 대법원판사가 아닌 법관은 제1항 단서의 규정에 불구하고 이 헌법에 의하여 임명된 것으로 본다.\\n③이 헌법중 공무원의 임기 또는 중임제한에 관한 규정은 이 헌법에 의하여 그 공무원이 최초로 선출 또는 임명된 때로부터 적용한다.\\n제5조 이 헌법시행 당시의 법령과 조약은 이 헌법에 위배되지 아니하는 한 그 효력을 지속한다.\\n제6조 이 헌법시행 당시에 이 헌법에 의하여 새로 설치될 기관의 권한에 속하는 직무를 행하고 있는 기관은 이 헌법에 의하여 새로운 기관이 설치될 때까지 존속하며 그 직무를 행한다.\\n'"
      ]
     },
     "execution_count": 13,
     "metadata": {},
     "output_type": "execute_result"
    }
   ],
   "source": [
    "ko"
   ]
  },
  {
   "cell_type": "code",
   "execution_count": 14,
   "metadata": {
    "collapsed": true
   },
   "outputs": [],
   "source": [
    "from konlpy.tag import Twitter"
   ]
  },
  {
   "cell_type": "code",
   "execution_count": 15,
   "metadata": {
    "collapsed": true
   },
   "outputs": [],
   "source": [
    "tw = Twitter()"
   ]
  },
  {
   "cell_type": "code",
   "execution_count": 18,
   "metadata": {},
   "outputs": [],
   "source": [
    "# 트위터 형태소 분석 후 명사만 추출\n",
    "ko_nouns = tw.nouns(ko)"
   ]
  },
  {
   "cell_type": "code",
   "execution_count": 17,
   "metadata": {},
   "outputs": [
    {
     "data": {
      "text/plain": [
       "['대한민국',\n",
       " '헌법',\n",
       " '유구',\n",
       " '역사',\n",
       " '전통',\n",
       " '우리',\n",
       " '대한',\n",
       " '국민',\n",
       " '운동',\n",
       " '건립',\n",
       " '대한민국',\n",
       " '임시정부',\n",
       " '법',\n",
       " '통과',\n",
       " '불의',\n",
       " '항거',\n",
       " '민주',\n",
       " '이념',\n",
       " '계승',\n",
       " '조국',\n",
       " '민주',\n",
       " '개혁',\n",
       " '평화',\n",
       " '통일',\n",
       " '사명',\n",
       " '입',\n",
       " '각하',\n",
       " '정의',\n",
       " '인도',\n",
       " '동포',\n",
       " '애',\n",
       " '로써',\n",
       " '민족',\n",
       " '단결',\n",
       " '공고',\n",
       " '모든',\n",
       " '사회',\n",
       " '폐습',\n",
       " '불의',\n",
       " '타파',\n",
       " '자율',\n",
       " '조화',\n",
       " '바탕',\n",
       " '자유민주',\n",
       " '기본',\n",
       " '질서',\n",
       " '더욱',\n",
       " '확고',\n",
       " '정치',\n",
       " '경제',\n",
       " '사회',\n",
       " '문화',\n",
       " '모든',\n",
       " '영역',\n",
       " '각인',\n",
       " '기회',\n",
       " '균등',\n",
       " '능력',\n",
       " '최고',\n",
       " '도로',\n",
       " '자유',\n",
       " '권리',\n",
       " '책임',\n",
       " '의무',\n",
       " '완수',\n",
       " '안',\n",
       " '국민',\n",
       " '생활',\n",
       " '균등',\n",
       " '향상',\n",
       " '기하',\n",
       " '밖',\n",
       " '항구',\n",
       " '세계',\n",
       " '평화',\n",
       " '인류',\n",
       " '공영',\n",
       " '이바지',\n",
       " '함',\n",
       " '우리',\n",
       " '우리',\n",
       " '자손',\n",
       " '안전',\n",
       " '자유',\n",
       " '행복',\n",
       " '확보',\n",
       " '것',\n",
       " '년',\n",
       " '월',\n",
       " '일',\n",
       " '제정',\n",
       " '차',\n",
       " '개정',\n",
       " '헌법',\n",
       " '이제',\n",
       " '국회',\n",
       " '의결',\n",
       " '국민투표',\n",
       " '개정',\n",
       " '제',\n",
       " '장',\n",
       " '총강',\n",
       " '제',\n",
       " '조',\n",
       " '대한민국',\n",
       " '민주공화국',\n",
       " '대한민국',\n",
       " '주권',\n",
       " '국민',\n",
       " '모든',\n",
       " '권력',\n",
       " '국민',\n",
       " '제',\n",
       " '조',\n",
       " '대한민국',\n",
       " '국민',\n",
       " '요건',\n",
       " '법률',\n",
       " '국가',\n",
       " '법률',\n",
       " '바',\n",
       " '재외국민',\n",
       " '의무',\n",
       " '진',\n",
       " '제',\n",
       " '조',\n",
       " '대한민국',\n",
       " '영토',\n",
       " '한반도',\n",
       " '그',\n",
       " '부속',\n",
       " '도서',\n",
       " '제',\n",
       " '조',\n",
       " '대한민국',\n",
       " '통일',\n",
       " '지향',\n",
       " '자유민주',\n",
       " '기본',\n",
       " '질서',\n",
       " '입각',\n",
       " '평화',\n",
       " '통일',\n",
       " '정책',\n",
       " '수립',\n",
       " '제',\n",
       " '조',\n",
       " '대한민국',\n",
       " '국제',\n",
       " '평화',\n",
       " '유지',\n",
       " '침략',\n",
       " '전쟁',\n",
       " '부인',\n",
       " '국군',\n",
       " '국가',\n",
       " '안전보장',\n",
       " '국토',\n",
       " '방위',\n",
       " '신성',\n",
       " '의무',\n",
       " '사명',\n",
       " '그',\n",
       " '정치',\n",
       " '중립성',\n",
       " '준수',\n",
       " '제',\n",
       " '조',\n",
       " '헌법',\n",
       " '체결',\n",
       " '공포',\n",
       " '조약',\n",
       " '일반',\n",
       " '승인',\n",
       " '국제',\n",
       " '법규',\n",
       " '국내법',\n",
       " '효력',\n",
       " '외국인',\n",
       " '국제',\n",
       " '법',\n",
       " '조약',\n",
       " '바',\n",
       " '그',\n",
       " '지위',\n",
       " '제',\n",
       " '조',\n",
       " '공무원',\n",
       " '국민',\n",
       " '전체',\n",
       " '대한',\n",
       " '봉사자',\n",
       " '국민',\n",
       " '책임',\n",
       " '진',\n",
       " '공무원',\n",
       " '신분',\n",
       " '정치',\n",
       " '중립성',\n",
       " '법률',\n",
       " '바',\n",
       " '제',\n",
       " '조',\n",
       " '정당',\n",
       " '설립',\n",
       " '자유',\n",
       " '복수정당제',\n",
       " '정당',\n",
       " '그',\n",
       " '목적',\n",
       " '조직',\n",
       " '활동',\n",
       " '민주',\n",
       " '국민',\n",
       " '정치',\n",
       " '의사',\n",
       " '형성',\n",
       " '조직',\n",
       " '정당',\n",
       " '법률',\n",
       " '바',\n",
       " '국가',\n",
       " '보호',\n",
       " '국가',\n",
       " '법률',\n",
       " '바',\n",
       " '정당',\n",
       " '운영',\n",
       " '자금',\n",
       " '보조',\n",
       " '수',\n",
       " '정당',\n",
       " '목적',\n",
       " '활동',\n",
       " '민주',\n",
       " '기본',\n",
       " '질서',\n",
       " '위배',\n",
       " '때',\n",
       " '정부',\n",
       " '헌법재판소',\n",
       " '그',\n",
       " '해산',\n",
       " '제소',\n",
       " '수',\n",
       " '정당',\n",
       " '헌법재판소',\n",
       " '심판',\n",
       " '해산',\n",
       " '제',\n",
       " '조',\n",
       " '국가',\n",
       " '전통문화',\n",
       " '계승',\n",
       " '발전',\n",
       " '민족',\n",
       " '문화',\n",
       " '창달',\n",
       " '제',\n",
       " '장',\n",
       " '국민',\n",
       " '권리',\n",
       " '의무',\n",
       " '제',\n",
       " '조',\n",
       " '모든',\n",
       " '국민',\n",
       " '인간',\n",
       " '존엄',\n",
       " '가치',\n",
       " '가지',\n",
       " '행복',\n",
       " '추구',\n",
       " '권리',\n",
       " '국가',\n",
       " '개인',\n",
       " '불가침',\n",
       " '기본',\n",
       " '인권',\n",
       " '의무',\n",
       " '진',\n",
       " '제',\n",
       " '조',\n",
       " '모든',\n",
       " '국민',\n",
       " '법',\n",
       " '앞',\n",
       " '평등',\n",
       " '누구',\n",
       " '성별',\n",
       " '종교',\n",
       " '사회',\n",
       " '신분',\n",
       " '정치',\n",
       " '경제',\n",
       " '사회',\n",
       " '문화',\n",
       " '생활',\n",
       " '모든',\n",
       " '영역',\n",
       " '차별',\n",
       " '사회',\n",
       " '특수',\n",
       " '계급',\n",
       " '제도',\n",
       " '형태',\n",
       " '도',\n",
       " '창설',\n",
       " '수',\n",
       " '훈장',\n",
       " '등',\n",
       " '영전',\n",
       " '자',\n",
       " '효력',\n",
       " '특권',\n",
       " '이',\n",
       " '제',\n",
       " '조',\n",
       " '모든',\n",
       " '국민',\n",
       " '신체',\n",
       " '자유',\n",
       " '누구',\n",
       " '법률',\n",
       " '체포',\n",
       " '구속',\n",
       " '압수',\n",
       " '수색',\n",
       " '심문',\n",
       " '법률',\n",
       " '적법',\n",
       " '절차',\n",
       " '처벌',\n",
       " '보안처분',\n",
       " '강제',\n",
       " '노역',\n",
       " '모든',\n",
       " '국민',\n",
       " '고문',\n",
       " '형사',\n",
       " '자기',\n",
       " '진술',\n",
       " '강요',\n",
       " '체포',\n",
       " '구속',\n",
       " '압수',\n",
       " '수색',\n",
       " '때',\n",
       " '적법',\n",
       " '절차',\n",
       " '검사',\n",
       " '신청',\n",
       " '법관',\n",
       " '발부',\n",
       " '영장',\n",
       " '다만',\n",
       " '현행범인',\n",
       " '경우',\n",
       " '장기',\n",
       " '년',\n",
       " '이상',\n",
       " '형',\n",
       " '죄',\n",
       " '범',\n",
       " '도피',\n",
       " '증거',\n",
       " '멸',\n",
       " '염려',\n",
       " '때',\n",
       " '사후',\n",
       " '영장',\n",
       " '청구',\n",
       " '수',\n",
       " '누구',\n",
       " '체포',\n",
       " '구속',\n",
       " '당한',\n",
       " '때',\n",
       " '즉시',\n",
       " '변호인',\n",
       " '조력',\n",
       " '권리',\n",
       " '다만',\n",
       " '형사',\n",
       " '피고인',\n",
       " '스스로',\n",
       " '변호인',\n",
       " '수',\n",
       " '때',\n",
       " '법률',\n",
       " '바',\n",
       " '국가',\n",
       " '변호인',\n",
       " '누구',\n",
       " '체포',\n",
       " '구속',\n",
       " '이유',\n",
       " '변호인',\n",
       " '조력',\n",
       " '권리',\n",
       " '음',\n",
       " '고지',\n",
       " '체포',\n",
       " '구속',\n",
       " '체포',\n",
       " '구속',\n",
       " '당한',\n",
       " '자의',\n",
       " '가족',\n",
       " '등',\n",
       " '법률',\n",
       " '자',\n",
       " '그',\n",
       " '이유',\n",
       " '일시',\n",
       " '장소',\n",
       " '지체',\n",
       " '통지',\n",
       " '누구',\n",
       " '체포',\n",
       " '구속',\n",
       " '당한',\n",
       " '때',\n",
       " '적',\n",
       " '부의',\n",
       " '심사',\n",
       " '법원',\n",
       " '청구',\n",
       " '권리',\n",
       " '피고인',\n",
       " '자백',\n",
       " '고문',\n",
       " '폭행',\n",
       " '협박',\n",
       " '구속',\n",
       " '부당',\n",
       " '장기',\n",
       " '기망',\n",
       " '기타',\n",
       " '방법',\n",
       " '자의',\n",
       " '진술',\n",
       " '것',\n",
       " '때',\n",
       " '정식',\n",
       " '재판',\n",
       " '피고인',\n",
       " '자백',\n",
       " '그',\n",
       " '유일',\n",
       " '증거',\n",
       " '일',\n",
       " '때',\n",
       " '유죄',\n",
       " '증거',\n",
       " '이유',\n",
       " '처벌',\n",
       " '수',\n",
       " '제',\n",
       " '조',\n",
       " '모든',\n",
       " '국민',\n",
       " '행위',\n",
       " '시',\n",
       " '법률',\n",
       " '범죄',\n",
       " '행위',\n",
       " '소추',\n",
       " '범죄',\n",
       " '거듭',\n",
       " '처벌',\n",
       " '모든',\n",
       " '국민',\n",
       " '소급입법',\n",
       " '참정권',\n",
       " '제한',\n",
       " '재산권',\n",
       " '박탈',\n",
       " '모든',\n",
       " '국민',\n",
       " '자기',\n",
       " '행위',\n",
       " '친족',\n",
       " '행위',\n",
       " '불이익',\n",
       " '처우',\n",
       " '제',\n",
       " '조',\n",
       " '모든',\n",
       " '국민',\n",
       " '거주',\n",
       " '이전',\n",
       " '자유',\n",
       " '제',\n",
       " '조',\n",
       " '모든',\n",
       " '국민',\n",
       " '직업',\n",
       " '선택',\n",
       " '자유',\n",
       " '제',\n",
       " '조',\n",
       " '모든',\n",
       " '국민',\n",
       " '주거',\n",
       " '자유',\n",
       " '침해',\n",
       " '주거',\n",
       " '대한',\n",
       " '압수',\n",
       " '수색',\n",
       " '때',\n",
       " '검사',\n",
       " '신청',\n",
       " '법관',\n",
       " '발부',\n",
       " '영장',\n",
       " '제',\n",
       " '조',\n",
       " '모든',\n",
       " '국민',\n",
       " '사생활',\n",
       " '비밀',\n",
       " '자유',\n",
       " '침해',\n",
       " '제',\n",
       " '조',\n",
       " '모든',\n",
       " '국민',\n",
       " '통신',\n",
       " '비밀',\n",
       " '침해',\n",
       " '제',\n",
       " '조',\n",
       " '모든',\n",
       " '국민',\n",
       " '양심',\n",
       " '자유',\n",
       " '제',\n",
       " '조',\n",
       " '모든',\n",
       " '국민',\n",
       " '종교',\n",
       " '자유',\n",
       " '국교',\n",
       " '종교',\n",
       " '정치',\n",
       " '제',\n",
       " '조',\n",
       " '모든',\n",
       " '국민',\n",
       " '언론',\n",
       " '출판',\n",
       " '자유',\n",
       " '집회',\n",
       " '결사',\n",
       " '자유',\n",
       " '언론',\n",
       " '출판',\n",
       " '대한',\n",
       " '허가',\n",
       " '검열',\n",
       " '집회',\n",
       " '결사',\n",
       " '대한',\n",
       " '허가',\n",
       " '통신',\n",
       " '방송',\n",
       " '시설',\n",
       " '기준',\n",
       " '신문',\n",
       " '기능',\n",
       " '사항',\n",
       " '법률',\n",
       " '언론',\n",
       " '출판',\n",
       " '타인',\n",
       " '명예',\n",
       " '권리',\n",
       " '공중도덕',\n",
       " '사회',\n",
       " '윤리',\n",
       " '침해',\n",
       " '언론',\n",
       " '출판',\n",
       " '타인',\n",
       " '명예',\n",
       " '권리',\n",
       " '침해',\n",
       " '때',\n",
       " '피해자',\n",
       " '이',\n",
       " '대한',\n",
       " '피해',\n",
       " '배상',\n",
       " '청구',\n",
       " '수',\n",
       " '제',\n",
       " '조',\n",
       " '모든',\n",
       " '국민',\n",
       " '학문',\n",
       " '예술',\n",
       " '자유',\n",
       " '저작자',\n",
       " '발명가',\n",
       " '과학기술',\n",
       " '예술가',\n",
       " '권리',\n",
       " '법률',\n",
       " '로써',\n",
       " '제',\n",
       " '조',\n",
       " '모든',\n",
       " '국민',\n",
       " '재산권',\n",
       " '그',\n",
       " '내용',\n",
       " '한계',\n",
       " '법률',\n",
       " '재산권',\n",
       " '행사',\n",
       " '공공',\n",
       " '복리',\n",
       " '공공필요',\n",
       " '재산권',\n",
       " '수용',\n",
       " '사용',\n",
       " '제한',\n",
       " '및',\n",
       " '그',\n",
       " '대한',\n",
       " '보상',\n",
       " '법률',\n",
       " '로써',\n",
       " '하되',\n",
       " '정당',\n",
       " '보상',\n",
       " '제',\n",
       " '조',\n",
       " '모든',\n",
       " '국민',\n",
       " '법률',\n",
       " '바',\n",
       " '선거권',\n",
       " '제',\n",
       " '조',\n",
       " '모든',\n",
       " '국민',\n",
       " '법률',\n",
       " '바',\n",
       " '공무',\n",
       " '담임',\n",
       " '제',\n",
       " '조',\n",
       " '모든',\n",
       " '국민',\n",
       " '법률',\n",
       " '바',\n",
       " '국가',\n",
       " '기관',\n",
       " '문서',\n",
       " '청원',\n",
       " '권리',\n",
       " '국가',\n",
       " '청원',\n",
       " '심사',\n",
       " '의무',\n",
       " '진',\n",
       " '제',\n",
       " '조',\n",
       " '모든',\n",
       " '국민',\n",
       " '헌법',\n",
       " '법률',\n",
       " '법관',\n",
       " '법률',\n",
       " '재판',\n",
       " '권리',\n",
       " '군인',\n",
       " '군무원',\n",
       " '국민',\n",
       " '대한민국',\n",
       " '영역',\n",
       " '안',\n",
       " '군사',\n",
       " '기밀',\n",
       " '초병',\n",
       " '초소',\n",
       " '유독',\n",
       " '음식물',\n",
       " '공급',\n",
       " '포로',\n",
       " '군용',\n",
       " '물',\n",
       " '죄',\n",
       " '법률',\n",
       " '경우',\n",
       " '비상계엄',\n",
       " '선포',\n",
       " '경우',\n",
       " '제외',\n",
       " '군사법원',\n",
       " '재판',\n",
       " '모든',\n",
       " '국민',\n",
       " '재판',\n",
       " '권리',\n",
       " '형사',\n",
       " '피고인',\n",
       " '이유',\n",
       " '지체',\n",
       " '공개',\n",
       " '재판',\n",
       " '권리',\n",
       " '형사',\n",
       " '피고인',\n",
       " '유죄',\n",
       " '판결',\n",
       " '확정',\n",
       " '때',\n",
       " '무죄',\n",
       " '추정',\n",
       " '형사',\n",
       " '피해자',\n",
       " '법률',\n",
       " '바',\n",
       " '사건',\n",
       " '재판',\n",
       " '절차',\n",
       " '진술',\n",
       " '수',\n",
       " '제',\n",
       " '조',\n",
       " '형사',\n",
       " '피의자',\n",
       " '형사',\n",
       " '피고인',\n",
       " '구금',\n",
       " '자가',\n",
       " '법률',\n",
       " '불기소처분',\n",
       " '무죄판결',\n",
       " '때',\n",
       " '법률',\n",
       " '바',\n",
       " '국가',\n",
       " '정당',\n",
       " '보상',\n",
       " '청구',\n",
       " '수',\n",
       " '제',\n",
       " '조',\n",
       " '공무원',\n",
       " '직무',\n",
       " '불법행위',\n",
       " '손해',\n",
       " '국민',\n",
       " '법률',\n",
       " '바',\n",
       " '국가',\n",
       " '공공',\n",
       " '단체',\n",
       " '정당',\n",
       " '배상',\n",
       " '청구',\n",
       " '수',\n",
       " '이',\n",
       " '경우',\n",
       " '공무원',\n",
       " '자신',\n",
       " '책임',\n",
       " '면제',\n",
       " '군인',\n",
       " '군무원',\n",
       " '경찰',\n",
       " '공무원',\n",
       " '기타',\n",
       " '법률',\n",
       " '자가',\n",
       " '전투',\n",
       " '훈련',\n",
       " '등',\n",
       " '직무',\n",
       " '집행',\n",
       " '손해',\n",
       " '법률',\n",
       " '보상',\n",
       " '외',\n",
       " '국가',\n",
       " '공공',\n",
       " '단체',\n",
       " '공무원',\n",
       " '직무',\n",
       " '불법행위',\n",
       " '배상',\n",
       " '청구',\n",
       " '수',\n",
       " '제',\n",
       " '조',\n",
       " '타인',\n",
       " '범죄',\n",
       " '행위',\n",
       " '생명',\n",
       " '신체',\n",
       " '대한',\n",
       " '피해',\n",
       " '국민',\n",
       " '법률',\n",
       " '바',\n",
       " '국가',\n",
       " '로부터',\n",
       " '구조',\n",
       " '수',\n",
       " '제',\n",
       " '조',\n",
       " '모든',\n",
       " '국민',\n",
       " '능력',\n",
       " '균등',\n",
       " '교육',\n",
       " '권리',\n",
       " '모든',\n",
       " '국민',\n",
       " '그',\n",
       " '자녀',\n",
       " '초등교육',\n",
       " '법률',\n",
       " '교육',\n",
       " '의무',\n",
       " '진',\n",
       " '의무교육',\n",
       " '무상',\n",
       " '교육',\n",
       " '자주성',\n",
       " '전문성',\n",
       " '정치',\n",
       " '중립성',\n",
       " '및',\n",
       " '대학',\n",
       " '자율성',\n",
       " '법률',\n",
       " '바',\n",
       " '국가',\n",
       " '평생교육',\n",
       " '진흥',\n",
       " '학교',\n",
       " '교육',\n",
       " '및',\n",
       " '평생교육',\n",
       " '교육제도',\n",
       " '그',\n",
       " '운영',\n",
       " '교육재정',\n",
       " '및',\n",
       " '교원',\n",
       " '지위',\n",
       " '기본',\n",
       " '사항',\n",
       " '법률',\n",
       " '제',\n",
       " '조',\n",
       " '모든',\n",
       " '국민',\n",
       " '근로',\n",
       " '권리',\n",
       " '국가',\n",
       " '사회',\n",
       " '경제',\n",
       " '방법',\n",
       " '근로자',\n",
       " '고용',\n",
       " '증진',\n",
       " '적정',\n",
       " '임금',\n",
       " '보장',\n",
       " '법률',\n",
       " '바',\n",
       " '최저임금제',\n",
       " '시행',\n",
       " '모든',\n",
       " '국민',\n",
       " '근로',\n",
       " '의무',\n",
       " '진',\n",
       " '국가',\n",
       " '근로',\n",
       " '의무',\n",
       " '내용',\n",
       " '조건',\n",
       " '민주주의',\n",
       " '원칙',\n",
       " '법률',\n",
       " '근로',\n",
       " '조건',\n",
       " '기준',\n",
       " '인간',\n",
       " '존엄성',\n",
       " '법률',\n",
       " '여자',\n",
       " '근로',\n",
       " '보호',\n",
       " '고용',\n",
       " '임금',\n",
       " '및',\n",
       " '근로',\n",
       " '조건',\n",
       " '부당',\n",
       " '차별',\n",
       " '연소자',\n",
       " '근로',\n",
       " '보호',\n",
       " '국가',\n",
       " '유공',\n",
       " '상이',\n",
       " '군경',\n",
       " '및',\n",
       " '전몰',\n",
       " '경의',\n",
       " '유가족',\n",
       " '법률',\n",
       " '바',\n",
       " '우선',\n",
       " '근로',\n",
       " '기회',\n",
       " '부여',\n",
       " '제',\n",
       " '조',\n",
       " '근로자',\n",
       " '근로',\n",
       " '조건',\n",
       " '향상',\n",
       " '자주',\n",
       " '단결권',\n",
       " '단체교섭권',\n",
       " '및',\n",
       " '단체행동권',\n",
       " '공무원',\n",
       " '근로자',\n",
       " '법률',\n",
       " '자',\n",
       " '단결권',\n",
       " '단체교섭권',\n",
       " '및',\n",
       " '단체행동권',\n",
       " '법률',\n",
       " '주요',\n",
       " '방위산업',\n",
       " '체',\n",
       " '종사',\n",
       " '근로자',\n",
       " '단체행동권',\n",
       " '법률',\n",
       " '바',\n",
       " '수',\n",
       " '제',\n",
       " '조',\n",
       " '모든',\n",
       " '국민',\n",
       " '인간',\n",
       " '다운',\n",
       " '생활',\n",
       " '권리',\n",
       " '국가',\n",
       " '사회보장',\n",
       " '사회',\n",
       " '복지',\n",
       " '증진',\n",
       " '의무',\n",
       " '진',\n",
       " '국가',\n",
       " '여자',\n",
       " '복지',\n",
       " '권익',\n",
       " '향상',\n",
       " '국가',\n",
       " '노인',\n",
       " '청소년',\n",
       " '복지',\n",
       " '향상',\n",
       " '정책',\n",
       " '의무',\n",
       " '진',\n",
       " '신체',\n",
       " '장애자',\n",
       " '및',\n",
       " '질병',\n",
       " '노령',\n",
       " '기타',\n",
       " '사유',\n",
       " '생활',\n",
       " '능력',\n",
       " '국민',\n",
       " '법률',\n",
       " '바',\n",
       " '국가',\n",
       " '보호',\n",
       " '국가',\n",
       " '재해',\n",
       " '그',\n",
       " ...]"
      ]
     },
     "execution_count": 17,
     "metadata": {},
     "output_type": "execute_result"
    }
   ],
   "source": [
    "ko_nouns"
   ]
  },
  {
   "cell_type": "code",
   "execution_count": 16,
   "metadata": {
    "collapsed": true
   },
   "outputs": [],
   "source": [
    "stop_words = ['제', '월', '일','조','수','때','그','이','바','및','안']\n",
    "\n",
    "# stop_words 빼기\n",
    "ko_nouns = [word for word in ko_nouns if word not in stop_words]"
   ]
  },
  {
   "cell_type": "code",
   "execution_count": 17,
   "metadata": {},
   "outputs": [
    {
     "data": {
      "text/plain": [
       "['대한민국',\n",
       " '헌법',\n",
       " '유구',\n",
       " '역사',\n",
       " '전통',\n",
       " '우리',\n",
       " '대한',\n",
       " '국민',\n",
       " '운동',\n",
       " '건립',\n",
       " '대한민국',\n",
       " '임시정부',\n",
       " '법',\n",
       " '통과',\n",
       " '불의',\n",
       " '항거',\n",
       " '민주',\n",
       " '이념',\n",
       " '계승',\n",
       " '조국',\n",
       " '민주',\n",
       " '개혁',\n",
       " '평화',\n",
       " '통일',\n",
       " '사명',\n",
       " '입',\n",
       " '각하',\n",
       " '정의',\n",
       " '인도',\n",
       " '동포',\n",
       " '애',\n",
       " '로써',\n",
       " '민족',\n",
       " '단결',\n",
       " '공고',\n",
       " '모든',\n",
       " '사회',\n",
       " '폐습',\n",
       " '불의',\n",
       " '타파',\n",
       " '자율',\n",
       " '조화',\n",
       " '바탕',\n",
       " '자유민주',\n",
       " '기본',\n",
       " '질서',\n",
       " '더욱',\n",
       " '확고',\n",
       " '정치',\n",
       " '경제',\n",
       " '사회',\n",
       " '문화',\n",
       " '모든',\n",
       " '영역',\n",
       " '각인',\n",
       " '기회',\n",
       " '균등',\n",
       " '능력',\n",
       " '최고',\n",
       " '도로',\n",
       " '자유',\n",
       " '권리',\n",
       " '책임',\n",
       " '의무',\n",
       " '완수',\n",
       " '국민',\n",
       " '생활',\n",
       " '균등',\n",
       " '향상',\n",
       " '기하',\n",
       " '밖',\n",
       " '항구',\n",
       " '세계',\n",
       " '평화',\n",
       " '인류',\n",
       " '공영',\n",
       " '이바지',\n",
       " '함',\n",
       " '우리',\n",
       " '우리',\n",
       " '자손',\n",
       " '안전',\n",
       " '자유',\n",
       " '행복',\n",
       " '확보',\n",
       " '것',\n",
       " '년',\n",
       " '제정',\n",
       " '차',\n",
       " '개정',\n",
       " '헌법',\n",
       " '이제',\n",
       " '국회',\n",
       " '의결',\n",
       " '국민투표',\n",
       " '개정',\n",
       " '장',\n",
       " '총강',\n",
       " '대한민국',\n",
       " '민주공화국',\n",
       " '대한민국',\n",
       " '주권',\n",
       " '국민',\n",
       " '모든',\n",
       " '권력',\n",
       " '국민',\n",
       " '대한민국',\n",
       " '국민',\n",
       " '요건',\n",
       " '법률',\n",
       " '국가',\n",
       " '법률',\n",
       " '재외국민',\n",
       " '의무',\n",
       " '진',\n",
       " '대한민국',\n",
       " '영토',\n",
       " '한반도',\n",
       " '부속',\n",
       " '도서',\n",
       " '대한민국',\n",
       " '통일',\n",
       " '지향',\n",
       " '자유민주',\n",
       " '기본',\n",
       " '질서',\n",
       " '입각',\n",
       " '평화',\n",
       " '통일',\n",
       " '정책',\n",
       " '수립',\n",
       " '대한민국',\n",
       " '국제',\n",
       " '평화',\n",
       " '유지',\n",
       " '침략',\n",
       " '전쟁',\n",
       " '부인',\n",
       " '국군',\n",
       " '국가',\n",
       " '안전보장',\n",
       " '국토',\n",
       " '방위',\n",
       " '신성',\n",
       " '의무',\n",
       " '사명',\n",
       " '정치',\n",
       " '중립성',\n",
       " '준수',\n",
       " '헌법',\n",
       " '체결',\n",
       " '공포',\n",
       " '조약',\n",
       " '일반',\n",
       " '승인',\n",
       " '국제',\n",
       " '법규',\n",
       " '국내법',\n",
       " '효력',\n",
       " '외국인',\n",
       " '국제',\n",
       " '법',\n",
       " '조약',\n",
       " '지위',\n",
       " '공무원',\n",
       " '국민',\n",
       " '전체',\n",
       " '대한',\n",
       " '봉사자',\n",
       " '국민',\n",
       " '책임',\n",
       " '진',\n",
       " '공무원',\n",
       " '신분',\n",
       " '정치',\n",
       " '중립성',\n",
       " '법률',\n",
       " '정당',\n",
       " '설립',\n",
       " '자유',\n",
       " '복수정당제',\n",
       " '정당',\n",
       " '목적',\n",
       " '조직',\n",
       " '활동',\n",
       " '민주',\n",
       " '국민',\n",
       " '정치',\n",
       " '의사',\n",
       " '형성',\n",
       " '조직',\n",
       " '정당',\n",
       " '법률',\n",
       " '국가',\n",
       " '보호',\n",
       " '국가',\n",
       " '법률',\n",
       " '정당',\n",
       " '운영',\n",
       " '자금',\n",
       " '보조',\n",
       " '정당',\n",
       " '목적',\n",
       " '활동',\n",
       " '민주',\n",
       " '기본',\n",
       " '질서',\n",
       " '위배',\n",
       " '정부',\n",
       " '헌법재판소',\n",
       " '해산',\n",
       " '제소',\n",
       " '정당',\n",
       " '헌법재판소',\n",
       " '심판',\n",
       " '해산',\n",
       " '국가',\n",
       " '전통문화',\n",
       " '계승',\n",
       " '발전',\n",
       " '민족',\n",
       " '문화',\n",
       " '창달',\n",
       " '장',\n",
       " '국민',\n",
       " '권리',\n",
       " '의무',\n",
       " '모든',\n",
       " '국민',\n",
       " '인간',\n",
       " '존엄',\n",
       " '가치',\n",
       " '가지',\n",
       " '행복',\n",
       " '추구',\n",
       " '권리',\n",
       " '국가',\n",
       " '개인',\n",
       " '불가침',\n",
       " '기본',\n",
       " '인권',\n",
       " '의무',\n",
       " '진',\n",
       " '모든',\n",
       " '국민',\n",
       " '법',\n",
       " '앞',\n",
       " '평등',\n",
       " '누구',\n",
       " '성별',\n",
       " '종교',\n",
       " '사회',\n",
       " '신분',\n",
       " '정치',\n",
       " '경제',\n",
       " '사회',\n",
       " '문화',\n",
       " '생활',\n",
       " '모든',\n",
       " '영역',\n",
       " '차별',\n",
       " '사회',\n",
       " '특수',\n",
       " '계급',\n",
       " '제도',\n",
       " '형태',\n",
       " '도',\n",
       " '창설',\n",
       " '훈장',\n",
       " '등',\n",
       " '영전',\n",
       " '자',\n",
       " '효력',\n",
       " '특권',\n",
       " '모든',\n",
       " '국민',\n",
       " '신체',\n",
       " '자유',\n",
       " '누구',\n",
       " '법률',\n",
       " '체포',\n",
       " '구속',\n",
       " '압수',\n",
       " '수색',\n",
       " '심문',\n",
       " '법률',\n",
       " '적법',\n",
       " '절차',\n",
       " '처벌',\n",
       " '보안처분',\n",
       " '강제',\n",
       " '노역',\n",
       " '모든',\n",
       " '국민',\n",
       " '고문',\n",
       " '형사',\n",
       " '자기',\n",
       " '진술',\n",
       " '강요',\n",
       " '체포',\n",
       " '구속',\n",
       " '압수',\n",
       " '수색',\n",
       " '적법',\n",
       " '절차',\n",
       " '검사',\n",
       " '신청',\n",
       " '법관',\n",
       " '발부',\n",
       " '영장',\n",
       " '다만',\n",
       " '현행범인',\n",
       " '경우',\n",
       " '장기',\n",
       " '년',\n",
       " '이상',\n",
       " '형',\n",
       " '죄',\n",
       " '범',\n",
       " '도피',\n",
       " '증거',\n",
       " '멸',\n",
       " '염려',\n",
       " '사후',\n",
       " '영장',\n",
       " '청구',\n",
       " '누구',\n",
       " '체포',\n",
       " '구속',\n",
       " '당한',\n",
       " '즉시',\n",
       " '변호인',\n",
       " '조력',\n",
       " '권리',\n",
       " '다만',\n",
       " '형사',\n",
       " '피고인',\n",
       " '스스로',\n",
       " '변호인',\n",
       " '법률',\n",
       " '국가',\n",
       " '변호인',\n",
       " '누구',\n",
       " '체포',\n",
       " '구속',\n",
       " '이유',\n",
       " '변호인',\n",
       " '조력',\n",
       " '권리',\n",
       " '음',\n",
       " '고지',\n",
       " '체포',\n",
       " '구속',\n",
       " '체포',\n",
       " '구속',\n",
       " '당한',\n",
       " '자의',\n",
       " '가족',\n",
       " '등',\n",
       " '법률',\n",
       " '자',\n",
       " '이유',\n",
       " '일시',\n",
       " '장소',\n",
       " '지체',\n",
       " '통지',\n",
       " '누구',\n",
       " '체포',\n",
       " '구속',\n",
       " '당한',\n",
       " '적',\n",
       " '부의',\n",
       " '심사',\n",
       " '법원',\n",
       " '청구',\n",
       " '권리',\n",
       " '피고인',\n",
       " '자백',\n",
       " '고문',\n",
       " '폭행',\n",
       " '협박',\n",
       " '구속',\n",
       " '부당',\n",
       " '장기',\n",
       " '기망',\n",
       " '기타',\n",
       " '방법',\n",
       " '자의',\n",
       " '진술',\n",
       " '것',\n",
       " '정식',\n",
       " '재판',\n",
       " '피고인',\n",
       " '자백',\n",
       " '유일',\n",
       " '증거',\n",
       " '유죄',\n",
       " '증거',\n",
       " '이유',\n",
       " '처벌',\n",
       " '모든',\n",
       " '국민',\n",
       " '행위',\n",
       " '시',\n",
       " '법률',\n",
       " '범죄',\n",
       " '행위',\n",
       " '소추',\n",
       " '범죄',\n",
       " '거듭',\n",
       " '처벌',\n",
       " '모든',\n",
       " '국민',\n",
       " '소급입법',\n",
       " '참정권',\n",
       " '제한',\n",
       " '재산권',\n",
       " '박탈',\n",
       " '모든',\n",
       " '국민',\n",
       " '자기',\n",
       " '행위',\n",
       " '친족',\n",
       " '행위',\n",
       " '불이익',\n",
       " '처우',\n",
       " '모든',\n",
       " '국민',\n",
       " '거주',\n",
       " '이전',\n",
       " '자유',\n",
       " '모든',\n",
       " '국민',\n",
       " '직업',\n",
       " '선택',\n",
       " '자유',\n",
       " '모든',\n",
       " '국민',\n",
       " '주거',\n",
       " '자유',\n",
       " '침해',\n",
       " '주거',\n",
       " '대한',\n",
       " '압수',\n",
       " '수색',\n",
       " '검사',\n",
       " '신청',\n",
       " '법관',\n",
       " '발부',\n",
       " '영장',\n",
       " '모든',\n",
       " '국민',\n",
       " '사생활',\n",
       " '비밀',\n",
       " '자유',\n",
       " '침해',\n",
       " '모든',\n",
       " '국민',\n",
       " '통신',\n",
       " '비밀',\n",
       " '침해',\n",
       " '모든',\n",
       " '국민',\n",
       " '양심',\n",
       " '자유',\n",
       " '모든',\n",
       " '국민',\n",
       " '종교',\n",
       " '자유',\n",
       " '국교',\n",
       " '종교',\n",
       " '정치',\n",
       " '모든',\n",
       " '국민',\n",
       " '언론',\n",
       " '출판',\n",
       " '자유',\n",
       " '집회',\n",
       " '결사',\n",
       " '자유',\n",
       " '언론',\n",
       " '출판',\n",
       " '대한',\n",
       " '허가',\n",
       " '검열',\n",
       " '집회',\n",
       " '결사',\n",
       " '대한',\n",
       " '허가',\n",
       " '통신',\n",
       " '방송',\n",
       " '시설',\n",
       " '기준',\n",
       " '신문',\n",
       " '기능',\n",
       " '사항',\n",
       " '법률',\n",
       " '언론',\n",
       " '출판',\n",
       " '타인',\n",
       " '명예',\n",
       " '권리',\n",
       " '공중도덕',\n",
       " '사회',\n",
       " '윤리',\n",
       " '침해',\n",
       " '언론',\n",
       " '출판',\n",
       " '타인',\n",
       " '명예',\n",
       " '권리',\n",
       " '침해',\n",
       " '피해자',\n",
       " '대한',\n",
       " '피해',\n",
       " '배상',\n",
       " '청구',\n",
       " '모든',\n",
       " '국민',\n",
       " '학문',\n",
       " '예술',\n",
       " '자유',\n",
       " '저작자',\n",
       " '발명가',\n",
       " '과학기술',\n",
       " '예술가',\n",
       " '권리',\n",
       " '법률',\n",
       " '로써',\n",
       " '모든',\n",
       " '국민',\n",
       " '재산권',\n",
       " '내용',\n",
       " '한계',\n",
       " '법률',\n",
       " '재산권',\n",
       " '행사',\n",
       " '공공',\n",
       " '복리',\n",
       " '공공필요',\n",
       " '재산권',\n",
       " '수용',\n",
       " '사용',\n",
       " '제한',\n",
       " '대한',\n",
       " '보상',\n",
       " '법률',\n",
       " '로써',\n",
       " '하되',\n",
       " '정당',\n",
       " '보상',\n",
       " '모든',\n",
       " '국민',\n",
       " '법률',\n",
       " '선거권',\n",
       " '모든',\n",
       " '국민',\n",
       " '법률',\n",
       " '공무',\n",
       " '담임',\n",
       " '모든',\n",
       " '국민',\n",
       " '법률',\n",
       " '국가',\n",
       " '기관',\n",
       " '문서',\n",
       " '청원',\n",
       " '권리',\n",
       " '국가',\n",
       " '청원',\n",
       " '심사',\n",
       " '의무',\n",
       " '진',\n",
       " '모든',\n",
       " '국민',\n",
       " '헌법',\n",
       " '법률',\n",
       " '법관',\n",
       " '법률',\n",
       " '재판',\n",
       " '권리',\n",
       " '군인',\n",
       " '군무원',\n",
       " '국민',\n",
       " '대한민국',\n",
       " '영역',\n",
       " '군사',\n",
       " '기밀',\n",
       " '초병',\n",
       " '초소',\n",
       " '유독',\n",
       " '음식물',\n",
       " '공급',\n",
       " '포로',\n",
       " '군용',\n",
       " '물',\n",
       " '죄',\n",
       " '법률',\n",
       " '경우',\n",
       " '비상계엄',\n",
       " '선포',\n",
       " '경우',\n",
       " '제외',\n",
       " '군사법원',\n",
       " '재판',\n",
       " '모든',\n",
       " '국민',\n",
       " '재판',\n",
       " '권리',\n",
       " '형사',\n",
       " '피고인',\n",
       " '이유',\n",
       " '지체',\n",
       " '공개',\n",
       " '재판',\n",
       " '권리',\n",
       " '형사',\n",
       " '피고인',\n",
       " '유죄',\n",
       " '판결',\n",
       " '확정',\n",
       " '무죄',\n",
       " '추정',\n",
       " '형사',\n",
       " '피해자',\n",
       " '법률',\n",
       " '사건',\n",
       " '재판',\n",
       " '절차',\n",
       " '진술',\n",
       " '형사',\n",
       " '피의자',\n",
       " '형사',\n",
       " '피고인',\n",
       " '구금',\n",
       " '자가',\n",
       " '법률',\n",
       " '불기소처분',\n",
       " '무죄판결',\n",
       " '법률',\n",
       " '국가',\n",
       " '정당',\n",
       " '보상',\n",
       " '청구',\n",
       " '공무원',\n",
       " '직무',\n",
       " '불법행위',\n",
       " '손해',\n",
       " '국민',\n",
       " '법률',\n",
       " '국가',\n",
       " '공공',\n",
       " '단체',\n",
       " '정당',\n",
       " '배상',\n",
       " '청구',\n",
       " '경우',\n",
       " '공무원',\n",
       " '자신',\n",
       " '책임',\n",
       " '면제',\n",
       " '군인',\n",
       " '군무원',\n",
       " '경찰',\n",
       " '공무원',\n",
       " '기타',\n",
       " '법률',\n",
       " '자가',\n",
       " '전투',\n",
       " '훈련',\n",
       " '등',\n",
       " '직무',\n",
       " '집행',\n",
       " '손해',\n",
       " '법률',\n",
       " '보상',\n",
       " '외',\n",
       " '국가',\n",
       " '공공',\n",
       " '단체',\n",
       " '공무원',\n",
       " '직무',\n",
       " '불법행위',\n",
       " '배상',\n",
       " '청구',\n",
       " '타인',\n",
       " '범죄',\n",
       " '행위',\n",
       " '생명',\n",
       " '신체',\n",
       " '대한',\n",
       " '피해',\n",
       " '국민',\n",
       " '법률',\n",
       " '국가',\n",
       " '로부터',\n",
       " '구조',\n",
       " '모든',\n",
       " '국민',\n",
       " '능력',\n",
       " '균등',\n",
       " '교육',\n",
       " '권리',\n",
       " '모든',\n",
       " '국민',\n",
       " '자녀',\n",
       " '초등교육',\n",
       " '법률',\n",
       " '교육',\n",
       " '의무',\n",
       " '진',\n",
       " '의무교육',\n",
       " '무상',\n",
       " '교육',\n",
       " '자주성',\n",
       " '전문성',\n",
       " '정치',\n",
       " '중립성',\n",
       " '대학',\n",
       " '자율성',\n",
       " '법률',\n",
       " '국가',\n",
       " '평생교육',\n",
       " '진흥',\n",
       " '학교',\n",
       " '교육',\n",
       " '평생교육',\n",
       " '교육제도',\n",
       " '운영',\n",
       " '교육재정',\n",
       " '교원',\n",
       " '지위',\n",
       " '기본',\n",
       " '사항',\n",
       " '법률',\n",
       " '모든',\n",
       " '국민',\n",
       " '근로',\n",
       " '권리',\n",
       " '국가',\n",
       " '사회',\n",
       " '경제',\n",
       " '방법',\n",
       " '근로자',\n",
       " '고용',\n",
       " '증진',\n",
       " '적정',\n",
       " '임금',\n",
       " '보장',\n",
       " '법률',\n",
       " '최저임금제',\n",
       " '시행',\n",
       " '모든',\n",
       " '국민',\n",
       " '근로',\n",
       " '의무',\n",
       " '진',\n",
       " '국가',\n",
       " '근로',\n",
       " '의무',\n",
       " '내용',\n",
       " '조건',\n",
       " '민주주의',\n",
       " '원칙',\n",
       " '법률',\n",
       " '근로',\n",
       " '조건',\n",
       " '기준',\n",
       " '인간',\n",
       " '존엄성',\n",
       " '법률',\n",
       " '여자',\n",
       " '근로',\n",
       " '보호',\n",
       " '고용',\n",
       " '임금',\n",
       " '근로',\n",
       " '조건',\n",
       " '부당',\n",
       " '차별',\n",
       " '연소자',\n",
       " '근로',\n",
       " '보호',\n",
       " '국가',\n",
       " '유공',\n",
       " '상이',\n",
       " '군경',\n",
       " '전몰',\n",
       " '경의',\n",
       " '유가족',\n",
       " '법률',\n",
       " '우선',\n",
       " '근로',\n",
       " '기회',\n",
       " '부여',\n",
       " '근로자',\n",
       " '근로',\n",
       " '조건',\n",
       " '향상',\n",
       " '자주',\n",
       " '단결권',\n",
       " '단체교섭권',\n",
       " '단체행동권',\n",
       " '공무원',\n",
       " '근로자',\n",
       " '법률',\n",
       " '자',\n",
       " '단결권',\n",
       " '단체교섭권',\n",
       " '단체행동권',\n",
       " '법률',\n",
       " '주요',\n",
       " '방위산업',\n",
       " '체',\n",
       " '종사',\n",
       " '근로자',\n",
       " '단체행동권',\n",
       " '법률',\n",
       " '모든',\n",
       " '국민',\n",
       " '인간',\n",
       " '다운',\n",
       " '생활',\n",
       " '권리',\n",
       " '국가',\n",
       " '사회보장',\n",
       " '사회',\n",
       " '복지',\n",
       " '증진',\n",
       " '의무',\n",
       " '진',\n",
       " '국가',\n",
       " '여자',\n",
       " '복지',\n",
       " '권익',\n",
       " '향상',\n",
       " '국가',\n",
       " '노인',\n",
       " '청소년',\n",
       " '복지',\n",
       " '향상',\n",
       " '정책',\n",
       " '의무',\n",
       " '진',\n",
       " '신체',\n",
       " '장애자',\n",
       " '질병',\n",
       " '노령',\n",
       " '기타',\n",
       " '사유',\n",
       " '생활',\n",
       " '능력',\n",
       " '국민',\n",
       " '법률',\n",
       " '국가',\n",
       " '보호',\n",
       " '국가',\n",
       " '재해',\n",
       " '위험',\n",
       " '국민',\n",
       " '모든',\n",
       " '국민',\n",
       " '쾌적',\n",
       " '환경',\n",
       " '권리',\n",
       " '가지',\n",
       " '국가',\n",
       " '국민',\n",
       " '환경보전',\n",
       " '환경권',\n",
       " '내용',\n",
       " '행사',\n",
       " '법률',\n",
       " '국가',\n",
       " '주택',\n",
       " '개발',\n",
       " '정책',\n",
       " '등',\n",
       " '모든',\n",
       " '국민',\n",
       " '쾌적',\n",
       " '주거',\n",
       " '생활',\n",
       " '혼인',\n",
       " '가족',\n",
       " '생활',\n",
       " '개인',\n",
       " '존엄',\n",
       " '양성',\n",
       " '평등',\n",
       " '기초',\n",
       " '국가',\n",
       " '국가',\n",
       " '모성',\n",
       " '보호',\n",
       " '모든',\n",
       " '국민',\n",
       " '보건',\n",
       " '국가',\n",
       " '보호',\n",
       " '국민',\n",
       " '자유',\n",
       " '권리',\n",
       " '헌법',\n",
       " '열거',\n",
       " '이유',\n",
       " '경시',\n",
       " '국민',\n",
       " '모든',\n",
       " '자유',\n",
       " '권리',\n",
       " '국가',\n",
       " '안전보장',\n",
       " '질서',\n",
       " '유지',\n",
       " '공공',\n",
       " '복리',\n",
       " '경우',\n",
       " '법률',\n",
       " '로써',\n",
       " '경우',\n",
       " '자유',\n",
       " '권리',\n",
       " '본질',\n",
       " '내용',\n",
       " '침해',\n",
       " '모든',\n",
       " '국민',\n",
       " '법률',\n",
       " '납세',\n",
       " '의무',\n",
       " '진',\n",
       " '모든',\n",
       " '국민',\n",
       " '법률',\n",
       " '국방',\n",
       " '의무',\n",
       " '진',\n",
       " '누구',\n",
       " '병역의무',\n",
       " '이행',\n",
       " '불이익',\n",
       " '처우',\n",
       " '장',\n",
       " '국회',\n",
       " '입법권',\n",
       " '국회',\n",
       " '국회',\n",
       " '국민',\n",
       " '보통',\n",
       " '평등',\n",
       " '직접',\n",
       " '비밀선거',\n",
       " '선출',\n",
       " '국회의원',\n",
       " '국회의원',\n",
       " '법률',\n",
       " '정하되',\n",
       " '인',\n",
       " '이상',\n",
       " '국회의원',\n",
       " '선거구',\n",
       " '비례대표제',\n",
       " '기타',\n",
       " '선거',\n",
       " '사항',\n",
       " '법률',\n",
       " '국회의원',\n",
       " '임기',\n",
       " '년',\n",
       " '국회의원',\n",
       " '법률',\n",
       " '직',\n",
       " '겸',\n",
       " '국회의원',\n",
       " '현행범인',\n",
       " '경우',\n",
       " '제외',\n",
       " '회기',\n",
       " '국회',\n",
       " '동의',\n",
       " '체포',\n",
       " '구금',\n",
       " '국회의원',\n",
       " '회',\n",
       " '기전',\n",
       " '체포',\n",
       " '구금',\n",
       " '현행범인',\n",
       " '국회',\n",
       " '요구',\n",
       " '회기',\n",
       " '석방',\n",
       " '국회의원',\n",
       " '국회',\n",
       " '직무',\n",
       " '발언',\n",
       " '표결',\n",
       " '국회',\n",
       " '외',\n",
       " ...]"
      ]
     },
     "execution_count": 17,
     "metadata": {},
     "output_type": "execute_result"
    }
   ],
   "source": [
    "ko_nouns"
   ]
  },
  {
   "cell_type": "code",
   "execution_count": 18,
   "metadata": {
    "collapsed": true
   },
   "outputs": [],
   "source": [
    "ko  = nltk.Text(ko_nouns, name='헌법')"
   ]
  },
  {
   "cell_type": "code",
   "execution_count": 19,
   "metadata": {},
   "outputs": [
    {
     "data": {
      "text/plain": [
       "[('법률', 127),\n",
       " ('대통령', 83),\n",
       " ('국가', 73),\n",
       " ('국회', 68),\n",
       " ('국민', 61),\n",
       " ('헌법', 53),\n",
       " ('모든', 37),\n",
       " ('기타', 26),\n",
       " ('사항', 23),\n",
       " ('권리', 21),\n",
       " ('의원', 21),\n",
       " ('경제', 20),\n",
       " ('정부', 20),\n",
       " ('선거', 20),\n",
       " ('임명', 20),\n",
       " ('자유', 19),\n",
       " ('직무', 19),\n",
       " ('국무총리', 19),\n",
       " ('의무', 18),\n",
       " ('조직', 18),\n",
       " ('국회의원', 18),\n",
       " ('임기', 18),\n",
       " ('의결', 17),\n",
       " ('공무원', 17),\n",
       " ('정당', 17),\n",
       " ('경우', 17),\n",
       " ('이상', 17),\n",
       " ('국무위원', 17),\n",
       " ('대법원', 17),\n",
       " ('범위', 16)]"
      ]
     },
     "execution_count": 19,
     "metadata": {},
     "output_type": "execute_result"
    }
   ],
   "source": [
    "# 상위 30개 수 \n",
    "ko.vocab().most_common(30)"
   ]
  },
  {
   "cell_type": "markdown",
   "metadata": {},
   "source": [
    "### matplotlib 한글폰트"
   ]
  },
  {
   "cell_type": "code",
   "execution_count": 20,
   "metadata": {
    "collapsed": true
   },
   "outputs": [],
   "source": [
    "from matplotlib import font_manager, rc\n",
    "font_name = font_manager.FontProperties(fname=\"C:/Windows/Fonts/malgun.ttf\").get_name()\n",
    "rc('font', family=font_name)"
   ]
  },
  {
   "cell_type": "code",
   "execution_count": 21,
   "metadata": {
    "collapsed": true
   },
   "outputs": [],
   "source": [
    "# nltk패키지를 통해 konlpy에서 뽑은 명사들 상위 500개 추출\n",
    "data = ko.vocab().most_common(500)"
   ]
  },
  {
   "cell_type": "code",
   "execution_count": 22,
   "metadata": {
    "collapsed": true
   },
   "outputs": [],
   "source": [
    "# data를 딕셔너리 형태로 변환\n",
    "tmp_data = dict(data)"
   ]
  },
  {
   "cell_type": "code",
   "execution_count": 23,
   "metadata": {
    "collapsed": true
   },
   "outputs": [],
   "source": [
    "wordcloud = WordCloud(font_path='C:/Windows/Fonts/malgun.ttf',\n",
    "                      background_color='white'\n",
    "                     ,relative_scaling =0.2).generate_from_frequencies(tmp_data)"
   ]
  },
  {
   "cell_type": "code",
   "execution_count": 24,
   "metadata": {},
   "outputs": [
    {
     "data": {
      "text/plain": [
       "(-0.5, 399.5, 199.5, -0.5)"
      ]
     },
     "execution_count": 24,
     "metadata": {},
     "output_type": "execute_result"
    },
    {
     "data": {
      "image/png": "[encoded data removed]",
      "text/plain": [
       "<matplotlib.figure.Figure at 0x1eea78becf8>"
      ]
     },
     "metadata": {},
     "output_type": "display_data"
    }
   ],
   "source": [
    "plt.figure(figsize=(16,8))\n",
    "plt.imshow(wordcloud)\n",
    "plt.axis('off')"
   ]
  },
  {
   "cell_type": "markdown",
   "metadata": {},
   "source": [
    "# 사진+워드클라우드"
   ]
  },
  {
   "cell_type": "code",
   "execution_count": 25,
   "metadata": {
    "collapsed": true
   },
   "outputs": [],
   "source": [
    "import numpy as np\n",
    "from PIL import Image\n",
    "from wordcloud import ImageColorGenerator"
   ]
  },
  {
   "cell_type": "code",
   "execution_count": 26,
   "metadata": {
    "collapsed": true
   },
   "outputs": [],
   "source": [
    "# 이미지파일 numpy로 읽기\n",
    "korea_color = np.array(Image.open('./한국.jpg'))"
   ]
  },
  {
   "cell_type": "code",
   "execution_count": 27,
   "metadata": {
    "collapsed": true
   },
   "outputs": [],
   "source": [
    "image_color = ImageColorGenerator(korea_color)"
   ]
  },
  {
   "cell_type": "code",
   "execution_count": 28,
   "metadata": {},
   "outputs": [
    {
     "data": {
      "text/plain": [
       "(-0.5, 387.5, 458.5, -0.5)"
      ]
     },
     "execution_count": 28,
     "metadata": {},
     "output_type": "execute_result"
    },
    {
     "data": {
      "image/png": "[encoded data removed]",
      "text/plain": [
       "<matplotlib.figure.Figure at 0x1eec9fd2828>"
      ]
     },
     "metadata": {},
     "output_type": "display_data"
    }
   ],
   "source": [
    "plt.figure(figsize=(12,12))\n",
    "plt.imshow(korea_color)\n",
    "plt.axis('off')"
   ]
  },
  {
   "cell_type": "code",
   "execution_count": 29,
   "metadata": {
    "collapsed": true
   },
   "outputs": [],
   "source": [
    "wordcloud = WordCloud(font_path='C:/Windows/Fonts/malgun.ttf',\n",
    "                     relative_scaling = 0.2,\n",
    "                     mask = korea_color, \n",
    "                     background_color = 'white',\n",
    "                     min_font_size=1, max_font_size=40).generate_from_frequencies(tmp_data)"
   ]
  },
  {
   "cell_type": "code",
   "execution_count": 30,
   "metadata": {},
   "outputs": [
    {
     "data": {
      "text/plain": [
       "(-0.5, 387.5, 458.5, -0.5)"
      ]
     },
     "execution_count": 30,
     "metadata": {},
     "output_type": "execute_result"
    },
    {
     "data": {
      "image/png": "[encoded data removed]",
      "text/plain": [
       "<matplotlib.figure.Figure at 0x1eec9fd2278>"
      ]
     },
     "metadata": {},
     "output_type": "display_data"
    }
   ],
   "source": [
    "plt.figure(figsize=(12,12))\n",
    "plt.imshow(wordcloud.recolor(color_func=image_color))\n",
    "plt.axis('off')"
   ]
  },
  {
   "cell_type": "markdown",
   "metadata": {},
   "source": [
    "---"
   ]
  },
  {
   "cell_type": "code",
   "execution_count": null,
   "metadata": {
    "collapsed": true
   },
   "outputs": [],
   "source": [
    "%reset"
   ]
  },
  {
   "cell_type": "markdown",
   "metadata": {},
   "source": [
    "# 문제\n",
    "### <font color='#f001ff'>직접 해보세요 :-)</font>"
   ]
  },
  {
   "cell_type": "code",
   "execution_count": 2,
   "metadata": {
    "collapsed": true
   },
   "outputs": [],
   "source": [
    "import matplotlib.pyplot as plt\n",
    "import numpy as np\n",
    "from PIL import Image\n",
    "import nltk\n",
    "from konlpy.tag import Twitter, Kkma\n",
    "%matplotlib inline\n",
    "\n",
    "from wordcloud import STOPWORDS"
   ]
  },
  {
   "cell_type": "code",
   "execution_count": 3,
   "metadata": {
    "collapsed": true
   },
   "outputs": [],
   "source": [
    "tw=Twitter()"
   ]
  },
  {
   "cell_type": "code",
   "execution_count": 4,
   "metadata": {
    "collapsed": true
   },
   "outputs": [],
   "source": [
    "kkma = Kkma()"
   ]
  },
  {
   "cell_type": "code",
   "execution_count": 12,
   "metadata": {},
   "outputs": [
    {
     "data": {
      "text/plain": [
       "['안녕하십니까.']"
      ]
     },
     "execution_count": 12,
     "metadata": {},
     "output_type": "execute_result"
    }
   ],
   "source": [
    "kkma.sentences('안녕하십니까.')"
   ]
  },
  {
   "cell_type": "code",
   "execution_count": 13,
   "metadata": {},
   "outputs": [
    {
     "data": {
      "text/plain": [
       "['한', '한인수', '인수', '명사', '빼어']"
      ]
     },
     "execution_count": 13,
     "metadata": {},
     "output_type": "execute_result"
    }
   ],
   "source": [
    "kkma.nouns('한인수입니다. 명사를 빼어 보십시오')"
   ]
  },
  {
   "cell_type": "code",
   "execution_count": 14,
   "metadata": {},
   "outputs": [
    {
     "data": {
      "text/plain": [
       "[('형태소', 'NNG'),\n",
       " ('분석', 'NNG'),\n",
       " ('.', 'SF'),\n",
       " ('pos', 'OL'),\n",
       " ('분석', 'NNG'),\n",
       " ('을', 'JKO'),\n",
       " ('해보', 'VV'),\n",
       " ('시', 'EPH'),\n",
       " ('어요', 'EFN')]"
      ]
     },
     "execution_count": 14,
     "metadata": {},
     "output_type": "execute_result"
    }
   ],
   "source": [
    "kkma.pos(\"형태소 분석. pos 분석을 해보시어요\")"
   ]
  },
  {
   "cell_type": "code",
   "execution_count": 5,
   "metadata": {
    "collapsed": true
   },
   "outputs": [],
   "source": [
    "from matplotlib import font_manager, rc\n",
    "font_name = font_manager.FontProperties(fname=\"C:/Windows/Fonts/malgun.ttf\").get_name()\n",
    "rc('font', family=font_name)"
   ]
  },
  {
   "cell_type": "code",
   "execution_count": 8,
   "metadata": {
    "collapsed": true
   },
   "outputs": [],
   "source": [
    "beer = open('beer_txt.txt').read()"
   ]
  },
  {
   "cell_type": "code",
   "execution_count": 9,
   "metadata": {},
   "outputs": [
    {
     "data": {
      "text/plain": [
       "'맥주\\n위키백과, 우리 모두의 백과사전.\\nDutch beers.jpg\\nBeer wuerzburger hofbraue v.jpg\\n맥주(麥酒) 또는 비어(독일어: Bier, 영어: beer)는 보리를 가공한 맥아(麥芽)를 발효한 술로서 알코올은 맥주의 종류에 따라 2~18% 정도의 다양한 도수를 가진 술이다. 즉, 맥주는 한자 그대로 보리를 발효시켜 만든 술이다.\\n\\n맥주는 고대 문명의 농업의 번창함을 표현한 인류학적 증거라는 견해가 있다.[1]\\n\\n맥주는 기원전 6000년부터 양조되어, 세계에서 가장 오래된 알코올 음료로 알려져 있다. 수메르, 아시리아, 바빌로니아, 이집트 등지에서 보리와 밀을 경작하면서 맥주의 양조가 발달되었다. 함무라비 법전에서도 맥주에 관한 법률이 나와 있다.\\n\\n목차  [숨기기] \\n1\\t역사\\n1.1\\t한국 맥주 제조회사의 역사\\n2\\t양조\\n3\\t원료\\n4\\t종류\\n5\\t생산과 목적\\n6\\t세계의 맥주\\n7\\t맥주 관련 축제\\n7.1\\t국내 맥주 축제\\n7.2\\t외국 맥주 축제\\n8\\t같이 보기\\n9\\t각주\\n역사[편집]\\n맥주는 인류가 유목생활에서 정착생활로 전환해 농경생활을 하면서부터 만들어진 음료이다. 기원전 4000년경 티그리스 강과 유프라테스 강 사이에 위치한 메소포타미아의 수메르인들에 의해 탄생했다는 것이 현재 정설로 받아들여지고 있다. 수메르인들은 곡물로 만든 빵을 분쇄한 다음 맥아를 넣고 물을 부은 뒤 발효시키는 방법으로 맥주를 제조했다고 한다. 또한 기원전 3000년경부터는 이집트 지역에서도 맥주를 생산하기 시작했다.\\n\\n이후 맥주는 그리스인과 로마인들에 의해 유럽으로 건너가 중세시대에는 수도원에서 맥주의 양조를 담당했다. 수도사들이 금식기간 동안 기분 좋은 맛을 내는 음료를 마시기 원했기 때문이었다. 8세기경 영국의 에일(ale)과 포터(porter)가 만들어졌고, 10세기경부터는 맥주에 쌉쌀한 맛을 내는 홉을 첨가했다.\\n\\n맥주는 19세기 산업혁명 시기에 비약적인 발전을 했다. 영국의 제임스 와트(JamesWatt)가 만든 증기기관은 물의 이송과 맥아의 분쇄, 맥즙의 교반 등에 동력을 사용할 수 있게 하며 맥주의 대량 생산을 가능하게 했다.\\n\\n또한 독일의 카를 폰 린데(CarlvonLinde)는 냉동기를 발명해 겨울에만 만들 수 있었던 하면발효 맥주를 계절에 관계없이 양조할 수 있도록 했다. 프랑스의 루이 파스퇴르(LouisPasteur)는 술이 효모의 작용에 의해 생성된다는 사실과 열처리 살균법을 발명했고, 덴마크의 에밀 한센(EmilHansen)은 파스퇴르의 이론을 응용해 효모의 순수배양법을 개발하면서 맥주의 품질을 높였다.\\n\\n우리나라에 처음 맥주가 들어온 것은 1883년이며 맥주를 우아(벗우, 아이아)로 표기하였는데 비어(beer)의 영어발음을 한자로 표기한 것으로 추측된다.\\n\\n한국 맥주 제조회사의 역사[편집]\\n한국에서 맥주가 처음 생산된 것은 1933년 일본의 대일본맥주(주)가 조선맥주(하이트맥주 전신), 기린맥주(주)가 소화기린맥주(오비맥주 전신)를 설립하면서부터였다. 1945년 광복과 함께 두 맥주회사는 미군정에 의해 관리되었고, 1951년에 민간에 불하되었다. 1992년에는 진로쿠어스맥주(주)가 설립되면서 하이트맥주, OB맥주, 카스맥주 등 3개 회사에서 맥주를 양조했다. 이후 카스맥주가 OB맥주에 인수되었고, 현재는 하이트진로(주)와 OB맥주(주)에서 맥주를 생산하고 있다.[2]\\n\\n양조[편집]\\n보리와 밀을 가공한 엿기름을 더운 물에 담가 엿기름의 녹말을 당분으로 변화시킨다. 곡물 찌꺼기를 걸러낸 뒤 남은 맥아즙에 홉을 넣어 끓인다. 맥아즙이 서늘해지면 효모를 추가하여 발효시킨다. 효모는 당분을 에틸 알코올, 탄산 가스와 맥주의 맛에 영향을 주는 다른 성분으로 분해하는데, 이 과정을 발효라 한다. 병이나 캔 등에 담기 전에 효모를 없애기도 하며, 맥주를 몇 주나 몇 달간 놔둔다. 일정기간 저장·숙성한 후 여과하여 바로 제품화하면 생맥주가 되고, 병이나 캔에 넣어 저온살균 처리하면 오래 보관할 수 있는 맥주가 되는데, 그 공정은 다음과 같다.\\n\\n맥아 : 맥아제조는 보리를 싹틔워 맥아효소인 아밀라아제(amylase)를 생성하는 것이 주된 목적이다. 수확 직후의 보리는 일정기간 저장하여 충분한 발아력을 갖도록 해야 하는데, 이 기간을 보리의 휴면 기간이라 한다. 휴면이 끝난 보리는 정선기(精選機)를 통하여 협잡물을 제거하고, 균질한 맥아를 만들기 위하여 알갱이의 크기에 따라 나눈다. 알갱이가 균일한 것으로 골라진 보리를 물에 담가 발아에 필요한 수분을 흡수시킨 후 발아실에 옮겨 습기 있는 공기를 공급해 발아시킨다. 건조를 마친 맥아는 탈근기에 넣어 맥주에 불쾌한 맛을 주는 유근과 먼지를 제거한다. 정제한 맥아는 20℃ 이하에서 습기가 차지 않도록 저장한 후 사용한다.\\n맥아즙 : 맥아즙제조는 맥아의 분쇄, 담금, 여과, 끓임과 홉 첨가, 냉각 등의 공정으로 이루어진다. 먼저 정선된 맥아를 분쇄하고 물과 온도를 맞춰 담금 공정을 한다. 이 담금 공정에서 맥아효소의 작용으로 맥아 중의 불용성 물질이 가용성화 되고, 전분은 당으로 변하며 침출된다. 담금 공정이 끝나면 맥아즙을 여과기에 걸러내고, 홉을 첨가한 후 끓여준다. 맥아즙을 끓이면 살균 효과는 물론이고, 홉으로부터 맥주 특유의 쌉쌀한 맛이 추출되고 모든 효소의 활성도 없어진다. 끓인 맥아즙은 냉각기로 급랭시켜 발효실로 보낸다.\\n발효 : 발효는 주발효와 후발효로 나뉜다. 주발효는 전발효라고도 하며 냉각된 맥아즙에 효모를 첨가하여 알코올 발효를 하는 것이다. 후발효는 저장이라고도 하며, 맛의 숙성을 위해 약 0℃에서 1-3개월간 저온으로 발효시키는 것이다.\\n여과 : 저장탱크에서 숙성된 맥주는 여과해서 투명한 맥주로 만든다. 여과방법은 일반적으로 압착 여과기를 사용해 효모를 제거한 후 필터로 여과시킨다. 여과 후 후발효 탱크에 남은 효모를 회수하여 물로 씻고 정제하여 약용효모로 사용한다.\\n제품 : 여과된 맥주를 열처리하지 않고 제품화한 것이 생맥주이고, 열처리하여 효소나 효모의 활성을 정지시킨 것이 보존성이 높은 보통 맥주이다. 생맥주는 신선한 향미를 즐길 수 있으나 오래 보존할 수 없다. 보통 맥주는 60℃에서 30분간 가온하여 살균하거나 빙점(氷點) 하에서 효모를 제거해 6개월에서 1년 정도 보존할 수 있다.[3]\\n원료[편집]\\n맥주는 양조용수·보리·홉 등이 주원료로 된다. 나라와 지역에 따라 쌀·옥수수·녹말·당류 등을 녹말질 보충원료로 사용하며, 그 비율은 그 나라의 사정이나 기호에 따라 다르다(독일에서는 1815년 이후 수출맥주 이외의 하면발효맥주에는 부원료 사용이 금지되어 있다).\\n\\n양조용수 : 맥주 양조에는 양조용수·제맥아용수 등 좁은 뜻의 양조용수와 기구의 세척·보일러용수·냉각용수를 포함한 넓은 뜻의 양조용수가 필요하며, 일반적으로 맥주생산량의 10∼20배 가량의 물이 필요하다. 양조용수는 맥주의 종류 및 품질을 좌우하는 직접적 요인으로, 무색·무취·투명하여야 하고 함유된 염류나 미량원소들의 조성도 중요하다. 보통 경수(硬水)는 맥주의 색이 짙고 깊은 맛을 내는 스타우트(stout), 에일(ale) 등을 만드는데 적합하고, 연수(軟水)는 깨끗하고 부드러운 라거(lager) 등을 만드는데 주로 이용된다.\\n보리 : 보리를 싹틔워 맥아로 만든 것이 맥주의 주원료가 된다. 일반적으로 맥주용 보리는 두줄보리가 쓰이나 여섯줄보리를 쓰는 나라도 있다. 맥주용 보리는 곡립이 고르고 녹말질이 많고 단백질이 적으며 곡피(穀皮)가 얇고 발아력이 왕성한 것이 좋다.\\n홉 : 홉은 맥주에 특유의 향기와 쓴맛을 부여하는 중요한 첨가물이다. 맥아즙의 단백질을 침전시켜 맥주를 맑게 하고 잡균의 번식을 방지하여 보존성을 높여주는 등의 효과도 있다.[4]\\n종류[편집]\\n맥주는 분류 기준에 따라 다양한 종류가 있으나 일반적으로는 상면발효 맥주와(에일, Ale) 하면발효 맥주로(라거, Lager) 나눌 수 있다.\\n\\n상면 발효 맥주는 인류 문명 발생 이전부터 만들어진 맥주로서 발효 과정에서 사카로마이세스 세레비지에(SaccharomycesCerevisiae)라는 효모가 맥주 위로 거품처럼 뜬다. 이 맥주가 선사시대부터 만들어질 수 있었던 이유는 인위적인 발효온도를 설정할 수 있는 기술 없이도 가능했기 때문이며, 유럽 여러 나라에서는 지역별로 다양한 형태로 발전해 왔다. 독일의 바이스비어나 쾰쉬, 영국의 에일이나 스타우트, 포터 같은 맥주가 상면발효 맥주에 속한다. 상면발효맥주는 맥아농도가 높고, 10도에서 25도 사이의 상온에서 발효를 하기 때문에 색이 짙고 알코올 도수도 높은 편이다.\\n\\n하면 발효 맥주는 19세기 중반에 처음 만들어진 맥주로서 상면발효 맥주보다 낮은 온도인 섭씨 12도 전후에서 발효하며, 발효 과정에서 사카로마이세스 카를스베르겐시스(Saccharo-mycesCarlsbergensis)라는 효모가 바닥으로 가라앉는다. 독일의 양조사인 조셉 그롤이 체코의 필센 지방에 있는 양조장에서 처음으로 양조에 성공했는데, 이 양조장의 지하 저장고가 서늘했기 때문에 양조가 가능했다. 하면 발효 맥주는 저온에서 발효를 하기 때문에 깨끗하고 부드러운 맛과 향이 특징이다. 전세계 맥주의 70%를 차지하고 있고, 라거(lager)가 대표적이다.양조법에 따라서는 드라이(dry) 맥주, 디허스크(Dehusk) 맥주, 아이스(ice) 맥주로 구분되고, 살균여부에 따라서는 생맥주와 보통맥주로 나뉜다.\\n\\n상면발효 맥주는 효모와 부유단백질 등이 맥주에 떠 있기 때문에 일반적으로 탁하고 걸쭉한 맛을 내는 반면에 하면발효 맥주는 바닥에 가라앉은 효모와 부유단백질을 제거하기 때문에 맑은 황금색을 띠는 것이 일반적이다.\\n\\n또한 알코올 함량에 따라서 무알코올성 맥아음료, 비알코올성 맥아음료, 라이트 맥주 등으로 구분하기도 한다.[5]\\n\\n생산과 목적[편집]\\n독일 바바리아에 베네딕토 Weihenstephan 맥주는 그 해로부터 문서가 홉 정원에 11조를 지불했음을 언급함으로서 768년에 그 근원을 찾을 수 있었다. 양조장은 1040년에 프 라이징시에 의해 허가를 받았고 따라서 세계에서 가장 오래된 양조장이 된다. 불연속적인 생산으로 가장 오래된 양조장은 993년에 설립된 체코의 B?evnov 수도원이다.\\n\\n양조 산업은 여러 가지 지배적인 다국적 기업 및 지역 양조장에서 선술집에 이르는 수 천명의 작은 생산자들로 구성된글로벌 비지니스이다. 2006년 판매 기준 $294.5 billion(￡ 147.7 억 달러)으로 세계 총 판매 수익을 생산하며 1천 3백 30억 리터 이상이(3백 50억 갤런)매년 팔리고 있다.\\n\\n양조장 또는 공예 양조장은 제한된 양의 맥주를 생산하는 현대 양조장이다. 양조장이 생산할 수 있는 맥주 최대량은 지역 및 기관에 따라 다르지만 보통 한 해당 약 15,000 배럴(1.8 메가 리터, 396000 제국 갤런 또는 475000 미국 갤런)이다. brewpub은 술집이나 다른 음식점들을 통합한 양조장 유형이다.\\n\\n세계에서 가장 높은 밀도의 양조장은 대부분 프랑켄의 독일 지역에 있다. 특히 약 200양조장을 가진 오버프랑켄 현 지역에 있다.\\n\\n집에서 양조를 하는 것은 많은 나라에서 규제와 금지 적용을 받고있다. Homebrewing에 대한 규제는 1963년에 영국에서 해제되었다. 또한 호주는 1972년에, 미국은 1978년에 법을 해제시켰다. 그러나 몇 개의 주에서는 생산을 제한하는 그들만의 법을 통과시키는 것이 허락되었다.[6]\\n\\n세계의 맥주[편집]\\n독일, 덴마크, 아일랜드, 체코, 벨기에, 네덜란드 등지에서 생산되는 맥주는 세계적으로 유명하다. 특히 맥주의 흥행국 독일에서는 전국에 걸쳐 1,000 여종의 맥주가 있다고 한다. 독일은 맥주를 가장 많이 소비하는 국가이고 체코는 맥주를 가장 많이 생산하는 국가이다. 뮌헨의 아우구스티너, 파울라너, 호프브로이하우스, 뢰벤브로이 등과 함부르크의 홀슈텐, 아스트라, 하노버의 헤렌호이저, 브레멘의 벡스 맥주 등, 각 지역마다 독특한 양조 기술을 가지고 있는 편이다. 벨기에는 전통적인 방식으로 양조하는 트라피스트 맥주 6종류를 비롯해 듀블(dubbel), 트리플(tripel) 등 도수가 높은 에일 맥주, 신맛과 과일 향이 강한 귀즈 (Gueuze) 를 비롯한 여러 람빅 맥주 등이 있다. 독일의 맥주보다 벨기에의 맥주에 넣는 재료가 더 다양한 편이다. 이 밖에, 네덜란드에서는 UEFA 챔피언스 리그의 공식 스폰서인 하이네켄 맥주가 유명하고, 덴마크에서는 한때 리버풀의 스폰서이자 한국에서도 잘 알려진 칼스버그 맥주가 유명하다. 아일랜드는 유명한 기록 책인 기네스 북을 발간하는 흑맥주 회사 기네스 맥주가 유명하고, 미국의 유명 맥주는 버드와이저, 밀러가 전 세계적으로 알려졌다. 인도네시아 현지 맥주로는 빈땅 맥주가 있다.\\n\\n맥주 관련 축제[편집]\\n국내 맥주 축제[편집]\\n송도 맥주 축제 http://songdobeer.com/\\n음악페스티벌과 맥주축제가 함께 진행되고 있다. 국내의 맥주들은 물론 러시아 중국 일본 등 맥주를 만날 수 있는 ‘동북아 맥주 대전’과 세계의 다양한 맥주를 맛 볼 수 있는 행사가 진행되고 있다.\\n대구 치맥 페스티벌 http://chimacfestival.com/\\n역대 최대 85개 업체가 참가한 대구 치킨 맥주 페스티벌에선 치킨을 25만 5000여 마리, 맥주는 25만 리터가 준비될 만큼 굉장히 큰 축제이다. 두류공원에서 개최됐다. 치킨을 주제로 한 패션쇼와 전설의 복면가왕, 닭싸움 대회, 수제 맥주와 칵테일 경연대회, 각종 버스킹 등으로 많은 이벤트가 있다.\\n센텀 맥주 축제(부산 맥주 축제) http://beerfestival.co.kr/\\n무제한 맥주와 함께 부산 밤바다를 즐길 수 있는 축제다. 맥주를 마시면서 즐길 수 있는 다양한 이벤트 들이 있다. DJ 퍼포먼스, 댄스경연대회, 음악과 댄스 팀들과 함께 도심속 야외 클럽을 느낄수있다. 뜨거운 여름밤 시원한 바람을 맞으며 진정한 여름축제를 느끼며 시원하게 맥주를 마실 수 있다.\\n외국 맥주 축제[편집]\\n삿포르 맥주 축제(일본) http://www.sapporo-natsu.com/beergarden/\\n일본 홋카이도에서 가장 큰 도시인 삿포르에서 매년 여름마다 ‘삿포르 맥주 축제’가 열린다. 삿포르 맥주를 비롯하여 아사히, 산토리, 기린 등 일본 유수의 맥주 브랜드들이 참가하기 때문에 각 브랜드마다 홋카이도 한정 맥주를 판매하는 등 평소에는 접하기 힘든 독특한 맥주와 먹거리를 즐길 수 있다.\\n칭다오 세계 맥주 축제(중국) http://www.qdbeer.cn/\\n칭다오 세계 맥주 축제는 아시아 최대 맥주 축제이자 세계 4대 맥주 축제로 인정받고 있다. 축제가 진행되는 동안 칭다오시에는 음주 대회를 비롯해 다양한 음식과 공연이 펼쳐진다. 한국에서 열리는 대구 치맥 페스티벌과 칭다오 국제 맥주 축제가 양도시를 대표하는 치킨/맥주 관련 축제라는 것을 공동으로 인식하고 축제 상호 간 우호 협력을 강화하여 이해 증진을 목적으로 하는 MOU협약을 최근에 맺었다고 한다.\\n옥토버페스트(독일) http://www.oktoverfest.de/de\\n독일의 맥주 축제인 옥토버페스트는 독일 뮌헨의 민속 축제이자, 세계에서 열리는 맥주 축제 중 가장 규모가 큰 축제이다. 민속 의상을 차려입은 시민과 방문객 8,000여 명이 어우러져 뮌헨 시내 7km를 가로지르는 시가행진이 큰 볼거리이다. 축제 기간에는 회전목마, 대관람차, 롤러코스터 같은 놀이기구 80여 종을 포함하여 서커스, 팬터마임, 영화 상영회, 음악회 등 남녀노소 함께 할 수 있는 볼거리가 운영된다.\\n같이 보기[편집]\\n발포주\\n소맥\\n치맥\\n가맥집\\n맥주 순수령\\n그래비티 (술)(비중, en:Gravity (alcoholic beverage))\\n하이그래비티 맥주(en:High-gravity beer)\\n대한민국의 맥주(en:Beer in Korea)\\n오비맥주\\n하이트진로\\n롯데주류\\n코리아크래프트브류어리\\n세븐브로이\\n장앤크래프트브루어리\\n조선민주주의인민공화국의 맥주\\n대동강맥주\\n압록강맥주\\n룡성맥주\\n독일의 맥주\\n각주[편집]\\n이동 ↑ “<과학> \"맥주가 문명 발상의 윤활유\"”. 연합뉴스. 2010년 11월 8일. 2010년 11월 22일에 확인함.\\n이동 ↑ “\"맥주의 역사\"”. 《네이버 두산백과》. 2015년 12월 10일에 확인함.\\n이동 ↑ “맥주의 제조”. 《네이버 두산백과》. 2015년 12월 10일에 확인함.\\n이동 ↑ “맥주의 원료”. 《네이버 두산백과》. 2015년 12월 10일에 확인함.\\n이동 ↑ “맥주의 종류”. 《네이버 지식백과 (두산백과)》. 2015년 12월 10일에 확인함.\\n이동 ↑ “Production and trade”.\\n[숨기기]v ? d ? e ? h술\\n역사\\t\\n술의 역사 맥주의 역사 샴페인의 역사 포도주의 역사 프랑스 포도주의 역사 리오하 포도주의 역사\\n생산\\t\\n양조 증류 포도주 양조\\n양조주\\t\\n맥주 (종류) 포도주 (종류) 사과주 (종류) 봉밀주 (종류) 미주 (종류) 기타 양조주\\n증류주\\t\\n브랜디 (종류) 진 (종류) 리큐어 (종류) 럼 (종류) 테킬라 (종류) 보드카 (종류) 위스키 (종류) 기타 증류주\\n강화 포도주\\t\\n마데이라 포도주 (종류) 셰리 (종류) 베르무트 (종류) 마르살라 포도주 포르투 포도주 기타 강화 포도주\\n곡물 증류주\\t\\n보리 (아이리시 위스키 재패니즈 위스키 스카치 위스키) 옥수수 (버번 위스키 옥수수 위스키 테네시 위스키) 쌀 (막걸리 미바이주 소주 아와모리) 호밀 (호밀 위스키) 수수 (바이주 고량주)\\n과일 증류주\\t\\n사과 (애플잭 칼바도스) 캐슈 애플 (페니) 코코넛 (아라크) 포도 (아라크 아르마냐크 브랜디 코냑 피스코) 자두 (슬리보비츠 투이커) 지게미 (그라파 지게미 브랜디 오루호 치쿠디아 치푸로 지바니아 차차) 기타 과일 (오드비 키르시바서 팔린카 라키야 슈납스)\\n기타 증류주\\t\\n용설란 (메스칼 테킬라) 사탕수수 / 당밀 (아구아르디엔테 카샤사 클래랭 럼 세코 에레라노 타라) 기타 곡물 / 감자 (아쿠아비트 바이주 캐나디안 위스키 포틴 쇼츄 보드카 위스키)\\n리큐어\\t\\n아몬드 (아마레토 크렘 드 노요) 아니스 (압생트 아라크 우조 라크 파스티스 삼부카 초콜릿 리큐어) 계피 (텐투라) 코코넛 (말리부 럼) 커피 (칼루아 티아 마리아) 달걀 (아드보카트) 개암 (프란젤리코) 허브 (아쿠아비트 베네딕탱 브레니빈 크렘 드 망트 메타사 민투) 벌꿀 (베렌팡 드람뷰이 크루프니크) 노간주 (진 예너버르) 오렌지 (캄파리 퀴라소 트리플 섹) 팔각 (사솔리노) 사탕수수 / 당밀 (차란다) 기타 과일 (크렘 드 바난 크렘 드 카시스 리몬첼로 슈납스 슬로 진)\\n전거 통제\\t\\nLCCN: sh85012832 GND: 4006537-6 HDS: 13991 NDL: 00560674\\n분류: 맥주발효 식품'"
      ]
     },
     "execution_count": 9,
     "metadata": {},
     "output_type": "execute_result"
    }
   ],
   "source": [
    "beer"
   ]
  },
  {
   "cell_type": "code",
   "execution_count": null,
   "metadata": {
    "collapsed": true
   },
   "outputs": [],
   "source": [
    "wordcloud_1 = WordCloud().generate(beer)"
   ]
  },
  {
   "cell_type": "code",
   "execution_count": null,
   "metadata": {
    "collapsed": true
   },
   "outputs": [],
   "source": [
    "wordcloud_1.words_"
   ]
  },
  {
   "cell_type": "code",
   "execution_count": null,
   "metadata": {
    "collapsed": true
   },
   "outputs": [],
   "source": [
    "beer_pic = np.array(Image.open('beer_pic.jpg'))"
   ]
  },
  {
   "cell_type": "code",
   "execution_count": null,
   "metadata": {
    "collapsed": true
   },
   "outputs": [],
   "source": [
    "beer_pic"
   ]
  },
  {
   "cell_type": "code",
   "execution_count": null,
   "metadata": {
    "collapsed": true
   },
   "outputs": [],
   "source": [
    "plt.imshow(beer_pic, cmap=plt.cm.gray)\n",
    "plt.axis('off')"
   ]
  },
  {
   "cell_type": "code",
   "execution_count": null,
   "metadata": {
    "collapsed": true
   },
   "outputs": [],
   "source": [
    "stopwords = set(STOPWORDS)\n",
    "STOPWORDS"
   ]
  },
  {
   "cell_type": "code",
   "execution_count": null,
   "metadata": {
    "collapsed": true
   },
   "outputs": [],
   "source": [
    "from konlpy.tag import Twitter, Kkma"
   ]
  },
  {
   "cell_type": "code",
   "execution_count": null,
   "metadata": {
    "collapsed": true
   },
   "outputs": [],
   "source": [
    "tw=Twitter()"
   ]
  },
  {
   "cell_type": "code",
   "execution_count": null,
   "metadata": {
    "collapsed": true
   },
   "outputs": [],
   "source": [
    "kkma=Kkma()"
   ]
  },
  {
   "cell_type": "code",
   "execution_count": null,
   "metadata": {
    "collapsed": true
   },
   "outputs": [],
   "source": [
    "kkma.sentences(\"안녕하세용\")"
   ]
  },
  {
   "cell_type": "code",
   "execution_count": null,
   "metadata": {
    "collapsed": true
   },
   "outputs": [],
   "source": [
    "kkma.nouns(\"한인수입니다. 명사만 빼보세요 하하\")"
   ]
  },
  {
   "cell_type": "code",
   "execution_count": null,
   "metadata": {
    "collapsed": true
   },
   "outputs": [],
   "source": [
    "kkma.pos(\"형태소 분석, pos 분석을 해보세요. 하하\")"
   ]
  },
  {
   "cell_type": "code",
   "execution_count": null,
   "metadata": {
    "collapsed": true
   },
   "outputs": [],
   "source": [
    "from matplotlib import font_manager, rc\n",
    "font_name = font_manager.FontProperties(fname=\"C:/Windows/Fonts/malgun.ttf\").get_name()\n",
    "rc('font', family=font_name)"
   ]
  },
  {
   "cell_type": "code",
   "execution_count": null,
   "metadata": {
    "collapsed": true
   },
   "outputs": [],
   "source": [
    "ko_nouns = tw.nouns(beer)"
   ]
  },
  {
   "cell_type": "code",
   "execution_count": null,
   "metadata": {
    "collapsed": true
   },
   "outputs": [],
   "source": [
    "stop_words=['제', '월', '일','조','수','때','그','이','바','및','안']\n",
    "ko_nouns=[word for word in ko_nouns if word not in stop_words]"
   ]
  },
  {
   "cell_type": "code",
   "execution_count": null,
   "metadata": {
    "collapsed": true
   },
   "outputs": [],
   "source": [
    "ko = nltk.Text(ko_nouns, name='맥주')"
   ]
  },
  {
   "cell_type": "code",
   "execution_count": null,
   "metadata": {
    "collapsed": true
   },
   "outputs": [],
   "source": [
    "data = ko.vocab().most_common(500)"
   ]
  },
  {
   "cell_type": "code",
   "execution_count": null,
   "metadata": {
    "collapsed": true
   },
   "outputs": [],
   "source": [
    "tmp_data=dict(data)"
   ]
  },
  {
   "cell_type": "code",
   "execution_count": null,
   "metadata": {
    "collapsed": true
   },
   "outputs": [],
   "source": [
    "wordcloud = WordCloud(font_path='C:/Windows/Fonts/malgun.ttf',\n",
    "                      background_color='white'\n",
    "                     ,relative_scaling =0.2).generate_from_frequencies(tmp_data)"
   ]
  },
  {
   "cell_type": "code",
   "execution_count": null,
   "metadata": {
    "collapsed": true
   },
   "outputs": [],
   "source": [
    "plt.figure(figsize=(16, 8))\n",
    "plt.imshow(wordcloud)\n",
    "plt.axis('off')"
   ]
  },
  {
   "cell_type": "code",
   "execution_count": null,
   "metadata": {
    "collapsed": true
   },
   "outputs": [],
   "source": [
    "import numpy as np"
   ]
  },
  {
   "cell_type": "code",
   "execution_count": null,
   "metadata": {
    "collapsed": true
   },
   "outputs": [],
   "source": [
    "from PIL import Image"
   ]
  },
  {
   "cell_type": "code",
   "execution_count": null,
   "metadata": {
    "collapsed": true
   },
   "outputs": [],
   "source": [
    "from wordcloud import ImageColorGenerator"
   ]
  },
  {
   "cell_type": "code",
   "execution_count": null,
   "metadata": {
    "collapsed": true
   },
   "outputs": [],
   "source": [
    "beer_color = np.array(Image.open('beer_pic.jpg'))"
   ]
  },
  {
   "cell_type": "code",
   "execution_count": null,
   "metadata": {
    "collapsed": true
   },
   "outputs": [],
   "source": [
    "image_color = ImageColorGenerator(beer_color)"
   ]
  },
  {
   "cell_type": "code",
   "execution_count": null,
   "metadata": {
    "collapsed": true
   },
   "outputs": [],
   "source": [
    "plt.figure(figsize=(12, 12))\n",
    "plt.imshow(beer_color, cmap='gray')\n",
    "plt.axis('off')"
   ]
  },
  {
   "cell_type": "code",
   "execution_count": null,
   "metadata": {
    "collapsed": true
   },
   "outputs": [],
   "source": [
    "wordcloud = WordCloud(font_path='C:/Windows/Fonts/malgun.ttf',\n",
    "                     relative_scaling = 0.2,\n",
    "                     mask = beer_color, \n",
    "                     background_color = 'white',\n",
    "                     min_font_size=1, max_font_size=40).generate_from_frequencies(tmp_data)"
   ]
  },
  {
   "cell_type": "code",
   "execution_count": null,
   "metadata": {
    "collapsed": true
   },
   "outputs": [],
   "source": [
    "plt.figure(figsize=(12,12))\n",
    "plt.imshow(wordcloud.recolor(color_func=image_color))\n",
    "plt.axis('off')"
   ]
  },
  {
   "cell_type": "code",
   "execution_count": null,
   "metadata": {
    "collapsed": true
   },
   "outputs": [],
   "source": []
  }
 ],
 "metadata": {
  "kernelspec": {
   "display_name": "Python 3",
   "language": "python",
   "name": "python3"
  },
  "language_info": {
   "codemirror_mode": {
    "name": "ipython",
    "version": 3
   },
   "file_extension": ".py",
   "mimetype": "text/x-python",
   "name": "python",
   "nbconvert_exporter": "python",
   "pygments_lexer": "ipython3",
   "version": "3.6.1"
  }
 },
 "nbformat": 4,
 "nbformat_minor": 2
}
