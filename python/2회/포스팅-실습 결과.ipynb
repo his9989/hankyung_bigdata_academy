{
 "cells": [
  {
   "cell_type": "markdown",
   "metadata": {},
   "source": [
    "## 실습 문제"
   ]
  },
  {
   "cell_type": "markdown",
   "metadata": {},
   "source": [
    "이름, 통장 잔액을 입력받아\n",
    "다음의 형태로 출력하는 프로그램을 작성하시오\n",
    "\"(성을 제외한 이름)의 통장 잔액은 n자리 입니다.\""
   ]
  },
  {
   "cell_type": "code",
   "execution_count": 7,
   "metadata": {},
   "outputs": [
    {
     "name": "stdout",
     "output_type": "stream",
     "text": [
      "이름을 입력하세요: 한인수\n",
      "통장 잔액을 입력하세요: 1234567\n",
      "인수의 통장 잔액은 7자리입니다.\n"
     ]
    }
   ],
   "source": [
    "name = input(\"이름을 입력하세요: \")\n",
    "first_name = name[1:]\n",
    "money = input(\"통장 잔액을 입력하세요: \")\n",
    "money_number = len(money)\n",
    "print(\"{0}의 통장 잔액은 {1}자리입니다.\"\n",
    "     .format(first_name, money_number))"
   ]
  },
  {
   "cell_type": "markdown",
   "metadata": {},
   "source": [
    "세 과목(국어, 수학, 영어) 성적을 input() 함수로 입력받아 \n",
    "세 과목의 총점과 평균을 구하는 프로그램을 작성하시오."
   ]
  },
  {
   "cell_type": "code",
   "execution_count": null,
   "metadata": {},
   "outputs": [],
   "source": [
    "korea_score = int(input(\"국어 성적을 입력하세요 : \"))\n",
    "        # 국어 성적을 입력하시오\n",
    "math_score = int(input(\"수학 성적을 입력하세요 : \"))\n",
    "        # 수학 성적을 입력하시오\n",
    "Eng_score = int(input(\"영어 성적을 입력하세요 : \"))\n",
    "        # 영어 성적을 입력하시오\n",
    "print(\"\\n입력받은 성적\\n---------------\")\n",
    "print(\"국어 성적 : {0}\\n수학 성적 : {1}\\n영어 성적 : {2}\"\n",
    "     .format(korea_score, math_score, Eng_score))\n",
    "        # 국어, 수학, 영어 성적을 순서대로 .format에 넣어서\n",
    "        # {0}, {1}, {2}에 순서대로 출력하시오\n",
    "print(\"\\n---------------\\n\")\n",
    "summ=korea_score+math_score+Eng_score\n",
    "        # 세 과목의 성적을 summ에 저장\n",
    "evg=summ/3\n",
    "        # 저장한 값의 평균을 evg에 저장\n",
    "print(\"총점 : \", summ)\n",
    "        # summ의 값을 출력하시오\n",
    "print(\"평균 : \", format(evg, '0.2f'))\n",
    "        # evg의 값을 소수점 2째 자리까지 출력하시오"
   ]
  }
 ],
 "metadata": {
  "kernelspec": {
   "display_name": "Python 3",
   "language": "python",
   "name": "python3"
  },
  "language_info": {
   "codemirror_mode": {
    "name": "ipython",
    "version": 3
   },
   "file_extension": ".py",
   "mimetype": "text/x-python",
   "name": "python",
   "nbconvert_exporter": "python",
   "pygments_lexer": "ipython3",
   "version": "3.6.1"
  }
 },
 "nbformat": 4,
 "nbformat_minor": 2
}
