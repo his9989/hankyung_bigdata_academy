{
 "cells": [
  {
   "cell_type": "code",
   "execution_count": 20,
   "metadata": {},
   "outputs": [
    {
     "name": "stdout",
     "output_type": "stream",
     "text": [
      "국어 성적을 입력하세요 : 90\n",
      "수학 성적을 입력하세요 : 100\n",
      "영어 성적을 입력하세요 : 80\n",
      "총점 :  270\n",
      "평균 :  90.00\n"
     ]
    }
   ],
   "source": [
    "korea_score = int(input(\"국어 성적을 입력하세요 : \"))\n",
    "        # 국어 성적을 입력하시오\n",
    "math_score = int(input(\"수학 성적을 입력하세요 : \"))\n",
    "        # 수학 성적을 입력하시오\n",
    "Eng_score = int(input(\"영어 성적을 입력하세요 : \"))\n",
    "        # 영어 성적을 입력하시오\n",
    "summ=korea_score+math_score+Eng_score\n",
    "        # 세 과목의 성적을 summ에 저장\n",
    "evg=summ/3\n",
    "        # 저장한 값의 평균을 evg에 저장\n",
    "print(\"총점 : \", summ)\n",
    "        # summ의 값을 출력하시오\n",
    "print(\"평균 : \", format(evg, '0.2f'))\n",
    "        # evg의 값을 소수점 2째 자리까지 출력하시오"
   ]
  }
 ],
 "metadata": {
  "kernelspec": {
   "display_name": "Python 3",
   "language": "python",
   "name": "python3"
  },
  "language_info": {
   "codemirror_mode": {
    "name": "ipython",
    "version": 3
   },
   "file_extension": ".py",
   "mimetype": "text/x-python",
   "name": "python",
   "nbconvert_exporter": "python",
   "pygments_lexer": "ipython3",
   "version": "3.6.1"
  }
 },
 "nbformat": 4,
 "nbformat_minor": 2
}
