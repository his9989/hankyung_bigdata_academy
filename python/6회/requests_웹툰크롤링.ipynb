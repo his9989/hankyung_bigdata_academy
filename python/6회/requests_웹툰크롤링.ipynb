{
 "cells": [
  {
   "cell_type": "markdown",
   "metadata": {},
   "source": [
    "# 마술사크롤링"
   ]
  },
  {
   "cell_type": "code",
   "execution_count": 10,
   "metadata": {
    "collapsed": true
   },
   "outputs": [],
   "source": [
    "# requests 패키지 로드\n",
    "import requests\n",
    "import os"
   ]
  },
  {
   "cell_type": "code",
   "execution_count": null,
   "metadata": {
    "collapsed": true
   },
   "outputs": [],
   "source": [
    "image_urls =[]\n",
    "\n",
    "for i in range(1,41):\n",
    "    image_urls.append(\"http://imgcomic.naver.net/webtoon/24965/526/20180110120735_4aaffbed6afd7563f1e770710f24907c_IMAG01_{}.jpg\"\n",
    "                      .format(i))\n",
    "    \n",
    "for image_url in image_urls:\n",
    "    headers = {\n",
    "        'Referer' : \"http://comic.naver.com/webtoon/list.nhn?titleId=20853&weekday=tue\"}\n",
    "#    response = requests.get(image_url)\n",
    "\n",
    "    response = requests.get(image_url,headers=headers)\n",
    "    \n",
    "    image_data = response.content \n",
    "    #.content Raw data, byte 타입 가져오기 / .text : Raw Data에 대해 서버 응답의 content-type 인코딩으로 디코딩을을 시도한 유니코드 문자열\n",
    "    filename = os.path.basename(image_url)\n",
    "    with open(filename, 'wb') as f:\n",
    "        print('writing to {} ({} bytes)'.format(filename, len(image_data)))\n",
    "        f.write(image_data)"
   ]
  },
  {
   "cell_type": "markdown",
   "metadata": {},
   "source": [
    "# 네이버 웹툰"
   ]
  },
  {
   "cell_type": "code",
   "execution_count": null,
   "metadata": {
    "collapsed": true
   },
   "outputs": [],
   "source": [
    "import os\n",
    "import requests\n",
    "# URL 소스 : http://comic.naver.com/webtoon/detail.nhn?titleId=119874&no=1015&weekday=tue\n",
    "# - 덴마. 3-12화 1. 다이크(12)\n",
    "\n",
    "image_urls = [\n",
    " 'http://imgcomic.naver.net/webtoon/119874/1015/20170528204207_6e9df8e618b97520233bbb35e7d4eaaf_IMAG01_1.jpg',\n",
    " 'http://imgcomic.naver.net/webtoon/119874/1015/20170528204207_6e9df8e618b97520233bbb35e7d4eaaf_IMAG01_2.jpg',\n",
    " 'http://imgcomic.naver.net/webtoon/119874/1015/2017052820ㅈ4207_6e9df8e618b97520233bbb35e7d4eaaf_IMAG01_3.jpg',\n",
    "]\n",
    "\n",
    "for image_url in image_urls:\n",
    "\"\"\"    headers = {\n",
    "        'Referer' : \"http://comic.naver.com/webtoon/detail.nhn?titleId=119874&no=1015&weekday=tue\"\n",
    "    }\n",
    "\"\"\"\n",
    "    response = requests.get(image_url)\n",
    "#    response = requests.get(image_url,headers=headers)\n",
    "    image_data = response.content \n",
    "    #.content Raw data, byte 타입 가져오기 / .text : Raw Data에 대해 서버 응답의 content-type 인코딩으로 디코딩을을 시도한 유니코드 문자열\n",
    "    filename = os.path.basename(image_url)\n",
    "    with open(filename, 'wb') as f:\n",
    "        print('writing to {} ({} bytes)'.format(filename, len(image_data)))\n",
    "        f.write(image_data)"
   ]
  },
  {
   "cell_type": "code",
   "execution_count": null,
   "metadata": {
    "collapsed": true
   },
   "outputs": [],
   "source": [
    "image_urls =[]\n",
    "day_urls=[]\n",
    "\n",
    "for i in range(1,100):\n",
    "    if \n",
    "    image_urls.append(\"http://imgcomic.naver.net/webtoon/24965/526/20180110120735_4aaffbed6afd7563f1e770710f24907c_IMAG01_{}.jpg\"\n",
    "                      .format(i))\n",
    "    \n",
    "for image_url in image_urls:\n",
    "    headers = {\n",
    "        'Referer' : \"http://comic.naver.com/webtoon/list.nhn?titleId=20853&weekday=tue\"}\n",
    "#    response = requests.get(image_url)\n",
    "\n",
    "    response = requests.get(image_url,headers=headers)\n",
    "    \n",
    "    image_data = response.content \n",
    "    #.content Raw data, byte 타입 가져오기 / .text : Raw Data에 대해 서버 응답의 content-type 인코딩으로 디코딩을을 시도한 유니코드 문자열\n",
    "    filename = os.path.basename(image_url)\n",
    "    with open(filename, 'wb') as f:\n",
    "        print('writing to {} ({} bytes)'.format(filename, len(image_data)))\n",
    "        f.write(image_data)"
   ]
  }
 ],
 "metadata": {
  "kernelspec": {
   "display_name": "Python 3",
   "language": "python",
   "name": "python3"
  },
  "language_info": {
   "codemirror_mode": {
    "name": "ipython",
    "version": 3
   },
   "file_extension": ".py",
   "mimetype": "text/x-python",
   "name": "python",
   "nbconvert_exporter": "python",
   "pygments_lexer": "ipython3",
   "version": "3.6.1"
  }
 },
 "nbformat": 4,
 "nbformat_minor": 2
}
