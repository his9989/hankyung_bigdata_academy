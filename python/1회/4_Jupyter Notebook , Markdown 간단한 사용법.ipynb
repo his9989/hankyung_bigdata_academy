{
 "cells": [
  {
   "cell_type": "markdown",
   "metadata": {},
   "source": [
    "jupyter notebook는 ipython으로 만들어졌다."
   ]
  },
  {
   "cell_type": "markdown",
   "metadata": {},
   "source": [
    "## 왜 ipython, jupyter notebook을 사용하는가?  \n",
    "\n",
    "ipython\n",
    "1. 대화형 컴퓨터\n",
    "2. 소프트웨어 개발   \n",
    "\n",
    "두 가지 모두를 위해 최적의 생산성을 얻도록 설계    "
   ]
  },
  {
   "cell_type": "markdown",
   "metadata": {},
   "source": [
    "> 다른 프로그래밍 언어와 달리 **'편집-컴파일-실행'** 방식이 아닌\n",
    "**실행-탐색** 방식이다.  \n",
    "\n",
    "> **데이터 분석 프로그래밍은 데이터 탐색, 실험, 오류 판독, 반복이다. **\n",
    "\n",
    "> 따라서 기존 IDE의 스크립트 작성보다 Ipython을 사용하는 이유이다.\n",
    "\n",
    "___"
   ]
  },
  {
   "cell_type": "markdown",
   "metadata": {},
   "source": [
    "# 간단한 jupyter notebook 사용법"
   ]
  },
  {
   "cell_type": "markdown",
   "metadata": {},
   "source": [
    "1. cmd 창 오픈\n",
    "2. 원하는 폴더 위치에서 : jupyter notebook 입력으로 실행\n",
    "3. jupyter notebook 실행 동시에 서버가 실행된다.\n",
    "4. localhost:8888 주소로 웹 프로그램에서 실행된다.\n",
    "5. 서버 프로그램에서 jupyter notebook의 실행 기록, 저장, 등 로그데이터가 쌓인다.\n",
    "6. 서버 종료 시 연결해제"
   ]
  },
  {
   "cell_type": "markdown",
   "metadata": {},
   "source": [
    "---"
   ]
  },
  {
   "cell_type": "markdown",
   "metadata": {},
   "source": [
    "> localhost:8888 주소로 들어가 새로운 ipynb 파일을 만들어 보자   \n",
    "(화면 분할로 실습)\n",
    "\n",
    "1. ipynb 생성\n",
    "2. 이름변경"
   ]
  },
  {
   "cell_type": "markdown",
   "metadata": {},
   "source": [
    "한 실행단위, 블록을 cell 이라 부른다."
   ]
  },
  {
   "cell_type": "markdown",
   "metadata": {},
   "source": [
    "셀은 크게 2 가지로 되어있다.  \n",
    "1. 소스코드 작성, 실행 셀  \n",
    "2. 마크다운 문서  \n",
    "마크다운 문서는 웹문서 작성 도구로 매우 유용하다.  \n",
    "\n",
    "마크다운 문서를 편하게 사용할 수 있다면 정말 유용하다. 매우매우매우!!!!"
   ]
  },
  {
   "cell_type": "markdown",
   "metadata": {},
   "source": [
    "> **  셀 실행(제자리) : ctrl + enter**"
   ]
  },
  {
   "cell_type": "code",
   "execution_count": 8,
   "metadata": {},
   "outputs": [
    {
     "name": "stdout",
     "output_type": "stream",
     "text": [
      "hello\n"
     ]
    }
   ],
   "source": [
    "print(\"hello\")"
   ]
  },
  {
   "cell_type": "markdown",
   "metadata": {},
   "source": [
    "> **  셀 실행(아래로 내려감, 마지막 셀이면 생성) : shift + enter**"
   ]
  },
  {
   "cell_type": "code",
   "execution_count": 7,
   "metadata": {},
   "outputs": [
    {
     "name": "stdout",
     "output_type": "stream",
     "text": [
      "hello world\n"
     ]
    }
   ],
   "source": [
    "print(\"hello world\")"
   ]
  },
  {
   "cell_type": "code",
   "execution_count": null,
   "metadata": {
    "collapsed": true
   },
   "outputs": [],
   "source": []
  },
  {
   "cell_type": "markdown",
   "metadata": {},
   "source": [
    "## 명령모드 - 파란색 \n",
    "\n",
    "## 편집모드 - 초록색 "
   ]
  },
  {
   "cell_type": "markdown",
   "metadata": {},
   "source": [
    "## 명령모드 단축키"
   ]
  },
  {
   "cell_type": "markdown",
   "metadata": {},
   "source": [
    "> **  위로 셀 생성 : 명령모드 + 'a'**"
   ]
  },
  {
   "cell_type": "markdown",
   "metadata": {},
   "source": [
    "> ** 아래로 셀 생성 : 명령모드 + 'b'**"
   ]
  },
  {
   "cell_type": "markdown",
   "metadata": {},
   "source": [
    "> ** 셀 삭제 : 명령모드 + 'd' + 'd' **"
   ]
  },
  {
   "cell_type": "markdown",
   "metadata": {},
   "source": [
    "> ** 셀 복사 : 명령모드 + 'c' **"
   ]
  },
  {
   "cell_type": "markdown",
   "metadata": {},
   "source": [
    "> ** 셀 잘라내기 : 명령모드 + 'x' **"
   ]
  },
  {
   "cell_type": "markdown",
   "metadata": {},
   "source": [
    "> ** 셀 붙여넣기 : 명령모드 + 'v' **"
   ]
  },
  {
   "cell_type": "markdown",
   "metadata": {},
   "source": [
    "> ** markdown 변경 : 명령모드 + 'm' **"
   ]
  },
  {
   "cell_type": "markdown",
   "metadata": {
    "tags": [
     "ddd"
    ]
   },
   "source": [
    "> ** code 변경 : 명령모드 + 'y' **"
   ]
  },
  {
   "cell_type": "markdown",
   "metadata": {},
   "source": [
    "---"
   ]
  },
  {
   "cell_type": "markdown",
   "metadata": {},
   "source": [
    "> ** 문서저장 : crtl + 's' **"
   ]
  },
  {
   "cell_type": "markdown",
   "metadata": {},
   "source": [
    "# 메뉴 설명"
   ]
  },
  {
   "cell_type": "markdown",
   "metadata": {},
   "source": [
    "> ** File - Download as - md, html, pdf 파일로 출력 **"
   ]
  },
  {
   "cell_type": "markdown",
   "metadata": {},
   "source": [
    "> ** View **"
   ]
  },
  {
   "cell_type": "markdown",
   "metadata": {},
   "source": [
    "> ** Kernel  **"
   ]
  },
  {
   "cell_type": "markdown",
   "metadata": {},
   "source": [
    "---"
   ]
  },
  {
   "cell_type": "markdown",
   "metadata": {},
   "source": [
    "# Markdown 문서 작성"
   ]
  },
  {
   "cell_type": "markdown",
   "metadata": {},
   "source": [
    "# 참고\n",
    "#### [Markdown 사용법 1](https://github.com/adam-p/markdown-here/wiki/Markdown-Here-Cheatsheet)\n",
    "\n",
    "#### [Markdown 사용법 한글](https://gist.github.com/ihoneymon/652be052a0727ad59601)\n",
    "\n",
    "#### [현대적인 과학논문 저작](https://statkclee.github.io/modern-scientific-authoring/index-kr.html)"
   ]
  }
 ],
 "metadata": {
  "kernelspec": {
   "display_name": "Python 3",
   "language": "python",
   "name": "python3"
  },
  "language_info": {
   "codemirror_mode": {
    "name": "ipython",
    "version": 3
   },
   "file_extension": ".py",
   "mimetype": "text/x-python",
   "name": "python",
   "nbconvert_exporter": "python",
   "pygments_lexer": "ipython3",
   "version": "3.6.1"
  }
 },
 "nbformat": 4,
 "nbformat_minor": 2
}
